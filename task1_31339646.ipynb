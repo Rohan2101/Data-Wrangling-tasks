{
 "cells": [
  {
   "cell_type": "markdown",
   "metadata": {
    "id": "QCbAmQ47iqK4"
   },
   "source": [
    "<div class=\"alert alert-block alert-success\">\n",
    "    \n",
    "# FIT5196 Task 1 in Assessment 1\n",
    "#### Student Name: Rohan Singh\n",
    "#### Student ID: 31339646\n",
    "\n",
    "Date: 17-04-2023\n",
    "\n",
    "\n",
    "Libraries used:\n",
    "* re (for regular expression, installed and imported) \n",
    "* pandas (for data manipulation) \n",
    "    \n",
    "</div>"
   ]
  },
  {
   "cell_type": "markdown",
   "metadata": {
    "id": "IjBFqYK4iqK5"
   },
   "source": [
    "<div class=\"alert alert-block alert-danger\">\n",
    "    \n",
    "## Table of Contents\n",
    "\n",
    "</div>    \n",
    "\n",
    "[1. Introduction](#Intro) <br>\n",
    "[2. Importing Libraries](#libs) <br>\n",
    "[3. Examining Patent Files](#examine) <br>\n",
    "[4. Loading and Parsing Files](#load) <br>\n",
    "$\\;\\;\\;\\;$[4.1. Defining Regular Expressions](#Reg_Exp) <br>\n",
    "$\\;\\;\\;\\;$[4.2. Reading Files](#Read) <br>\n",
    "$\\;\\;\\;\\;$[4.3. Whatever else](#latin) <br>\n",
    "[5. Writing to CSV/JSON File](#write) <br>\n",
    "$\\;\\;\\;\\;$[5.1. Verification - using the sample files](#test_xml) <br>\n",
    "[6. Summary](#summary) <br>\n",
    "[7. References](#Ref) <br>"
   ]
  },
  {
   "cell_type": "markdown",
   "metadata": {
    "id": "AcbqK3KliqK6"
   },
   "source": [
    "-------------------------------------"
   ]
  },
  {
   "cell_type": "markdown",
   "metadata": {
    "id": "pEFdSCIUiqK6"
   },
   "source": [
    "<div class=\"alert alert-block alert-warning\">\n",
    "\n",
    "## 1.  Introduction  <a class=\"anchor\" name=\"Intro\"></a>\n",
    "    \n",
    "</div>"
   ]
  },
  {
   "cell_type": "markdown",
   "metadata": {
    "id": "cGg4-8VSiqK6"
   },
   "source": [
    "This assessment regards extracting data from semi-sctuctured text files. The dataset contained 500 `.txt` files which included various information about user reviews. In particular, ...."
   ]
  },
  {
   "cell_type": "markdown",
   "metadata": {
    "id": "p6Ql-W6BiqK7"
   },
   "source": [
    "-------------------------------------"
   ]
  },
  {
   "cell_type": "markdown",
   "metadata": {
    "id": "hnctlBF6iqK7"
   },
   "source": [
    "<div class=\"alert alert-block alert-warning\">\n",
    "    \n",
    "## 2.  Importing Libraries  <a class=\"anchor\" name=\"libs\"></a>\n",
    " </div>"
   ]
  },
  {
   "cell_type": "markdown",
   "metadata": {
    "id": "dQOLlwmAiqK7"
   },
   "source": [
    "The only permitted packages to be used in this assessment are imported in the following. They are used to fulfill the following tasks:\n",
    "\n",
    "* **re:** to define and use regular expressions\n",
    "* **pandas:** ..."
   ]
  },
  {
   "cell_type": "code",
   "execution_count": 2,
   "metadata": {
    "id": "mKGO6FAXiqK7"
   },
   "outputs": [],
   "source": [
    "import re\n",
    "import pandas as pd"
   ]
  },
  {
   "cell_type": "code",
   "execution_count": null,
   "metadata": {
    "id": "wMWqFiW4jewp"
   },
   "outputs": [],
   "source": [
    "from google.colab import drive\n",
    "drive.mount('/content/drive')"
   ]
  },
  {
   "cell_type": "markdown",
   "metadata": {
    "id": "3DEWD9qIiqK8"
   },
   "source": [
    "-------------------------------------"
   ]
  },
  {
   "cell_type": "markdown",
   "metadata": {
    "id": "fBEASWLfiqK-"
   },
   "source": [
    "-------------------------------------"
   ]
  },
  {
   "cell_type": "markdown",
   "metadata": {
    "collapsed": true,
    "id": "iDoVeDSHiqK-"
   },
   "source": [
    "<div class=\"alert alert-block alert-warning\"> \n",
    "\n",
    "## 3.  Loading and Parsing Files <a class=\"anchor\" name=\"load\"></a>\n",
    "\n",
    "</div>"
   ]
  },
  {
   "cell_type": "markdown",
   "metadata": {
    "id": "z24HaN8hiqK-"
   },
   "source": [
    "In this section, the files are parsed and processed. First of all, appropriate regular expressions are defined to extract desired information when reading the files. ...."
   ]
  },
  {
   "cell_type": "code",
   "execution_count": 3,
   "metadata": {},
   "outputs": [],
   "source": [
    "f = open(\"31339646.txt\", \"r\").read()"
   ]
  },
  {
   "cell_type": "markdown",
   "metadata": {
    "id": "gQ0tuwvZiqK-"
   },
   "source": [
    "-------------------------------------"
   ]
  },
  {
   "cell_type": "markdown",
   "metadata": {
    "id": "rApp_Ic9iqK-"
   },
   "source": [
    "<div class=\"alert alert-block alert-info\">\n",
    "    \n",
    "### 3.1. Defining Regular Expressions <a class=\"anchor\" name=\"Reg_Exp\"></a>"
   ]
  },
  {
   "cell_type": "markdown",
   "metadata": {
    "id": "knauV0VViqK-"
   },
   "source": [
    "Defining correct regular expressions is crucial in extracting desired information from the text efficiently. ..."
   ]
  },
  {
   "cell_type": "code",
   "execution_count": 4,
   "metadata": {},
   "outputs": [],
   "source": [
    "#This code is used to create a list of all entries by matching all the starting and ending of each xml file in the text.\n",
    "entries = re.findall(r'<\\?xml version=\"1\\.0\" encoding=\"UTF-8\"\\?>.*?<\\/us-patent-grant>', f, re.DOTALL)"
   ]
  },
  {
   "cell_type": "markdown",
   "metadata": {},
   "source": [
    "Each item in the list will be a string that contains the entire XML document, including the XML declaration at the beginning and the root element at the end."
   ]
  },
  {
   "cell_type": "code",
   "execution_count": 5,
   "metadata": {
    "id": "X1m7-oIfiqK_"
   },
   "outputs": [],
   "source": [
    "x= re.findall(r\"US[A-Z1][A-Z0-9]\\d{6}\", f)\n",
    "l = []\n",
    "for x1 in x:\n",
    "    if x1 not in l:\n",
    "        l.append(x1)"
   ]
  },
  {
   "cell_type": "markdown",
   "metadata": {},
   "source": [
    "This regular expression is looking for a string that starts with \"US\", followed by one uppercase letter or the number 1, followed by another uppercase letter or a digit from 0 to 9, and ends with exactly six digits. The next part of the code is used to create a new list l that contains only the unique elements from an existing list x."
   ]
  },
  {
   "cell_type": "code",
   "execution_count": 6,
   "metadata": {},
   "outputs": [],
   "source": [
    "y = re.findall(r\"<invention-title id.+>(.+)<\\/invention-title>\", f)\n",
    "for index, t in enumerate(y):\n",
    "    if '&#x2018;' and '&#x2019;' in t: \n",
    "        t = t.replace('&#x2018;',\"\\'\")\n",
    "        t = t.replace('&#x2019;',\"\\'\")\n",
    "        y[index] = t"
   ]
  },
  {
   "cell_type": "markdown",
   "metadata": {},
   "source": [
    "This pattern looks for a string that starts with <invention-title id, followed by any number of characters (denoted by the .+), then a >, then a string that ends with </invention-title>. After that if t contains both the two Unicode characters then they are replaced with a \\ using the replace method. The updated string t is then assigned to the original list y at the current index using the y[index] = t syntax."
   ]
  },
  {
   "cell_type": "code",
   "execution_count": 21,
   "metadata": {},
   "outputs": [],
   "source": [
    "e = re.findall(f'<application-reference appl-type=\"([a-z]+)\">', f)\n",
    "for index,p in enumerate(e):\n",
    "    if p == \"utility\":\n",
    "        e4 = re.search('<kind>B(.)<\\/kind>',entries[index])\n",
    "        #if p is utility then we search the entry of same index as application to get the kind value of B1 or B2 \n",
    "        if e4[1] == '2':\n",
    "            #if the kind value is B2 then we print the following code\n",
    "            e[index] = \"Utility Patent Grant (with a published application) issued on or after January 2, 2001.\"\n",
    "        else:\n",
    "            #else the kind value is B1 and we print the following code\n",
    "            e[index] = \"Utility Patent Grant (no published application)\"\n",
    "    elif p == \"design\":\n",
    "        e[index] = \"Design Patent\"\n",
    "    elif p == \"reissue\":\n",
    "        e[index] = \"Reissue Patent\"\n",
    "    elif p == \"plant\":\n",
    "        e5 = re.search('<kind>B(.)<\\/kind>',entries[index])\n",
    "        #if p is plant then we search the entry of same index as application to get the kind value of B1 or B2 \n",
    "        if e5[1] == '2':\n",
    "            #if the kind value is B2 then we print the following code\n",
    "            e[index] = \"Plant Patent Grant (with a published application) issued on or after January 2, 2001\"\n",
    "        else:\n",
    "            #else the kind value is B1 and we print the following code\n",
    "            e[index] = \"Plant Patent Grant (no published application)\""
   ]
  },
  {
   "cell_type": "markdown",
   "metadata": {},
   "source": [
    "This regular expression matches a this pattern within an XML file where the application-reference tag has an attribute appl-type with a value consisting of one or more lowercase letters. The () in the regular expression indicate a capturing group that is used to extract this lowercase letter string."
   ]
  },
  {
   "cell_type": "code",
   "execution_count": 8,
   "metadata": {},
   "outputs": [],
   "source": [
    "b = re.findall(\"<number-of-claims>(.+)<\\/number-of-claims>\",f)"
   ]
  },
  {
   "cell_type": "markdown",
   "metadata": {},
   "source": [
    "Here we use the following regex to find the total number of claims by matching the number of claims tags the extracting it internal value using a group and assinging the list of value into a variable. \n"
   ]
  },
  {
   "cell_type": "code",
   "execution_count": 9,
   "metadata": {},
   "outputs": [],
   "source": [
    "h1 = re.findall(f\"<inventors>.*?<\\/inventors>\",f,re.DOTALL)"
   ]
  },
  {
   "cell_type": "markdown",
   "metadata": {},
   "source": [
    "Here we use the following regex to find all the inventors lists in the xml file by matching the starting and closing of the inventors tags and assigning it into a variable h1"
   ]
  },
  {
   "cell_type": "code",
   "execution_count": 10,
   "metadata": {},
   "outputs": [],
   "source": [
    "inventor = []\n",
    "for h4 in h1:\n",
    "    h2 = re.findall(r\"<inventor .*?<\\/inventor>\",h4,re.DOTALL)\n",
    "    inventor.append(h2)"
   ]
  },
  {
   "cell_type": "markdown",
   "metadata": {},
   "source": [
    "This code extracts all instances of the inventor tag from a list of inventors and stores them into a list called inventor"
   ]
  },
  {
   "cell_type": "code",
   "execution_count": 11,
   "metadata": {},
   "outputs": [],
   "source": [
    "last_first = []\n",
    "#initalizing intitial lists\n",
    "last_first1 = []\n",
    "for h5 in inventor:\n",
    "    last_first1 = []\n",
    "    for h6 in h5:\n",
    "        h3 = re.findall(r\"<last-name>(.+)<\\/last-name>\\n<first-name>(.+)<\\/first-name>\", h6, re.DOTALL)\n",
    "        last_first1.append(h3)\n",
    "    last_first.append(last_first1)"
   ]
  },
  {
   "cell_type": "markdown",
   "metadata": {},
   "source": [
    "The outer loop iterates through each <inventor> tag extracted from the patent file by the previous code. The inner loop iterates through each <inventor> tag's name fields, and extracts the last and first name using regex pattern. The extracted names for each <inventor> tag are then appended to the last_first1 list. Finally, the last_first1 list is appended to the last_first list, which contains the names of all inventors for the patent."
   ]
  },
  {
   "cell_type": "code",
   "execution_count": 12,
   "metadata": {},
   "outputs": [
    {
     "name": "stdout",
     "output_type": "stream",
     "text": [
      "Robert Emmitt Connely, IV\n",
      "Bryant Paul Castleton\n",
      "James Tropauer\n",
      "Saurabh Mathur\n",
      "Gil Barak\n",
      "Yukihiko Kubo\n",
      "Daita Itoi\n",
      "Michael I. Falkel\n",
      "George Maxim\n",
      "Marcus Granger-Jones\n",
      "Toshiaki Moriuchi\n",
      "Dirk Robert Walter Leipold\n",
      "Baker Scott\n",
      "Bonggyun Kang\n",
      "Nam-Gon Choi\n",
      "Gigeun Kim\n",
      "Jinpil Kim\n",
      "Seunghwan Moon\n",
      "Dongwon Park\n",
      "Jaesung Bae\n",
      "Donghwa Shin\n",
      "Dean Krieter\n",
      "Salvador Lopez\n",
      "Christopher Trinco\n",
      "Katherine Rose Swindler\n",
      "Trina Uzee\n",
      "Jon Brian Ehlen\n",
      "Alex James\n",
      "Donald A. Perlick\n",
      "Thomas Salmon\n",
      "Bang Kim Cao\n",
      "Rolf Freimann\n",
      "Bernd Doerband\n",
      "Jochen Hetzler\n",
      "Siyu Fang\n",
      "Han Xiao\n",
      "Yuqiang Zhao\n",
      "Jingjing Wang\n",
      "Luan Qin\n",
      "Huanlong Wu\n",
      "Weijun Liang\n",
      "Xiaobo Su\n",
      "Qijian Yang\n",
      "Ye Yuan\n",
      "Ke Mu\n",
      "Zou Zhibin\n",
      "Yuichi Otani\n",
      "Takuya Seino\n",
      "Jinnyoung Heo\n",
      "Sanggu Kim\n",
      "Hyemin Seo\n",
      "Sungguk An\n",
      "Dongjin Jeong\n",
      "Szu-Ying Chen\n",
      "Tzu-Jui Wang\n",
      "Jen-Cheng Liu\n",
      "Dun-Nian Yaung\n",
      "James R. Selevan\n",
      "Daniel Joseph Selevan\n",
      "Hee Seo Chae\n",
      "Jik Han Jung\n",
      "Yun Geun Choe\n",
      "Chao Yao\n",
      "Yunchao Zhang\n",
      "Yuan Lin\n",
      "Zhiqiang Sun\n",
      "Lieyi Fang\n",
      "Jesper Mikael Johansson\n",
      "Darren Ernest Canavor\n",
      "Daniel Wade Hitchcock\n",
      "Bharath Kumar Bhimanaik\n",
      "Guangming Shi\n",
      "Shinichi Kuroda\n",
      "Hiroaki Takano\n",
      "Jiyun Kim\n",
      "ChangJae Jang\n",
      "Kyungah Chin\n",
      "JinHwan Kim\n",
      "Jongchan Park\n",
      "Hyunchul Um\n",
      "Eunkyung Seong\n",
      "Maria Caterina Turco\n",
      "Alexandre A. Baidak\n",
      "Patrick Terence McGrail\n",
      "Runsu Ning\n",
      "Jingren Tang\n",
      "Zanyuan Wang\n",
      "Haifeng Han\n",
      "Xuejing Cheng\n",
      "Xu Yi\n",
      "Zhen Cui\n",
      "Jinxing Hu\n",
      "Jian Dong\n",
      "Dan Li\n",
      "Marta Alice Fattorossi\n",
      "Massimiliano Pipolo\n",
      "Mircea Rosca\n",
      "Jamy Bulan\n",
      "Ziqian Wu\n",
      "Min Huang\n",
      "Xian Zhang\n",
      "Kevin McClelland\n",
      "Steve E. Williams\n",
      "Colin Arthur Cranstone\n",
      "Yong Jun Heo\n",
      "Ronald S. Cok\n",
      "Robert R. Rotzoll\n",
      "Gangyi Jiang\n",
      "Mei Yu\n",
      "Shengli Fan\n",
      "Yigang Wang\n",
      "Paul Pieter Willem van Grinsven\n",
      "Kurtis Rykovich\n",
      "Brad Jackson\n",
      "Rick Williams\n",
      "John Nguyen\n",
      "Anthony Huynh\n",
      "Maurizio V. Cattaneo\n",
      "Remco A. Spanjaard\n",
      "Soo Mi Oh\n",
      "Moonock Yang\n",
      "Jian-ping Pan\n",
      "Yijian Lin\n",
      "Xiao Bing Yun\n",
      "Mehmet Demirors\n",
      "Tomoyuki Nagata\n",
      "Koichi Nakagawa\n",
      "Shinichiro Tsudaka\n",
      "Weiping Xu\n",
      "Yuanlong Jiang\n",
      "Charles H. Clark\n",
      "Ming Lung Huang\n",
      "Frederick Phillip Cable\n",
      "Daniel L. Orange\n",
      "Yosuke Ishihara\n",
      "Takeshi Miyakawa\n",
      "Shinya Narita\n",
      "Akihiro Shimizu\n",
      "Terukazu Senda\n",
      "Masanori Muramatsu\n",
      "Kouji Hamakawa\n",
      "Kenzou Mima\n",
      "Kouji Yamashiro\n",
      "Sally Carter\n",
      "Gerald Hodgkinson\n",
      "Richard Stevenson\n",
      "Arthur Hislop\n",
      "Ernest Aranyi\n",
      "Jennifer (Whiffen) Diederich\n",
      "John Martin\n",
      "Daniel Sargeant\n",
      "F. Grant Kovach\n",
      "Gamir Shrestha\n",
      "Jian-Shiou Huang\n",
      "Bang-Tai Tang\n",
      "Chih-Tang Peng\n",
      "Tai-Chun Huang\n",
      "Yen-Chun Huang\n",
      "Iwao Nitta\n",
      "Naotaka Sawada\n",
      "Nobuaki Takazawa\n",
      "Yoshihito Tada\n",
      "Noburu Takakura\n",
      "Zhiwei A. Xu\n",
      "Yen-Cheng Kuan\n",
      "Cynthia D. Baringer\n",
      "Hasan Sharifi\n",
      "James Chingwei Li\n",
      "Donald A. Hitko\n",
      "Jordan M. Rice\n",
      "Allan M. Schrock\n",
      "Steven H. Walker\n",
      "Kate Richmond\n",
      "Andreas Heinrich Steier\n",
      "Ndikum Protus Atang\n",
      "Macgregor Felix\n",
      "Senthil Natesan\n",
      "Trent Williams\n",
      "Pingzhi Li\n",
      "Minyi Chen\n",
      "Xihui Jiang\n",
      "Satoru Takada\n",
      "Akihiko Tatsumi\n",
      "Takuya Kaminaga\n",
      "Tomoaki Sugiyama\n",
      "Saki Miyakawa\n",
      "Shu-Qing Liu\n",
      "Frederik Verwaest\n",
      "Hiroshi Nishimura\n",
      "Hitoki Sugimoto\n",
      "Taekdong Chung\n",
      "Jinyoung Lee\n",
      "Leiming Wang\n",
      "Ting Xu\n",
      "Hayato Mori\n",
      "Shuntaro Inoue\n",
      "Shoutaro Yamamoto\n",
      "Katsuaki Nagahashi\n",
      "Michael T. Mohen\n",
      "Raman Walia\n",
      "Chandra Mouli Addaguduru\n",
      "Pardeep Kumar\n",
      "Hiroki Yamaguchi\n",
      "Takuto Maeda\n",
      "Lawrence Spracklen\n",
      "Banit Agrawal\n",
      "Rishi Bidarkar\n",
      "Robert Harrison\n",
      "Neil Godara\n",
      "Laura Man Yee Yu\n",
      "Jay Endsley\n",
      "Thomas Vogelsang\n",
      "Craig M. Smith\n",
      "Michael Guidash\n",
      "Alexander C. Schneider\n",
      "Frederik De Medts\n",
      "John Andrew Griffiths\n",
      "Matthew Theobald\n",
      "Stephen A. Wiley\n",
      "Egbert Carolus Johannes Smits\n",
      "Cl&#xe9;ment Michel Bernard Morice\n",
      "Satoru Endo\n",
      "Lisa Seacat DeLuca\n",
      "Anthony S. Montevirgen\n",
      "Emery A. Sanford\n",
      "Stephen B. Lynch\n",
      "Eliseba Costantini\n",
      "Alice Guidotti\n",
      "Daniele Morgantini\n",
      "Marco Vettori\n",
      "Yael Porat\n",
      "Valentin Fulga\n",
      "Svetlana Porozov\n",
      "Adina Belleli\n",
      "Yuying Cai\n",
      "Thomas A. Howell\n",
      "David Chao\n",
      "C. Douglass Thomas\n",
      "Peter P. Tong\n",
      "Shintaro Anno\n",
      "Hiroaki Saijo\n",
      "Takuro Watanabe\n",
      "Yasuaki Hashimoto\n",
      "Fusako Kiyono\n",
      "Steven van Wagensveld\n",
      "Curt Graham\n",
      "Dave Schulte\n",
      "Bryant Lynch\n",
      "Igor Akrapovic\n",
      "Matjaz Zonta\n",
      "Roman Hafnar\n",
      "Marko Glavic\n",
      "Luka Zagar\n",
      "Kazuhiro Miyamura\n",
      "Koji Ueda\n",
      "Hyung Sik Won\n",
      "Hae Rang Choi\n",
      "Michael Cheskis\n",
      "Yigal Becker\n",
      "Carlos Luis Araya\n",
      "David Moloney\n",
      "Richard Richmond\n",
      "David Donohoe\n",
      "Brendan Barry\n",
      "Mitsutoshi Jinno\n",
      "Hiroyuki Miyoshi\n",
      "Hiroyuki Tanaka\n",
      "Yoshihiko Terashita\n",
      "Devon Bernard\n",
      "Kevin Lyman\n",
      "Li Yao\n",
      "Anthony Upton\n",
      "Ben Covington\n",
      "Jeremy Howard\n",
      "Carolina Amador Carrascal\n",
      "Matthew W. Urban\n",
      "Shigao Chen\n",
      "James F. Greenleaf\n",
      "Dawn M. Simmons\n",
      "John J. Simmons\n",
      "David A. Smith\n",
      "Andre Brosseau\n",
      "Svitlana Moskovchenko\n",
      "Hiroki Kayoiji\n",
      "Sri Rahardjo\n",
      "Zhizhang Zhou\n",
      "Sekhar Sumanth Gorajala Chandra\n",
      "Yoshihide Komatsu\n",
      "Pablo Gonzalez\n",
      "Kurt Wostyn\n",
      "Hans Mertens\n",
      "Liesbeth Witters\n",
      "Andriy Hikavyy\n",
      "Naoto Horiguchi\n",
      "Damien Michael Patton\n",
      "Rish Mehta\n",
      "Lihong Wang\n",
      "Liang Song\n",
      "Konstantin Maslov\n",
      "Bin Rao\n",
      "Zachary Dolph Hornby\n",
      "Gang Li\n",
      "David Wesley Anderson\n",
      "Garrett M Brodeur\n",
      "Radhika Iyer\n",
      "Mikihiko Ito\n",
      "Masaru Koyanagi\n",
      "Shintaro Hayashi\n",
      "Atul Kabra\n",
      "Michael Hughes\n",
      "John Teddy\n",
      "Milan Momcilo Popovich\n",
      "Jonathan David Waldern\n",
      "Yasuo Suzuki\n",
      "Michael E. Tompkins\n",
      "Hui Chen\n",
      "Robert A. Lunnemann\n",
      "Bradley N. Jones\n",
      "Marc D. Mayer\n",
      "Jun Eguchi\n",
      "Shang-Tai Yeh\n",
      "Masahiro Asano\n",
      "Yuriko Nishihara\n",
      "Eric Myers\n",
      "John Peter Bilezikjian\n",
      "Victor M Cintron\n",
      "Todd Kuiken\n",
      "James Lipsey\n",
      "Tommaso Lenzi\n",
      "Marco Cempini\n",
      "Ali Kermani\n",
      "Corville O. Allen\n",
      "Faheem Altaf\n",
      "Robert E. Loredo\n",
      "Henri F. Meli\n",
      "Isaac Thomas Miller\n",
      "James Crosby\n",
      "Marcus Chang\n",
      "Edgar S. Maldonado\n",
      "Silvia Daniela Gonzales\n",
      "Martin Sekanina\n",
      "Lukas Marsoun\n",
      "Rudolf Melezinek\n",
      "Jiri Cerny\n",
      "Edward Louis Harber\n",
      "Phillip C. Hombroek\n",
      "Christopher G. Hoppe\n",
      "Heather M. Bosko\n",
      "Deborah A. Furman\n",
      "Bradley M. Messer\n",
      "Anthony T. Sofia\n",
      "Wei Pu\n",
      "Marta Karczewicz\n",
      "Joel Sole Rojals\n",
      "Liwei Guo\n",
      "Rajan Laxman Joshi\n",
      "Feng Zou\n",
      "Jens Drachmann\n",
      "Alice M. Chun\n",
      "Bernhard Durschang\n",
      "J&#xf6;rn Probst\n",
      "Norbert Thiel\n",
      "Joachim Bibus\n",
      "Markus Vollmann\n",
      "Udo Schusser\n",
      "Valerian Dottel\n",
      "Wesley I. Sundquist\n",
      "Eiji Morita\n",
      "Jun Arii\n",
      "Klaus Vestergaard Kragelund\n",
      "Jan Plougmann\n",
      "Jan Car&#xf8;e Aarestrup\n",
      "Takashi Ando\n",
      "Eduard A. Cartier\n",
      "Kisik Choi\n",
      "Vijay Narayanan\n",
      "Steffen Simon\n",
      "Christopher David Sachs\n",
      "Axel Bernhard Cremer\n",
      "Jan Heinsohn\n",
      "Tokuhisa Matsukane\n",
      "Keisuke Imai\n",
      "Takeshi Hashimoto\n",
      "Tetsuo Watanabe\n",
      "Hideyuki Morita\n",
      "Takatomi Kumagai\n",
      "Yasuhiro Fujita\n",
      "Kazutomo Fukue\n",
      "Xiaona Zhao\n",
      "Xinmiao Chang\n",
      "Brian J. Ecklund\n",
      "Jay R. Roberts\n",
      "Bernadette Alexia Carter\n",
      "Daniel Frederick Meyer\n",
      "Keiichi Katayama\n",
      "Sanhita Sarkar\n",
      "Kannan J. Somangili\n",
      "Shanker Valipireddy\n",
      "Harold Woods\n",
      "Danielle H. Demers\n",
      "Bill J. Baker\n",
      "Ala Azhari\n",
      "Renee M. Fleeman\n",
      "Dennis E. Kyle\n",
      "Lindsey Neil Shaw\n",
      "Francois Roy\n",
      "Hudong Chen\n",
      "Raoyang Zhang\n",
      "Matthew Jaszcar\n",
      "Robert M. Belan\n",
      "Kurt John Lesker, III\n",
      "Jon Ash\n",
      "Shawn Meine\n",
      "Anumeha Narain\n",
      "Clayton Reitz\n",
      "David Taggart\n",
      "James N. White\n",
      "Monica Rose Martino\n",
      "M. Gregory Smith\n",
      "Abdulrahman Ibrahim Almansour\n",
      "Raju Suresh Kumar\n",
      "Natarajan Arumugam\n",
      "Kotresha Dupadahalli\n",
      "Jose Carlos Menendez\n",
      "Dennis Ray Wells\n",
      "Rodney C. Schoenfelder\n",
      "Cyle D. Petersen\n",
      "Kamlesh G. Patel\n",
      "Jonathan R. Kaml\n",
      "Matthew Holmberg\n",
      "James J. Solheid\n",
      "Dennis Krampotich\n",
      "Philipp Schedl\n"
     ]
    }
   ],
   "source": [
    "last_first4 = []\n",
    "for i2 in last_first:\n",
    "    last_first3 = []\n",
    "    for i3 in i2:\n",
    "        last_first2 = []\n",
    "        for i4 in i3:\n",
    "            print(i4[1] +' ' + i4[0])\n",
    "            i5 = i4[1] +' ' + i4[0]\n",
    "            last_first2.append(i5)\n",
    "        last_first3.append(last_first2)    \n",
    "    last_first4.append(last_first3)  "
   ]
  },
  {
   "cell_type": "markdown",
   "metadata": {},
   "source": [
    "This code initializes an empty list last_first4, then loops through each element i2 in the last_first list. For each i2, it initializes an empty list last_first3, then loops through each element i3 in i2. For each i3, it initializes an empty list last_first2, then loops through each element i4 in i3. For each i4, it concatenates the second element in the string which is the first name with a space and the first element which is the last name), and appends the resulting string i5 to last_first2. Finally, it appends last_first2 to last_first3 and last_first3 to last_first4. The resulting last_first4 list will contain the first and last names of all inventors, with each name represented as a string."
   ]
  },
  {
   "cell_type": "code",
   "execution_count": 13,
   "metadata": {},
   "outputs": [],
   "source": [
    "citations = []\n",
    "for e in entries:\n",
    "    citation = re.findall(r\"<us-references-cited>.*?<\\/us-references-cited>\", e, re.DOTALL)\n",
    "    citations.append(citation)"
   ]
  },
  {
   "cell_type": "markdown",
   "metadata": {},
   "source": [
    "for each entry of xml in the txt file we match the us reference cited tags to get the citaions in a list"
   ]
  },
  {
   "cell_type": "code",
   "execution_count": 14,
   "metadata": {},
   "outputs": [],
   "source": [
    "examiner = []\n",
    "for c1 in citations:\n",
    "    if not c1:\n",
    "        examiner.append(0)\n",
    "    else:    \n",
    "        for c2 in c1:\n",
    "            c10 = re.findall(r\"cited by examiner\",c2)\n",
    "            examiner.append(len(c10))"
   ]
  },
  {
   "cell_type": "markdown",
   "metadata": {},
   "source": [
    "Here we create a list called examiner that will contain the number of times each patent in citations has been cited by an examiner. We first check if c1 is empty or not, if c1 is empty, it means that the patent has not been cited by anyone, so examiner will append 0. Otherwise, it will loop through each citation c2 for that patent in c1. It will then search for the string \"cited by examiner\" in c2 using the re.findall() function and store the matches in c10. The length of c10 gives the number of times that the patent has been cited by an examiner, which is then appended to the examiner list."
   ]
  },
  {
   "cell_type": "code",
   "execution_count": 15,
   "metadata": {},
   "outputs": [],
   "source": [
    "applicant = []\n",
    "for c1 in citations:\n",
    "    if not c1:\n",
    "        applicant.append(0)\n",
    "    else:    \n",
    "        for c2 in c1:\n",
    "            c10 = re.findall(r\"cited by applicant\",c2)\n",
    "            applicant.append(len(c10))"
   ]
  },
  {
   "cell_type": "markdown",
   "metadata": {},
   "source": [
    "Here we use the same logic as before to create a list called applicant that will contain the number of times each patent in citations has been cited by an applicant. We first check if c1 is empty or not, if c1 is empty, it means that the patent has not been cited by anyone, so applicant will append 0. Otherwise, it will loop through each citation c2 for that patent in c1. It will then search for the string \"cited by applicant\" in c2 using the re.findall() function and store the matches in c10. The length of c10 gives the number of times that the patent has been cited by an applicant, which is then appended to the applicant list."
   ]
  },
  {
   "cell_type": "code",
   "execution_count": 16,
   "metadata": {},
   "outputs": [],
   "source": [
    "claims = re.findall(r'<claims id=\"claims\">.*?<\\/claims>', f, re.DOTALL)"
   ]
  },
  {
   "cell_type": "markdown",
   "metadata": {},
   "source": [
    "Here we match all the claim id tags in the entire text and store them in a list called claims to extract the each claims text for each xml."
   ]
  },
  {
   "cell_type": "code",
   "execution_count": 17,
   "metadata": {},
   "outputs": [],
   "source": [
    "claims_all = []\n",
    "for t6 in claims:\n",
    "    cl = []\n",
    "    t5 = re.sub(r'<.*?>','',t6)\n",
    "    alll = re.sub('\\n','',t5)\n",
    "    cl.append(alll)\n",
    "    claims_all.append(cl)"
   ]
  },
  {
   "cell_type": "markdown",
   "metadata": {},
   "source": [
    "Here iternate through the claims list and remove all the html tags and new line characters from it and append it into a new list called claims_all"
   ]
  },
  {
   "cell_type": "code",
   "execution_count": 18,
   "metadata": {},
   "outputs": [],
   "source": [
    "abstracts = []\n",
    "for c50 in entries:\n",
    "    c52 = re.findall(r'<abstract id=\"abstract\">.*?</abstract>',c50,re.DOTALL)\n",
    "    abstracts.append(c52)"
   ]
  },
  {
   "cell_type": "markdown",
   "metadata": {},
   "source": [
    "Here iternate through all the entries to match all the abstracts and extract it"
   ]
  },
  {
   "cell_type": "code",
   "execution_count": 19,
   "metadata": {},
   "outputs": [],
   "source": [
    "all_abstracts = []\n",
    "for c60 in abstracts:\n",
    "    if not c60:\n",
    "        all_abstracts.append(\"NA\")\n",
    "    else:    \n",
    "        for c61 in c60:\n",
    "            c62 = re.sub(r'<.*?>','',c61)\n",
    "            c63 = re.sub('\\n','',c62)\n",
    "            all_abstracts.append(c63)"
   ]
  },
  {
   "cell_type": "markdown",
   "metadata": {},
   "source": [
    "In this code we iternate through the list of abstracts we stored in the variable abstracts before and clean up the text by removing HTML tags and newlines using the regular expressions. The cleaned-up text is then appended to the list all_abstracts."
   ]
  },
  {
   "cell_type": "markdown",
   "metadata": {
    "id": "gZ-njkJciqK_"
   },
   "source": [
    "-------------------------------------"
   ]
  },
  {
   "cell_type": "markdown",
   "metadata": {
    "collapsed": true,
    "id": "KVwmp1LfiqLE"
   },
   "source": [
    "<div class=\"alert alert-block alert-warning\"> \n",
    "\n",
    "## 4.  Writing to CSV/JSON File <a class=\"anchor\" name=\"write\"></a>\n",
    "\n",
    "</div>"
   ]
  },
  {
   "cell_type": "code",
   "execution_count": 23,
   "metadata": {
    "id": "tFHcHFPGiqLE"
   },
   "outputs": [
    {
     "data": {
      "text/html": [
       "<div>\n",
       "<style scoped>\n",
       "    .dataframe tbody tr th:only-of-type {\n",
       "        vertical-align: middle;\n",
       "    }\n",
       "\n",
       "    .dataframe tbody tr th {\n",
       "        vertical-align: top;\n",
       "    }\n",
       "\n",
       "    .dataframe thead th {\n",
       "        text-align: right;\n",
       "    }\n",
       "</style>\n",
       "<table border=\"1\" class=\"dataframe\">\n",
       "  <thead>\n",
       "    <tr style=\"text-align: right;\">\n",
       "      <th></th>\n",
       "      <th>grant_id</th>\n",
       "      <th>patent_title</th>\n",
       "      <th>kind</th>\n",
       "      <th>number_of_claims</th>\n",
       "      <th>inventors</th>\n",
       "      <th>citations_applicant_count</th>\n",
       "      <th>citations_examiner_count</th>\n",
       "      <th>claims_text</th>\n",
       "      <th>abstract</th>\n",
       "    </tr>\n",
       "  </thead>\n",
       "  <tbody>\n",
       "    <tr>\n",
       "      <th>0</th>\n",
       "      <td>US10360997</td>\n",
       "      <td>Systems and methods for automatically detectin...</td>\n",
       "      <td>Utility Patent Grant (with a published applica...</td>\n",
       "      <td>20</td>\n",
       "      <td>[[Robert Emmitt Connely, IV], [Bryant Paul Cas...</td>\n",
       "      <td>57</td>\n",
       "      <td>3</td>\n",
       "      <td>[1. A system for detecting healthcare gap info...</td>\n",
       "      <td>Systems and methods for surfacing contextually...</td>\n",
       "    </tr>\n",
       "    <tr>\n",
       "      <th>1</th>\n",
       "      <td>US10360381</td>\n",
       "      <td>Detection of persistent threats in a computeri...</td>\n",
       "      <td>Utility Patent Grant (with a published applica...</td>\n",
       "      <td>21</td>\n",
       "      <td>[[Gil Barak]]</td>\n",
       "      <td>2</td>\n",
       "      <td>1</td>\n",
       "      <td>[1. A method for detecting persistent threats ...</td>\n",
       "      <td>A system is used for detection of advanced per...</td>\n",
       "    </tr>\n",
       "    <tr>\n",
       "      <th>2</th>\n",
       "      <td>US10358000</td>\n",
       "      <td>Tire for two-wheeled motor vehicle</td>\n",
       "      <td>Utility Patent Grant (with a published applica...</td>\n",
       "      <td>15</td>\n",
       "      <td>[[Yukihiko Kubo], [Daita Itoi]]</td>\n",
       "      <td>18</td>\n",
       "      <td>3</td>\n",
       "      <td>[1. A tire for a two-wheeled motor vehicle in ...</td>\n",
       "      <td>A tire center slant groove near tread surface ...</td>\n",
       "    </tr>\n",
       "    <tr>\n",
       "      <th>3</th>\n",
       "      <td>US10357342</td>\n",
       "      <td>Digital dental examination and documentation</td>\n",
       "      <td>Utility Patent Grant (with a published applica...</td>\n",
       "      <td>20</td>\n",
       "      <td>[[Michael I. Falkel]]</td>\n",
       "      <td>335</td>\n",
       "      <td>2</td>\n",
       "      <td>[1. A method of electronically diagnosing and ...</td>\n",
       "      <td>Systems and methods are disclosed for processi...</td>\n",
       "    </tr>\n",
       "    <tr>\n",
       "      <th>4</th>\n",
       "      <td>US10361667</td>\n",
       "      <td>Low noise amplifier circuit</td>\n",
       "      <td>Utility Patent Grant (with a published applica...</td>\n",
       "      <td>17</td>\n",
       "      <td>[[George Maxim], [Marcus Granger-Jones], [Tosh...</td>\n",
       "      <td>29</td>\n",
       "      <td>1</td>\n",
       "      <td>[1. A low noise amplifier (LNA) circuit compri...</td>\n",
       "      <td>Embodiments of the disclosure relate to a low ...</td>\n",
       "    </tr>\n",
       "    <tr>\n",
       "      <th>...</th>\n",
       "      <td>...</td>\n",
       "      <td>...</td>\n",
       "      <td>...</td>\n",
       "      <td>...</td>\n",
       "      <td>...</td>\n",
       "      <td>...</td>\n",
       "      <td>...</td>\n",
       "      <td>...</td>\n",
       "      <td>...</td>\n",
       "    </tr>\n",
       "    <tr>\n",
       "      <th>145</th>\n",
       "      <td>US10359069</td>\n",
       "      <td>Bracket mount for securing solar panel rail gu...</td>\n",
       "      <td>Utility Patent Grant (with a published applica...</td>\n",
       "      <td>9</td>\n",
       "      <td>[[Jon Ash], [Shawn Meine], [Anumeha Narain], [...</td>\n",
       "      <td>19</td>\n",
       "      <td>7</td>\n",
       "      <td>[1. A method of installing an apparatus for su...</td>\n",
       "      <td>In various representative aspects, an assembly...</td>\n",
       "    </tr>\n",
       "    <tr>\n",
       "      <th>146</th>\n",
       "      <td>US10362471</td>\n",
       "      <td>Providing information to a mobile device based...</td>\n",
       "      <td>Utility Patent Grant (no published application)</td>\n",
       "      <td>18</td>\n",
       "      <td>[[James N. White], [Monica Rose Martino], [M. ...</td>\n",
       "      <td>26</td>\n",
       "      <td>25</td>\n",
       "      <td>[1. A method, comprising:identifying an event ...</td>\n",
       "      <td>A system, method, and non-transitory computer ...</td>\n",
       "    </tr>\n",
       "    <tr>\n",
       "      <th>147</th>\n",
       "      <td>US10357485</td>\n",
       "      <td>Anti-cancer compound</td>\n",
       "      <td>Utility Patent Grant (no published application)</td>\n",
       "      <td>8</td>\n",
       "      <td>[[Abdulrahman Ibrahim Almansour], [Raju Suresh...</td>\n",
       "      <td>8</td>\n",
       "      <td>4</td>\n",
       "      <td>[1. An anti-cancer compound, comprising the fo...</td>\n",
       "      <td>An anti-cancer compound is a compound having t...</td>\n",
       "    </tr>\n",
       "    <tr>\n",
       "      <th>148</th>\n",
       "      <td>US10359593</td>\n",
       "      <td>Bladed chassis systems</td>\n",
       "      <td>Utility Patent Grant (with a published applica...</td>\n",
       "      <td>26</td>\n",
       "      <td>[[Dennis Ray Wells], [Rodney C. Schoenfelder],...</td>\n",
       "      <td>42</td>\n",
       "      <td>2</td>\n",
       "      <td>[1. A chassis system comprising:a housing incl...</td>\n",
       "      <td>A bladed chassis system facilitates installati...</td>\n",
       "    </tr>\n",
       "    <tr>\n",
       "      <th>149</th>\n",
       "      <td>US10359088</td>\n",
       "      <td>Self-locking gear and people conveyor comprisi...</td>\n",
       "      <td>Utility Patent Grant (with a published applica...</td>\n",
       "      <td>15</td>\n",
       "      <td>[[Philipp Schedl]]</td>\n",
       "      <td>20</td>\n",
       "      <td>9</td>\n",
       "      <td>[1. A self-locking gear (20) comprising:a rota...</td>\n",
       "      <td>A people conveyor (10) comprises: a chain of c...</td>\n",
       "    </tr>\n",
       "  </tbody>\n",
       "</table>\n",
       "<p>150 rows × 9 columns</p>\n",
       "</div>"
      ],
      "text/plain": [
       "       grant_id                                       patent_title  \\\n",
       "0    US10360997  Systems and methods for automatically detectin...   \n",
       "1    US10360381  Detection of persistent threats in a computeri...   \n",
       "2    US10358000                 Tire for two-wheeled motor vehicle   \n",
       "3    US10357342       Digital dental examination and documentation   \n",
       "4    US10361667                        Low noise amplifier circuit   \n",
       "..          ...                                                ...   \n",
       "145  US10359069  Bracket mount for securing solar panel rail gu...   \n",
       "146  US10362471  Providing information to a mobile device based...   \n",
       "147  US10357485                               Anti-cancer compound   \n",
       "148  US10359593                             Bladed chassis systems   \n",
       "149  US10359088  Self-locking gear and people conveyor comprisi...   \n",
       "\n",
       "                                                  kind number_of_claims  \\\n",
       "0    Utility Patent Grant (with a published applica...               20   \n",
       "1    Utility Patent Grant (with a published applica...               21   \n",
       "2    Utility Patent Grant (with a published applica...               15   \n",
       "3    Utility Patent Grant (with a published applica...               20   \n",
       "4    Utility Patent Grant (with a published applica...               17   \n",
       "..                                                 ...              ...   \n",
       "145  Utility Patent Grant (with a published applica...                9   \n",
       "146    Utility Patent Grant (no published application)               18   \n",
       "147    Utility Patent Grant (no published application)                8   \n",
       "148  Utility Patent Grant (with a published applica...               26   \n",
       "149  Utility Patent Grant (with a published applica...               15   \n",
       "\n",
       "                                             inventors  \\\n",
       "0    [[Robert Emmitt Connely, IV], [Bryant Paul Cas...   \n",
       "1                                        [[Gil Barak]]   \n",
       "2                      [[Yukihiko Kubo], [Daita Itoi]]   \n",
       "3                                [[Michael I. Falkel]]   \n",
       "4    [[George Maxim], [Marcus Granger-Jones], [Tosh...   \n",
       "..                                                 ...   \n",
       "145  [[Jon Ash], [Shawn Meine], [Anumeha Narain], [...   \n",
       "146  [[James N. White], [Monica Rose Martino], [M. ...   \n",
       "147  [[Abdulrahman Ibrahim Almansour], [Raju Suresh...   \n",
       "148  [[Dennis Ray Wells], [Rodney C. Schoenfelder],...   \n",
       "149                                 [[Philipp Schedl]]   \n",
       "\n",
       "     citations_applicant_count  citations_examiner_count  \\\n",
       "0                           57                         3   \n",
       "1                            2                         1   \n",
       "2                           18                         3   \n",
       "3                          335                         2   \n",
       "4                           29                         1   \n",
       "..                         ...                       ...   \n",
       "145                         19                         7   \n",
       "146                         26                        25   \n",
       "147                          8                         4   \n",
       "148                         42                         2   \n",
       "149                         20                         9   \n",
       "\n",
       "                                           claims_text  \\\n",
       "0    [1. A system for detecting healthcare gap info...   \n",
       "1    [1. A method for detecting persistent threats ...   \n",
       "2    [1. A tire for a two-wheeled motor vehicle in ...   \n",
       "3    [1. A method of electronically diagnosing and ...   \n",
       "4    [1. A low noise amplifier (LNA) circuit compri...   \n",
       "..                                                 ...   \n",
       "145  [1. A method of installing an apparatus for su...   \n",
       "146  [1. A method, comprising:identifying an event ...   \n",
       "147  [1. An anti-cancer compound, comprising the fo...   \n",
       "148  [1. A chassis system comprising:a housing incl...   \n",
       "149  [1. A self-locking gear (20) comprising:a rota...   \n",
       "\n",
       "                                              abstract  \n",
       "0    Systems and methods for surfacing contextually...  \n",
       "1    A system is used for detection of advanced per...  \n",
       "2    A tire center slant groove near tread surface ...  \n",
       "3    Systems and methods are disclosed for processi...  \n",
       "4    Embodiments of the disclosure relate to a low ...  \n",
       "..                                                 ...  \n",
       "145  In various representative aspects, an assembly...  \n",
       "146  A system, method, and non-transitory computer ...  \n",
       "147  An anti-cancer compound is a compound having t...  \n",
       "148  A bladed chassis system facilitates installati...  \n",
       "149  A people conveyor (10) comprises: a chain of c...  \n",
       "\n",
       "[150 rows x 9 columns]"
      ]
     },
     "execution_count": 23,
     "metadata": {},
     "output_type": "execute_result"
    }
   ],
   "source": [
    "#Here we define a dictionary by giving the keys as the name of columns we will need in our dataframe and the list of all values we extracted above as the column values.\n",
    "uy= {'grant_id': l, 'patent_title': y, 'kind': e, 'number_of_claims': b, 'inventors': last_first4, 'citations_applicant_count': applicant, 'citations_examiner_count': examiner, 'claims_text': claims_all, 'abstract': all_abstracts}\n",
    "df1 = pd.DataFrame(uy)\n",
    "df1"
   ]
  },
  {
   "cell_type": "markdown",
   "metadata": {},
   "source": [
    "After defining the dictionary we define a dataframe df1 with the dictionary uy as the data and print the data to check it."
   ]
  },
  {
   "cell_type": "code",
   "execution_count": 20,
   "metadata": {},
   "outputs": [],
   "source": [
    "df1.to_csv(\"task1_31339646.csv\",index=False)"
   ]
  },
  {
   "cell_type": "markdown",
   "metadata": {},
   "source": [
    "The following command generates and writes the contents of a pandas DataFrame object df1 to a CSV (Comma-Separated Values) file named \"task1_31339646.csv\" without including row index values in the file. The first argument \"task1_31339646.csv\" is the file name and path where the CSV file will be saved. The second argument index=False specifies that row indexes should not be included in the saved CSV file. "
   ]
  },
  {
   "cell_type": "markdown",
   "metadata": {},
   "source": [
    "TO JSON GENERSTOR FILE"
   ]
  },
  {
   "cell_type": "code",
   "execution_count": 21,
   "metadata": {},
   "outputs": [],
   "source": [
    "dict_json = {}\n",
    "for n1 in range(150):\n",
    "    dict_json[df1.loc[n1][0]] = { 'patent_title' : df1.loc[n1][1], 'kind': df1.loc[n1][2], 'number_of_claims': df1.loc[n1][3], 'inventors': df1.loc[n1][4], 'citations_applicant_count': df1.loc[n1][5], 'citations_examiner_count': df1.loc[n1][6], 'claims_text': df1.loc[n1][7], 'abstract': df1.loc[n1][8] }    \n",
    "x67 = str(dict_json)"
   ]
  },
  {
   "cell_type": "markdown",
   "metadata": {},
   "source": [
    "Here we define a nested dictionary dict_json and store the patent names as the main key of it and the other attributes as the values of their keys respectively in the same format as the sample output json file. So, the code reads data from a DataFrame df1 which contains information about patents, and creates a dictionary of dictionaries that stores various attributes of each patent. The resulting dict_json dictionary is then serialized to a JSON format using the str function and storing it into the variable x67 as a string."
   ]
  },
  {
   "cell_type": "code",
   "execution_count": 22,
   "metadata": {},
   "outputs": [],
   "source": [
    "f3 = re.sub(r\"'\",'\"',x67)\n",
    "f4 = re.sub(r'\"s',\"'s\",f3)\n",
    "file1 = open('task1_31339646.json',\"a+\")\n",
    "file1.write(f4)\n",
    "file1.close()"
   ]
  },
  {
   "cell_type": "markdown",
   "metadata": {},
   "source": [
    "We then take the string x67 we created in the last step and substitute the ' ' with \" \" for the names of the attributes as given in the sample output json file. We then create a new file 'task1_31339646.json' and write this string to it to get our json file."
   ]
  },
  {
   "cell_type": "markdown",
   "metadata": {
    "id": "i0WT10TJiqLE"
   },
   "source": [
    "-------------------------------------"
   ]
  },
  {
   "cell_type": "markdown",
   "metadata": {
    "id": "Li7bchX9iqLF"
   },
   "source": [
    "<div class=\"alert alert-block alert-warning\"> \n",
    "\n",
    "## 7. References <a class=\"anchor\" name=\"Ref\"></a>\n",
    "\n",
    "</div>"
   ]
  },
  {
   "cell_type": "markdown",
   "metadata": {
    "id": "TkWuWC3NiqLF"
   },
   "source": [
    "\n",
    "\n",
    "[1]<a class=\"anchor\" name=\"ref-2\"></a> Why do I need to add DOTALL to python regular expression to match new line in raw string, https://stackoverflow.com/questions/22610247, Accessed 30/08/2022.\n",
    "\n",
    "....\n"
   ]
  },
  {
   "cell_type": "markdown",
   "metadata": {
    "id": "dVyuz4LciqLG"
   },
   "source": [
    "## --------------------------------------------------------------------------------------------------------------------------"
   ]
  }
 ],
 "metadata": {
  "colab": {
   "name": "task1_xxxxxxx.ipynb",
   "provenance": []
  },
  "kernelspec": {
   "display_name": "Python 3",
   "language": "python",
   "name": "python3"
  },
  "language_info": {
   "codemirror_mode": {
    "name": "ipython",
    "version": 3
   },
   "file_extension": ".py",
   "mimetype": "text/x-python",
   "name": "python",
   "nbconvert_exporter": "python",
   "pygments_lexer": "ipython3",
   "version": "3.8.5"
  }
 },
 "nbformat": 4,
 "nbformat_minor": 1
}
