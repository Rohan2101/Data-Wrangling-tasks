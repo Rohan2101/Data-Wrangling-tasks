{
 "cells": [
  {
   "cell_type": "markdown",
   "metadata": {
    "id": "QCbAmQ47iqK4"
   },
   "source": [
    "<div class=\"alert alert-block alert-success\">\n",
    "    \n",
    "# FIT5196 Assessment 2\n",
    "#### Student Name: Rohan Singh\n",
    "#### Student ID: 31339646\n",
    "\n",
    "\n",
    "Environment: Python \n",
    "\n",
    "\n",
    "    \n",
    "</div>"
   ]
  },
  {
   "cell_type": "markdown",
   "metadata": {
    "id": "IjBFqYK4iqK5"
   },
   "source": [
    "<div class=\"alert alert-block alert-danger\">\n",
    "    \n",
    "## Table of Contents\n",
    "\n",
    "</div>    \n",
    "\n",
    "[1. Introduction](#Intro) <br>\n",
    "[2. Importing Libraries](#libs) <br>\n",
    "[3. Examining Patent Files](#examine) <br>\n",
    "[4. Loading and Parsing Files](#load) <br>\n",
    "$\\;\\;\\;\\;$[4.1. Defining Regular Expressions](#Reg_Exp) <br>\n",
    "$\\;\\;\\;\\;$[4.2. Reading Files](#Read) <br>\n",
    "$\\;\\;\\;\\;$[4.3. Whatever else](#latin) <br>\n",
    "[5. Writing to CSV/JSON File](#write) <br>\n",
    "$\\;\\;\\;\\;$[5.1. Verification - using the sample files](#test_xml) <br>\n",
    "[6. Summary](#summary) <br>\n",
    "[7. References](#Ref) <br>"
   ]
  },
  {
   "cell_type": "markdown",
   "metadata": {
    "id": "AcbqK3KliqK6"
   },
   "source": [
    "-------------------------------------"
   ]
  },
  {
   "cell_type": "markdown",
   "metadata": {
    "id": "pEFdSCIUiqK6"
   },
   "source": [
    "<div class=\"alert alert-block alert-warning\">\n",
    "    \n",
    "## 2.  Importing Libraries  <a class=\"anchor\" name=\"libs\"></a>\n",
    " </div>"
   ]
  },
  {
   "cell_type": "code",
   "execution_count": 1,
   "metadata": {},
   "outputs": [],
   "source": [
    "import numpy as np\n",
    "import pandas as pd\n",
    "from sklearn.linear_model import LinearRegression\n",
    "from nltk.sentiment.vader import SentimentIntensityAnalyzer\n",
    "from ast import literal_eval as make_tuple\n",
    "from sklearn.linear_model import LinearRegression\n",
    "from sklearn.model_selection import train_test_split"
   ]
  },
  {
   "cell_type": "markdown",
   "metadata": {
    "id": "p6Ql-W6BiqK7"
   },
   "source": [
    "-------------------------------------"
   ]
  },
  {
   "cell_type": "markdown",
   "metadata": {
    "id": "hnctlBF6iqK7"
   },
   "source": [
    "<div class=\"alert alert-block alert-warning\">\n",
    "\n",
    "## 3.  Reading the data <a class=\"anchor\" name=\"examine\"></a>\n",
    "\n",
    " </div>"
   ]
  },
  {
   "cell_type": "markdown",
   "metadata": {
    "id": "dQOLlwmAiqK7"
   },
   "source": [
    "The only permitted packages to be used in this assessment are imported in the following. They are used to fulfill the following tasks:\n",
    "\n",
    "* **re:** to define and use regular expressions\n",
    "* **pandas:** ..."
   ]
  },
  {
   "cell_type": "code",
   "execution_count": 2,
   "metadata": {
    "id": "mKGO6FAXiqK7"
   },
   "outputs": [],
   "source": [
    "df = pd.read_csv(\"31339646_dirty_data.csv\")"
   ]
  },
  {
   "cell_type": "code",
   "execution_count": 3,
   "metadata": {
    "id": "wMWqFiW4jewp"
   },
   "outputs": [],
   "source": [
    "df_warehouse = pd.read_csv(\"warehouses.csv\")"
   ]
  },
  {
   "cell_type": "code",
   "execution_count": 4,
   "metadata": {},
   "outputs": [],
   "source": [
    "df_missing = pd.read_csv(\"31339646_missing_data.csv\")"
   ]
  },
  {
   "cell_type": "code",
   "execution_count": 5,
   "metadata": {},
   "outputs": [],
   "source": [
    "df0 = pd.read_csv(\"31339646_outlier_data.csv\")"
   ]
  },
  {
   "cell_type": "markdown",
   "metadata": {},
   "source": [
    "Calling the models"
   ]
  },
  {
   "cell_type": "code",
   "execution_count": 6,
   "metadata": {},
   "outputs": [],
   "source": [
    "lm_s = LinearRegression()\n",
    "lm_w = LinearRegression()\n",
    "lm_a = LinearRegression()\n",
    "lm_sp = LinearRegression()"
   ]
  },
  {
   "cell_type": "markdown",
   "metadata": {
    "id": "3DEWD9qIiqK8"
   },
   "source": [
    "-------------------------------------"
   ]
  },
  {
   "cell_type": "markdown",
   "metadata": {
    "collapsed": true,
    "id": "Z814ttFYiqK8"
   },
   "source": [
    "<div class=\"alert alert-block alert-warning\">\n",
    "\n",
    "## 3.  EDA <a class=\"anchor\" name=\"examine\"></a>\n",
    "\n",
    " </div>"
   ]
  },
  {
   "cell_type": "markdown",
   "metadata": {
    "id": "4YVIqb_miqK8"
   },
   "source": [
    "First of all, ...."
   ]
  },
  {
   "cell_type": "code",
   "execution_count": 7,
   "metadata": {},
   "outputs": [
    {
     "name": "stdout",
     "output_type": "stream",
     "text": [
      "<class 'pandas.core.frame.DataFrame'>\n",
      "RangeIndex: 500 entries, 0 to 499\n",
      "Data columns (total 15 columns):\n",
      " #   Column                         Non-Null Count  Dtype  \n",
      "---  ------                         --------------  -----  \n",
      " 0   order_id                       500 non-null    object \n",
      " 1   customer_id                    500 non-null    object \n",
      " 2   date                           500 non-null    object \n",
      " 3   nearest_warehouse              500 non-null    object \n",
      " 4   shopping_cart                  500 non-null    object \n",
      " 5   order_price                    500 non-null    int64  \n",
      " 6   delivery_charges               500 non-null    float64\n",
      " 7   customer_lat                   500 non-null    float64\n",
      " 8   customer_long                  500 non-null    float64\n",
      " 9   delivery_discount              500 non-null    int64  \n",
      " 10  season                         500 non-null    object \n",
      " 11  is_expedited_delivery          500 non-null    bool   \n",
      " 12  distance_to_nearest_warehouse  500 non-null    float64\n",
      " 13  latest_customer_review         499 non-null    object \n",
      " 14  is_happy_customer              500 non-null    bool   \n",
      "dtypes: bool(2), float64(4), int64(2), object(7)\n",
      "memory usage: 51.9+ KB\n"
     ]
    }
   ],
   "source": [
    "df.info()"
   ]
  },
  {
   "cell_type": "markdown",
   "metadata": {
    "id": "Gp3TG3fyiqK9"
   },
   "source": [
    "Having examined the file content, the following observations were made:\n",
    "\n"
   ]
  },
  {
   "cell_type": "code",
   "execution_count": 8,
   "metadata": {},
   "outputs": [
    {
     "data": {
      "text/html": [
       "<div>\n",
       "<style scoped>\n",
       "    .dataframe tbody tr th:only-of-type {\n",
       "        vertical-align: middle;\n",
       "    }\n",
       "\n",
       "    .dataframe tbody tr th {\n",
       "        vertical-align: top;\n",
       "    }\n",
       "\n",
       "    .dataframe thead th {\n",
       "        text-align: right;\n",
       "    }\n",
       "</style>\n",
       "<table border=\"1\" class=\"dataframe\">\n",
       "  <thead>\n",
       "    <tr style=\"text-align: right;\">\n",
       "      <th></th>\n",
       "      <th>order_price</th>\n",
       "      <th>delivery_charges</th>\n",
       "      <th>customer_lat</th>\n",
       "      <th>customer_long</th>\n",
       "      <th>delivery_discount</th>\n",
       "      <th>distance_to_nearest_warehouse</th>\n",
       "    </tr>\n",
       "  </thead>\n",
       "  <tbody>\n",
       "    <tr>\n",
       "      <th>count</th>\n",
       "      <td>500.000000</td>\n",
       "      <td>500.000000</td>\n",
       "      <td>500.000000</td>\n",
       "      <td>500.000000</td>\n",
       "      <td>500.000000</td>\n",
       "      <td>500.000000</td>\n",
       "    </tr>\n",
       "    <tr>\n",
       "      <th>mean</th>\n",
       "      <td>13715.680000</td>\n",
       "      <td>57.327168</td>\n",
       "      <td>-35.984386</td>\n",
       "      <td>143.138060</td>\n",
       "      <td>25.500000</td>\n",
       "      <td>1.067340</td>\n",
       "    </tr>\n",
       "    <tr>\n",
       "      <th>std</th>\n",
       "      <td>7775.959686</td>\n",
       "      <td>18.723602</td>\n",
       "      <td>18.206128</td>\n",
       "      <td>18.204662</td>\n",
       "      <td>20.138548</td>\n",
       "      <td>0.479769</td>\n",
       "    </tr>\n",
       "    <tr>\n",
       "      <th>min</th>\n",
       "      <td>580.000000</td>\n",
       "      <td>23.759000</td>\n",
       "      <td>-37.828542</td>\n",
       "      <td>-37.824733</td>\n",
       "      <td>0.000000</td>\n",
       "      <td>0.050410</td>\n",
       "    </tr>\n",
       "    <tr>\n",
       "      <th>25%</th>\n",
       "      <td>7645.000000</td>\n",
       "      <td>41.483500</td>\n",
       "      <td>-37.818225</td>\n",
       "      <td>144.949753</td>\n",
       "      <td>0.000000</td>\n",
       "      <td>0.720570</td>\n",
       "    </tr>\n",
       "    <tr>\n",
       "      <th>50%</th>\n",
       "      <td>12487.500000</td>\n",
       "      <td>55.208000</td>\n",
       "      <td>-37.812493</td>\n",
       "      <td>144.963076</td>\n",
       "      <td>25.000000</td>\n",
       "      <td>1.033495</td>\n",
       "    </tr>\n",
       "    <tr>\n",
       "      <th>75%</th>\n",
       "      <td>19171.250000</td>\n",
       "      <td>69.334750</td>\n",
       "      <td>-37.806369</td>\n",
       "      <td>144.981734</td>\n",
       "      <td>50.000000</td>\n",
       "      <td>1.377420</td>\n",
       "    </tr>\n",
       "    <tr>\n",
       "      <th>max</th>\n",
       "      <td>37105.000000</td>\n",
       "      <td>109.981000</td>\n",
       "      <td>145.005764</td>\n",
       "      <td>145.019431</td>\n",
       "      <td>50.000000</td>\n",
       "      <td>2.828780</td>\n",
       "    </tr>\n",
       "  </tbody>\n",
       "</table>\n",
       "</div>"
      ],
      "text/plain": [
       "        order_price  delivery_charges  customer_lat  customer_long  \\\n",
       "count    500.000000        500.000000    500.000000     500.000000   \n",
       "mean   13715.680000         57.327168    -35.984386     143.138060   \n",
       "std     7775.959686         18.723602     18.206128      18.204662   \n",
       "min      580.000000         23.759000    -37.828542     -37.824733   \n",
       "25%     7645.000000         41.483500    -37.818225     144.949753   \n",
       "50%    12487.500000         55.208000    -37.812493     144.963076   \n",
       "75%    19171.250000         69.334750    -37.806369     144.981734   \n",
       "max    37105.000000        109.981000    145.005764     145.019431   \n",
       "\n",
       "       delivery_discount  distance_to_nearest_warehouse  \n",
       "count         500.000000                     500.000000  \n",
       "mean           25.500000                       1.067340  \n",
       "std            20.138548                       0.479769  \n",
       "min             0.000000                       0.050410  \n",
       "25%             0.000000                       0.720570  \n",
       "50%            25.000000                       1.033495  \n",
       "75%            50.000000                       1.377420  \n",
       "max            50.000000                       2.828780  "
      ]
     },
     "execution_count": 8,
     "metadata": {},
     "output_type": "execute_result"
    }
   ],
   "source": [
    "df.describe()"
   ]
  },
  {
   "cell_type": "code",
   "execution_count": 9,
   "metadata": {},
   "outputs": [],
   "source": [
    "df['fixed'] = 0"
   ]
  },
  {
   "cell_type": "markdown",
   "metadata": {
    "id": "fBEASWLfiqK-"
   },
   "source": [
    "-------------------------------------"
   ]
  },
  {
   "cell_type": "markdown",
   "metadata": {
    "collapsed": true,
    "id": "iDoVeDSHiqK-"
   },
   "source": [
    "<div class=\"alert alert-block alert-warning\"> \n",
    "\n",
    "## 4.  Dirty data <a class=\"anchor\" name=\"load\"></a>\n",
    "\n",
    "</div>"
   ]
  },
  {
   "cell_type": "markdown",
   "metadata": {
    "id": "z24HaN8hiqK-"
   },
   "source": [
    "In this section, we will look at and clean the dirty data coluumns"
   ]
  },
  {
   "cell_type": "markdown",
   "metadata": {
    "id": "rApp_Ic9iqK-"
   },
   "source": [
    "<div class=\"alert alert-block alert-info\">\n",
    "    \n",
    "### 4.1. Fixing the Seasons spellings <a class=\"anchor\" name=\"Reg_Exp\"></a>"
   ]
  },
  {
   "cell_type": "markdown",
   "metadata": {
    "id": "knauV0VViqK-"
   },
   "source": [
    "Defining correct regular expressions is crucial in extracting desired information from the text efficiently. ..."
   ]
  },
  {
   "cell_type": "code",
   "execution_count": 10,
   "metadata": {},
   "outputs": [
    {
     "data": {
      "text/plain": [
       "array(['Summer', 'Winter', 'Spring', 'Autumn', 'winter', 'spring',\n",
       "       'autumn', 'summer'], dtype=object)"
      ]
     },
     "execution_count": 10,
     "metadata": {},
     "output_type": "execute_result"
    }
   ],
   "source": [
    "df['season'].unique()"
   ]
  },
  {
   "cell_type": "code",
   "execution_count": 11,
   "metadata": {
    "id": "X1m7-oIfiqK_"
   },
   "outputs": [
    {
     "name": "stderr",
     "output_type": "stream",
     "text": [
      "<ipython-input-11-8eba58f47ee4>:3: SettingWithCopyWarning: \n",
      "A value is trying to be set on a copy of a slice from a DataFrame\n",
      "\n",
      "See the caveats in the documentation: https://pandas.pydata.org/pandas-docs/stable/user_guide/indexing.html#returning-a-view-versus-a-copy\n",
      "  df['season'][ix] = 'Winter'\n",
      "<ipython-input-11-8eba58f47ee4>:4: SettingWithCopyWarning: \n",
      "A value is trying to be set on a copy of a slice from a DataFrame\n",
      "\n",
      "See the caveats in the documentation: https://pandas.pydata.org/pandas-docs/stable/user_guide/indexing.html#returning-a-view-versus-a-copy\n",
      "  df['fixed'][ix] = 1\n",
      "<ipython-input-11-8eba58f47ee4>:6: SettingWithCopyWarning: \n",
      "A value is trying to be set on a copy of a slice from a DataFrame\n",
      "\n",
      "See the caveats in the documentation: https://pandas.pydata.org/pandas-docs/stable/user_guide/indexing.html#returning-a-view-versus-a-copy\n",
      "  df['season'][ix] = 'Spring'\n",
      "<ipython-input-11-8eba58f47ee4>:7: SettingWithCopyWarning: \n",
      "A value is trying to be set on a copy of a slice from a DataFrame\n",
      "\n",
      "See the caveats in the documentation: https://pandas.pydata.org/pandas-docs/stable/user_guide/indexing.html#returning-a-view-versus-a-copy\n",
      "  df['fixed'][ix] = 1\n",
      "<ipython-input-11-8eba58f47ee4>:12: SettingWithCopyWarning: \n",
      "A value is trying to be set on a copy of a slice from a DataFrame\n",
      "\n",
      "See the caveats in the documentation: https://pandas.pydata.org/pandas-docs/stable/user_guide/indexing.html#returning-a-view-versus-a-copy\n",
      "  df['season'][ix] = 'Autumn'\n",
      "<ipython-input-11-8eba58f47ee4>:13: SettingWithCopyWarning: \n",
      "A value is trying to be set on a copy of a slice from a DataFrame\n",
      "\n",
      "See the caveats in the documentation: https://pandas.pydata.org/pandas-docs/stable/user_guide/indexing.html#returning-a-view-versus-a-copy\n",
      "  df['fixed'][ix] = 1\n",
      "<ipython-input-11-8eba58f47ee4>:9: SettingWithCopyWarning: \n",
      "A value is trying to be set on a copy of a slice from a DataFrame\n",
      "\n",
      "See the caveats in the documentation: https://pandas.pydata.org/pandas-docs/stable/user_guide/indexing.html#returning-a-view-versus-a-copy\n",
      "  df['season'][ix] = 'Summer'\n",
      "<ipython-input-11-8eba58f47ee4>:10: SettingWithCopyWarning: \n",
      "A value is trying to be set on a copy of a slice from a DataFrame\n",
      "\n",
      "See the caveats in the documentation: https://pandas.pydata.org/pandas-docs/stable/user_guide/indexing.html#returning-a-view-versus-a-copy\n",
      "  df['fixed'][ix] = 1\n"
     ]
    }
   ],
   "source": [
    "for ix,y2 in enumerate(df['season']):\n",
    "    if y2 == 'winter':\n",
    "        df['season'][ix] = 'Winter'\n",
    "        df['fixed'][ix] = 1\n",
    "    elif y2 == 'spring':\n",
    "        df['season'][ix] = 'Spring'\n",
    "        df['fixed'][ix] = 1\n",
    "    elif y2 == 'summer':\n",
    "        df['season'][ix] = 'Summer'\n",
    "        df['fixed'][ix] = 1\n",
    "    elif y2 == 'autumn':\n",
    "        df['season'][ix] = 'Autumn'\n",
    "        df['fixed'][ix] = 1\n",
    "\n"
   ]
  },
  {
   "cell_type": "markdown",
   "metadata": {},
   "source": [
    "This code iterates through each element in the 'season' column of 'df', using the built-in 'enumerate' function to get the index of the current element.\n",
    "\n",
    "For each element in the 'season' column, the code checks if it matches any of the four seasons: 'winter', 'spring', 'summer', or 'autumn'. If the element matches one of these seasons, the code converts the first letter to uppercase and assigns it back to the 'season' column for that index. Additionally, the 'fixed' column for that index is set to 1.\n",
    "\n",
    "This code is used to standardize the capitalization of the season names and create a binary column 'fixed' indicating whether a given row has been updated."
   ]
  },
  {
   "cell_type": "code",
   "execution_count": 12,
   "metadata": {},
   "outputs": [
    {
     "data": {
      "text/plain": [
       "array(['Summer', 'Winter', 'Spring', 'Autumn'], dtype=object)"
      ]
     },
     "execution_count": 12,
     "metadata": {},
     "output_type": "execute_result"
    }
   ],
   "source": [
    "df['season'].unique()"
   ]
  },
  {
   "cell_type": "markdown",
   "metadata": {
    "id": "QGcAMvmhiqK_"
   },
   "source": [
    "<div class=\"alert alert-block alert-info\">\n",
    "    \n",
    "### 4.2. Fixing the nearest warehouse <a class=\"anchor\" name=\"Read\"></a>"
   ]
  },
  {
   "cell_type": "markdown",
   "metadata": {
    "id": "llC5D5M3iqK_"
   },
   "source": [
    "In this step, we will fix the nearest warehouse"
   ]
  },
  {
   "cell_type": "code",
   "execution_count": 13,
   "metadata": {},
   "outputs": [
    {
     "data": {
      "text/plain": [
       "array(['Nickolson', 'bakers', 'Bakers', 'Thompson', 'nickolson',\n",
       "       'thompson'], dtype=object)"
      ]
     },
     "execution_count": 13,
     "metadata": {},
     "output_type": "execute_result"
    }
   ],
   "source": [
    "df['nearest_warehouse'].unique()"
   ]
  },
  {
   "cell_type": "code",
   "execution_count": 14,
   "metadata": {},
   "outputs": [
    {
     "name": "stderr",
     "output_type": "stream",
     "text": [
      "<ipython-input-14-ce5136c19c7c>:3: SettingWithCopyWarning: \n",
      "A value is trying to be set on a copy of a slice from a DataFrame\n",
      "\n",
      "See the caveats in the documentation: https://pandas.pydata.org/pandas-docs/stable/user_guide/indexing.html#returning-a-view-versus-a-copy\n",
      "  df['nearest_warehouse'][ixx] = 'Bakers'  #checking the spellings\n",
      "<ipython-input-14-ce5136c19c7c>:4: SettingWithCopyWarning: \n",
      "A value is trying to be set on a copy of a slice from a DataFrame\n",
      "\n",
      "See the caveats in the documentation: https://pandas.pydata.org/pandas-docs/stable/user_guide/indexing.html#returning-a-view-versus-a-copy\n",
      "  df['fixed'][ix] = 1\n",
      "<ipython-input-14-ce5136c19c7c>:6: SettingWithCopyWarning: \n",
      "A value is trying to be set on a copy of a slice from a DataFrame\n",
      "\n",
      "See the caveats in the documentation: https://pandas.pydata.org/pandas-docs/stable/user_guide/indexing.html#returning-a-view-versus-a-copy\n",
      "  df['nearest_warehouse'][ixx] = 'Nickolson'\n",
      "<ipython-input-14-ce5136c19c7c>:7: SettingWithCopyWarning: \n",
      "A value is trying to be set on a copy of a slice from a DataFrame\n",
      "\n",
      "See the caveats in the documentation: https://pandas.pydata.org/pandas-docs/stable/user_guide/indexing.html#returning-a-view-versus-a-copy\n",
      "  df['fixed'][ix] = 1\n",
      "<ipython-input-14-ce5136c19c7c>:9: SettingWithCopyWarning: \n",
      "A value is trying to be set on a copy of a slice from a DataFrame\n",
      "\n",
      "See the caveats in the documentation: https://pandas.pydata.org/pandas-docs/stable/user_guide/indexing.html#returning-a-view-versus-a-copy\n",
      "  df['nearest_warehouse'][ixx] = 'Thompson'\n",
      "<ipython-input-14-ce5136c19c7c>:10: SettingWithCopyWarning: \n",
      "A value is trying to be set on a copy of a slice from a DataFrame\n",
      "\n",
      "See the caveats in the documentation: https://pandas.pydata.org/pandas-docs/stable/user_guide/indexing.html#returning-a-view-versus-a-copy\n",
      "  df['fixed'][ix] = 1\n"
     ]
    }
   ],
   "source": [
    "for ixx,y22 in enumerate(df['nearest_warehouse']):\n",
    "    if y22 == 'bakers':\n",
    "        df['nearest_warehouse'][ixx] = 'Bakers'  #checking the spellings\n",
    "        df['fixed'][ix] = 1\n",
    "    elif y22 == 'nickolson':\n",
    "        df['nearest_warehouse'][ixx] = 'Nickolson'\n",
    "        df['fixed'][ix] = 1\n",
    "    elif y22 == 'thompson':\n",
    "        df['nearest_warehouse'][ixx] = 'Thompson'\n",
    "        df['fixed'][ix] = 1"
   ]
  },
  {
   "cell_type": "markdown",
   "metadata": {},
   "source": [
    "This code iterates through each element in the nearest_warehouse column of a pandas DataFrame df, using the built-in 'enumerate' function to get the index of the current element.For each element in the 'nearest_warehouse' column, the code checks if it matches any of the three warehouse locations: 'bakers', 'nickolson', or 'thompson'. If the element matches one of these warehouse locations, the code capitalizes the first letter and assigns it back to the 'nearest_warehouse' column for that index. Additionally, the 'fixed' column for the first index is set to 1. This code is  used to standardize the capitalization of the warehouse names and create a binary column 'fixed' indicating whether a given row has been updated. "
   ]
  },
  {
   "cell_type": "code",
   "execution_count": 15,
   "metadata": {},
   "outputs": [
    {
     "data": {
      "text/plain": [
       "array(['Nickolson', 'Bakers', 'Thompson'], dtype=object)"
      ]
     },
     "execution_count": 15,
     "metadata": {},
     "output_type": "execute_result"
    }
   ],
   "source": [
    "df['nearest_warehouse'].unique()"
   ]
  },
  {
   "cell_type": "markdown",
   "metadata": {
    "id": "MD-LSS76iqLA"
   },
   "source": [
    "-------------------------------------"
   ]
  },
  {
   "cell_type": "markdown",
   "metadata": {},
   "source": [
    "Fixing the longitude and latitude"
   ]
  },
  {
   "cell_type": "code",
   "execution_count": 16,
   "metadata": {},
   "outputs": [],
   "source": [
    "df[['customer_lat','customer_long']] = df[['customer_long','customer_lat']].where(df['customer_lat'] > 0,df[['customer_lat','customer_long']].values )"
   ]
  },
  {
   "cell_type": "markdown",
   "metadata": {
    "id": "ZtwS6ttqiqLA"
   },
   "source": [
    "<div class=\"alert alert-block alert-info\">\n",
    "    \n",
    "### 4.3. Checking the warehouse <a class=\"anchor\" name=\"latin\"></a>"
   ]
  },
  {
   "cell_type": "markdown",
   "metadata": {
    "id": "8IJ63oV9iqLA"
   },
   "source": [
    "The function converts the latitude and longitude values from degrees to radians using the 'map' function and the 'radians' function from the math module.\n",
    "Next, the function calculates the difference in longitude and latitude between the two points.\n",
    "The function then uses the Haversine formula to calculate the distance between the two points on the Earth's surface, in kilometers. This formula calculates the great-circle distance between two points on a sphere, such as the Earth, using the law of haversines.\n",
    "Finally, the function returns the distance between the two points in kilometers."
   ]
  },
  {
   "cell_type": "code",
   "execution_count": 17,
   "metadata": {},
   "outputs": [],
   "source": [
    "from math import radians, cos, sin, asin, sqrt\n",
    "def dist(lat1, long1, lat2, long2):\n",
    "    lat1, long1, lat2, long2 = map(radians, [lat1, long1, lat2, long2])\n",
    "    dlon = long2 - long1\n",
    "    dlat = lat2 - lat1\n",
    "    a = sin(dlat/2)**2 + cos(lat1) * cos(lat2) * sin(dlon/2)**2\n",
    "    c = 2 * asin(sqrt(a))\n",
    "    km = 6378 * c\n",
    "    return km"
   ]
  },
  {
   "cell_type": "markdown",
   "metadata": {},
   "source": [
    "This code defines a function called 'near' that takes two arguments: the latitude and longitude of a location. The result of the apply method is a Series of distances between the input location and each warehouse location. The idxmin method is then called on this Series to find the index of the minimum distance, which corresponds to the nearest warehouse to the input location. Finally, the function returns the name of the nearest warehouse.\n",
    "\n"
   ]
  },
  {
   "cell_type": "code",
   "execution_count": 18,
   "metadata": {},
   "outputs": [],
   "source": [
    "def near(lat, long):\n",
    "    dis = df_warehouse.apply(lambda row: dist(lat, long, row['lat'], row['lon']),axis = 1)\n",
    "    return df_warehouse.loc[dis.idxmin(), 'names']"
   ]
  },
  {
   "cell_type": "code",
   "execution_count": 19,
   "metadata": {},
   "outputs": [],
   "source": [
    "df['test'] = df.apply(lambda row: near(row['customer_lat'], row['customer_long']),axis=1)"
   ]
  },
  {
   "cell_type": "code",
   "execution_count": 20,
   "metadata": {},
   "outputs": [],
   "source": [
    "wrong_warehouse = []\n",
    "for r12 in range(len(df)):\n",
    "    if df['nearest_warehouse'][r12] != df['test'][r12]:\n",
    "        wrong_warehouse.append(r12)"
   ]
  },
  {
   "cell_type": "code",
   "execution_count": 21,
   "metadata": {},
   "outputs": [
    {
     "name": "stderr",
     "output_type": "stream",
     "text": [
      "<ipython-input-21-6bc62e97670d>:2: SettingWithCopyWarning: \n",
      "A value is trying to be set on a copy of a slice from a DataFrame\n",
      "\n",
      "See the caveats in the documentation: https://pandas.pydata.org/pandas-docs/stable/user_guide/indexing.html#returning-a-view-versus-a-copy\n",
      "  df['nearest_warehouse'][r13] = df['test'][r13]\n",
      "<ipython-input-21-6bc62e97670d>:3: SettingWithCopyWarning: \n",
      "A value is trying to be set on a copy of a slice from a DataFrame\n",
      "\n",
      "See the caveats in the documentation: https://pandas.pydata.org/pandas-docs/stable/user_guide/indexing.html#returning-a-view-versus-a-copy\n",
      "  df['fixed'][r13] = 1\n"
     ]
    }
   ],
   "source": [
    "for r13 in wrong_warehouse:\n",
    "    df['nearest_warehouse'][r13] = df['test'][r13]\n",
    "    df['fixed'][r13] = 1"
   ]
  },
  {
   "cell_type": "markdown",
   "metadata": {},
   "source": [
    "Fixing the nearest distance"
   ]
  },
  {
   "cell_type": "code",
   "execution_count": 22,
   "metadata": {},
   "outputs": [],
   "source": [
    "df2 = df\n",
    "df2['names'] = df2['test']\n",
    "df2 = pd.merge(df2, df_warehouse,on='names', how='left') #joining the data using the merge function with a left join on the column names"
   ]
  },
  {
   "cell_type": "markdown",
   "metadata": {},
   "source": [
    "This is a Python function that calculates the great-circle distance between two points on the Earth's surface, given their longitudes and latitudes. The formula used to compute this distance is called the Haversine formula. The first line of the function uses the map function to convert the four input arguments from degrees to radians, using the radians function from the math module. This is because the Haversine formula uses trigonometric functions that expect their arguments to be in radians. The function returns the distance between the two points, in kilometers."
   ]
  },
  {
   "cell_type": "code",
   "execution_count": 23,
   "metadata": {},
   "outputs": [],
   "source": [
    "def haversine(lon1, lat1, lon2, lat2):\n",
    "    lon1, lat1, lon2, lat2 = map(radians,[lon1, lat1, lon2, lat2])\n",
    "    dlon = lon2 - lon1\n",
    "    dlat = lat2- lat1\n",
    "    a = sin(dlat/2)**2 + cos(lat1) * cos(lat2) * sin(dlon/2)**2\n",
    "    c = 2 * asin(sqrt(a))\n",
    "    km = 6378 * c\n",
    "    return km"
   ]
  },
  {
   "cell_type": "markdown",
   "metadata": {},
   "source": [
    "Applying the function to every row in the dataframe and creating a column called test_distance"
   ]
  },
  {
   "cell_type": "code",
   "execution_count": 24,
   "metadata": {},
   "outputs": [],
   "source": [
    "df2['test_distance'] = [haversine(df2.customer_long[i],df2.customer_lat[i],df2.lon[i],df2.lat[i]) for i in range(len(df2))]\n",
    "df2['test_distance'] = df2['test_distance'].round(decimals=5) #rounding to 5 decimals"
   ]
  },
  {
   "cell_type": "markdown",
   "metadata": {},
   "source": [
    "writing the index values of the rows where the values of distance_to_nearest_warehouse is not equal to the test_distance into a list."
   ]
  },
  {
   "cell_type": "code",
   "execution_count": 25,
   "metadata": {},
   "outputs": [],
   "source": [
    "wrong_distance = [] #iinitiating new list\n",
    "for r15 in range(len(df)):\n",
    "    if df['distance_to_nearest_warehouse'][r15].round(decimals=5) != df2['test_distance'][r15]:\n",
    "        wrong_distance.append(r15)"
   ]
  },
  {
   "cell_type": "markdown",
   "metadata": {},
   "source": [
    "corrected the wrong values "
   ]
  },
  {
   "cell_type": "code",
   "execution_count": 26,
   "metadata": {},
   "outputs": [
    {
     "name": "stderr",
     "output_type": "stream",
     "text": [
      "<ipython-input-26-adac7e69dee0>:2: SettingWithCopyWarning: \n",
      "A value is trying to be set on a copy of a slice from a DataFrame\n",
      "\n",
      "See the caveats in the documentation: https://pandas.pydata.org/pandas-docs/stable/user_guide/indexing.html#returning-a-view-versus-a-copy\n",
      "  df['distance_to_nearest_warehouse'][f11] = df2['test_distance'][f11]\n",
      "<ipython-input-26-adac7e69dee0>:3: SettingWithCopyWarning: \n",
      "A value is trying to be set on a copy of a slice from a DataFrame\n",
      "\n",
      "See the caveats in the documentation: https://pandas.pydata.org/pandas-docs/stable/user_guide/indexing.html#returning-a-view-versus-a-copy\n",
      "  df['fixed'][f11] = 1\n"
     ]
    }
   ],
   "source": [
    "for f11 in wrong_distance:\n",
    "    df['distance_to_nearest_warehouse'][f11] = df2['test_distance'][f11]\n",
    "    df['fixed'][f11] = 1"
   ]
  },
  {
   "cell_type": "markdown",
   "metadata": {},
   "source": [
    "Fixing the is customer happy"
   ]
  },
  {
   "cell_type": "code",
   "execution_count": 27,
   "metadata": {},
   "outputs": [],
   "source": [
    "sid = SentimentIntensityAnalyzer() # intializing the SentimentIntensityAnalyzer function from nltk library\n",
    "df['test_analysis'] = False # intializing the value of test analysis column to false"
   ]
  },
  {
   "cell_type": "markdown",
   "metadata": {},
   "source": [
    "Taking in the value of the compound polarity score and giving it the value of true if its over 0.05 or else making it false for every row"
   ]
  },
  {
   "cell_type": "code",
   "execution_count": 28,
   "metadata": {},
   "outputs": [
    {
     "name": "stderr",
     "output_type": "stream",
     "text": [
      "<ipython-input-28-669a4c390030>:4: SettingWithCopyWarning: \n",
      "A value is trying to be set on a copy of a slice from a DataFrame\n",
      "\n",
      "See the caveats in the documentation: https://pandas.pydata.org/pandas-docs/stable/user_guide/indexing.html#returning-a-view-versus-a-copy\n",
      "  df['test_analysis'][idc] = True\n",
      "<ipython-input-28-669a4c390030>:6: SettingWithCopyWarning: \n",
      "A value is trying to be set on a copy of a slice from a DataFrame\n",
      "\n",
      "See the caveats in the documentation: https://pandas.pydata.org/pandas-docs/stable/user_guide/indexing.html#returning-a-view-versus-a-copy\n",
      "  df['test_analysis'][idc] = False\n"
     ]
    }
   ],
   "source": [
    "score = [] #iinitiating new list\n",
    "for idc,x in enumerate(df['latest_customer_review']):\n",
    "    if sid.polarity_scores(str(x))['compound'] >= 0.05:  #\n",
    "        df['test_analysis'][idc] = True\n",
    "    else:\n",
    "        df['test_analysis'][idc] = False"
   ]
  },
  {
   "cell_type": "markdown",
   "metadata": {},
   "source": [
    "For each row we checks if the values in the columns is_happy_customer and test_analysis are not the same. If they are not the same we check if the value of is_happy_customer is True or False. If it is True, then it changes the value to False and sets the value of 'fixed' column to 1. If it is False, it changes the value to True and sets the value of fixed column to 1. This code fixs data errors in the is_happy_customer column."
   ]
  },
  {
   "cell_type": "code",
   "execution_count": 29,
   "metadata": {},
   "outputs": [
    {
     "name": "stderr",
     "output_type": "stream",
     "text": [
      "<ipython-input-29-15938398418f>:4: SettingWithCopyWarning: \n",
      "A value is trying to be set on a copy of a slice from a DataFrame\n",
      "\n",
      "See the caveats in the documentation: https://pandas.pydata.org/pandas-docs/stable/user_guide/indexing.html#returning-a-view-versus-a-copy\n",
      "  df['is_happy_customer'][j111] = False\n",
      "<ipython-input-29-15938398418f>:5: SettingWithCopyWarning: \n",
      "A value is trying to be set on a copy of a slice from a DataFrame\n",
      "\n",
      "See the caveats in the documentation: https://pandas.pydata.org/pandas-docs/stable/user_guide/indexing.html#returning-a-view-versus-a-copy\n",
      "  df['fixed'][j111] = 1\n",
      "<ipython-input-29-15938398418f>:7: SettingWithCopyWarning: \n",
      "A value is trying to be set on a copy of a slice from a DataFrame\n",
      "\n",
      "See the caveats in the documentation: https://pandas.pydata.org/pandas-docs/stable/user_guide/indexing.html#returning-a-view-versus-a-copy\n",
      "  df['is_happy_customer'][j111] = True\n",
      "<ipython-input-29-15938398418f>:8: SettingWithCopyWarning: \n",
      "A value is trying to be set on a copy of a slice from a DataFrame\n",
      "\n",
      "See the caveats in the documentation: https://pandas.pydata.org/pandas-docs/stable/user_guide/indexing.html#returning-a-view-versus-a-copy\n",
      "  df['fixed'][j111] = 1\n"
     ]
    }
   ],
   "source": [
    "for j111 in range(len(df)):\n",
    "    if df['is_happy_customer'][j111] != df['test_analysis'][j111]:\n",
    "        if df['is_happy_customer'][j111] == True:\n",
    "            df['is_happy_customer'][j111] = False\n",
    "            df['fixed'][j111] = 1\n",
    "        elif df['is_happy_customer'][j111] == False:\n",
    "            df['is_happy_customer'][j111] = True\n",
    "            df['fixed'][j111] = 1"
   ]
  },
  {
   "cell_type": "code",
   "execution_count": 30,
   "metadata": {},
   "outputs": [],
   "source": [
    "for j111 in range(len(df)):\n",
    "    if df['is_happy_customer'][j111] != df['test_analysis'][j111]:\n",
    "        print(yes) #checkinh all the errors have been resolved"
   ]
  },
  {
   "cell_type": "code",
   "execution_count": 31,
   "metadata": {},
   "outputs": [],
   "source": [
    "for index,row in df.iterrows():\n",
    "    if row['customer_lat'] > 0:\n",
    "        df['fixed'][index] = 1"
   ]
  },
  {
   "cell_type": "markdown",
   "metadata": {},
   "source": [
    "We check if the values in the customer_lat column are greater than zero. If the values in the customer_lat column are greater than zero, then the values of the two columns are swapped using the where method. If the values in the customer_lat column are not greater than zero then the original values of the two columns are used. This is used as the only errors in these columns appear to be that the longtitude and latitude are swaped."
   ]
  },
  {
   "cell_type": "markdown",
   "metadata": {},
   "source": [
    "Fixing shopping cart"
   ]
  },
  {
   "cell_type": "markdown",
   "metadata": {},
   "source": [
    "Here we create a matrix by choosing columns that only have two items in the shopping cart, we create a single row of each product here according to it quantity, we use the first 15 columns to create the matrix so we have 30 rows in this matrix"
   ]
  },
  {
   "cell_type": "code",
   "execution_count": 32,
   "metadata": {},
   "outputs": [],
   "source": [
    "main = [] #iinitiating new list\n",
    "ind = [] #iinitiating new list\n",
    "for y in range(30):\n",
    "    li = []\n",
    "    df['shopping_cart'][y]\n",
    "    x = make_tuple(df['shopping_cart'][y])\n",
    "    if len(x) == 2:\n",
    "        ind.append(y)\n",
    "        for x1 in x:\n",
    "            if x1[0] == 'Thunder line':\n",
    "                x10 = x1[1]\n",
    "            else:\n",
    "                x10 = 0\n",
    "            if x1[0] == 'Candle Inferno':\n",
    "                x11 = x1[1]\n",
    "            else:\n",
    "                x11 = 0\n",
    "            if x1[0] == 'iAssist Line':\n",
    "                x12 = x1[1]\n",
    "            else:\n",
    "                x12 = 0\n",
    "            if x1[0] == 'pearTV':\n",
    "                x13 = x1[1]\n",
    "            else:\n",
    "                x13 = 0\n",
    "            if x1[0] == 'Universe Note':\n",
    "                x14 = x1[1]\n",
    "            else:\n",
    "                x14 = 0\n",
    "            if x1[0] == 'Alcon 10':\n",
    "                x15 = x1[1]\n",
    "            else:\n",
    "                x15 = 0\n",
    "            if x1[0] == 'Olivia x460':\n",
    "                x16 = x1[1]\n",
    "            else:\n",
    "                x16 = 0\n",
    "            if x1[0] == 'Lucent 330S':\n",
    "                x17 = x1[1]\n",
    "            else:\n",
    "                x17 = 0\n",
    "            if x1[0] == 'iStream':\n",
    "                x18 = x1[1]\n",
    "            else:\n",
    "                x18 = 0\n",
    "            if x1[0] == 'Toshika 750':\n",
    "                x19 = x1[1]\n",
    "            else:\n",
    "                x19 = 0\n",
    "            li = [x10,x11,x12,x13,x14,x15,x16,x17,x18,x19]\n",
    "            main.append(li)\n",
    "            "
   ]
  },
  {
   "cell_type": "markdown",
   "metadata": {},
   "source": [
    "We now add each of thsee rows to create a complete matrix of "
   ]
  },
  {
   "cell_type": "code",
   "execution_count": 33,
   "metadata": {},
   "outputs": [],
   "source": [
    "main2 = [] #iinitiating new list\n",
    "for u in range(0,len(main),2):\n",
    "    li1 = []\n",
    "    v1 = main[u][0] + main[u+1][0]\n",
    "    v2 = main[u][1] + main[u+1][1]\n",
    "    v3 = main[u][2] + main[u+1][2]\n",
    "    v4 = main[u][3] + main[u+1][3]\n",
    "    v5 = main[u][4] + main[u+1][4]\n",
    "    v6 = main[u][5] + main[u+1][5]\n",
    "    v7 = main[u][6] + main[u+1][6]\n",
    "    v8 = main[u][7] + main[u+1][7]\n",
    "    v9 = main[u][8] + main[u+1][8]\n",
    "    v10 = main[u][9] + main[u+1][9]\n",
    "    li = [v1,v2,v3,v4,v5,v6,v7,v8,v9,v10]\n",
    "    main2.append(li)"
   ]
  },
  {
   "cell_type": "code",
   "execution_count": 34,
   "metadata": {},
   "outputs": [],
   "source": [
    "pri = [] #iinitiating new list\n",
    "for o in ind:\n",
    "    pri.append(df['order_price'][o])"
   ]
  },
  {
   "cell_type": "code",
   "execution_count": 35,
   "metadata": {},
   "outputs": [],
   "source": [
    "x = np.linalg.solve(main2[0:10],pri[0:10])"
   ]
  },
  {
   "cell_type": "markdown",
   "metadata": {},
   "source": [
    "We now create a dict with the names of the products as keys and its values as the value. "
   ]
  },
  {
   "cell_type": "code",
   "execution_count": 36,
   "metadata": {},
   "outputs": [],
   "source": [
    "dic = {'Thunder line':x[0],'Candle Inferno':x[1],'iAssist Line':x[2],'pearTV':x[3],'Universe Note':x[4],'Alcon 10':x[5],'Olivia x460':x[6],'Lucent 330S':x[7],'iStream':x[8],'Toshika 750':x[9]}"
   ]
  },
  {
   "cell_type": "code",
   "execution_count": 37,
   "metadata": {},
   "outputs": [],
   "source": [
    "h1 = [] #iinitiating new list\n",
    "for id,p in enumerate(df['shopping_cart']):\n",
    "    h2 = []\n",
    "    h = make_tuple(p)\n",
    "    h2 = [h,df['order_price'][id]]\n",
    "    h1.append(h2)"
   ]
  },
  {
   "cell_type": "markdown",
   "metadata": {},
   "source": [
    "here we check if the order price is correct by adding up the product value witht the product quantity of each tuples we have created. "
   ]
  },
  {
   "cell_type": "code",
   "execution_count": 38,
   "metadata": {},
   "outputs": [],
   "source": [
    "error = [] #iinitiating new list\n",
    "for idd,j in enumerate(h1):\n",
    "    n10 = 0\n",
    "    for j1 in j[0]:\n",
    "        n10= n10 + dic[j1[0]]*j1[1]  \n",
    "    if n10 != j[1]:\n",
    "        error.append(idd)"
   ]
  },
  {
   "cell_type": "markdown",
   "metadata": {},
   "source": [
    "We now append the wrong values into a another list with the quantity and product value and orginal order price"
   ]
  },
  {
   "cell_type": "code",
   "execution_count": 39,
   "metadata": {},
   "outputs": [],
   "source": [
    "c22 = [] #iinitiating new list\n",
    "for g in error:\n",
    "    c1 = []\n",
    "    for n in h1[g][0]:\n",
    "        c = []\n",
    "        c = [dic[n[0]],n[1]]\n",
    "        c1.append(c)\n",
    "    c22.append([c1,h1[g][1]]) "
   ]
  },
  {
   "cell_type": "markdown",
   "metadata": {},
   "source": [
    "Here we check if replacing the product with the other products lead to the same order price or not by making a different formula for every posible length of the shopping cart and trying all the product values and then appending the ones that have this issue into a list called correct all"
   ]
  },
  {
   "cell_type": "code",
   "execution_count": 40,
   "metadata": {},
   "outputs": [],
   "source": [
    "correct_all = [] #iinitiating new list\n",
    "for v33 in c22:\n",
    "    correct1 = [] #iinitiating new list\n",
    "    for c2 in dic.values():\n",
    "        c6 = [] #iinitiating new list\n",
    "        if len(v33[0]) == 3:\n",
    "            if c2 * v33[0][0][1] + v33[0][1][0] * v33[0][1][1] + v33[0][2][0] * v33[0][2][1] == v33[1]:\n",
    "                c6 = [c2,1]\n",
    "                correct1.append(c6)\n",
    "            elif (v33[0][0][0] * v33[0][0][1] + c2 * v33[0][1][1] + v33[0][2][0] * v33[0][2][1] == v33[1]): \n",
    "                c6 = [c2,2]\n",
    "                correct1.append(c6)\n",
    "            elif (v33[0][0][0] * v33[0][0][1] + v33[0][1][0] * v33[0][1][1] + c2 * v33[0][2][1] == v33[1]): \n",
    "                c6 = [c2,3]\n",
    "                correct1.append(c6)   \n",
    "        elif len(v33[0]) == 4:\n",
    "            if (c2 * v33[0][0][1] + v33[0][1][0] * v33[0][1][1] + v33[0][2][0] * v33[0][2][1] + v33[0][3][0] * v33[0][3][1]) == v33[1]:\n",
    "                c6 = [c2,1]\n",
    "                correct1.append(c6)\n",
    "            elif (v33[0][0][0] * v33[0][0][1] + c2 * v33[0][1][1] + v33[0][2][0] * v33[0][2][1] + v33[0][3][0] * v33[0][3][1]) == v33[1]: \n",
    "                c6 = [c2,2]\n",
    "                correct1.append(c6)\n",
    "            elif (v33[0][0][0] * v33[0][0][1] + v33[0][1][0] * v33[0][1][1] + c2 * v33[0][2][1] + v33[0][3][0] * v33[0][3][1]) == v33[1]: \n",
    "                c6 = [c2,3]\n",
    "                correct1.append(c6)\n",
    "            elif (v33[0][0][0] * v33[0][0][1] + v33[0][1][0] * v33[0][1][1] + v33[0][2][0] * v33[0][2][1] + c2 * v33[0][3][1]) == v33[1]: \n",
    "                c6 = [c2,4]\n",
    "                correct1.append(c6)                \n",
    "        elif len(v33[0]) == 2:\n",
    "            if (c2 * v33[0][0][1] + v33[0][1][0] * v33[0][1][1]) == v33[1]:\n",
    "                c6 = [c2,1]\n",
    "                correct1.append(c6)\n",
    "            elif (v33[0][0][0] * v33[0][0][1] + c2 * v33[0][1][1]) == v33[1]: \n",
    "                c6 = [c2,2]\n",
    "                print(v33[1])\n",
    "                correct1.append(c6)  \n",
    "    correct_all.append(correct1)"
   ]
  },
  {
   "cell_type": "markdown",
   "metadata": {},
   "source": [
    "This function is uesd to get the dict key from value"
   ]
  },
  {
   "cell_type": "code",
   "execution_count": 41,
   "metadata": {},
   "outputs": [],
   "source": [
    "def get_key(val):\n",
    "   \n",
    "    for key, value in dic.items():\n",
    "        if val == value:\n",
    "            return key"
   ]
  },
  {
   "cell_type": "code",
   "execution_count": 42,
   "metadata": {},
   "outputs": [],
   "source": [
    "error_add = [] #iinitiating new list\n",
    "for f21,f22 in enumerate(correct_all):\n",
    "    if len(f22) > 0:\n",
    "        correct_all[f21][0][0] = get_key(f22[0][0])\n",
    "        correct_all[f21][0].append(error[f21])\n",
    "        error_add.append(error[f21])"
   ]
  },
  {
   "cell_type": "code",
   "execution_count": 43,
   "metadata": {},
   "outputs": [],
   "source": [
    "for d22 in correct_all:\n",
    "    if len(d22) > 0:\n",
    "        h44 = h1[d22[0][2]][0][d22[0][1]-1][1]\n",
    "        h1[d22[0][2]][0][d22[0][1]-1] = (d22[0][0],h44)"
   ]
  },
  {
   "cell_type": "code",
   "execution_count": 44,
   "metadata": {},
   "outputs": [],
   "source": [
    "for f21,f22 in enumerate(correct_all):\n",
    "    if len(f22) == 0:\n",
    "        correct_all[f21].append(error[f21])\n",
    "    else:\n",
    "        correct_all[f21] = []"
   ]
  },
  {
   "cell_type": "code",
   "execution_count": 45,
   "metadata": {},
   "outputs": [],
   "source": [
    "order_correct = [] #iinitiating new list\n",
    "for b55 in correct_all:\n",
    "    if len(b55) == 1:\n",
    "        order_correct.append(b55[0])"
   ]
  },
  {
   "cell_type": "markdown",
   "metadata": {},
   "source": [
    "here we correct the errors in the shopping cart if the error is in the shopping cart product"
   ]
  },
  {
   "cell_type": "code",
   "execution_count": 46,
   "metadata": {},
   "outputs": [
    {
     "name": "stderr",
     "output_type": "stream",
     "text": [
      "<ipython-input-46-bcd910f16597>:2: SettingWithCopyWarning: \n",
      "A value is trying to be set on a copy of a slice from a DataFrame\n",
      "\n",
      "See the caveats in the documentation: https://pandas.pydata.org/pandas-docs/stable/user_guide/indexing.html#returning-a-view-versus-a-copy\n",
      "  df['shopping_cart'][b45] = str(h1[b45][0])\n",
      "<ipython-input-46-bcd910f16597>:3: SettingWithCopyWarning: \n",
      "A value is trying to be set on a copy of a slice from a DataFrame\n",
      "\n",
      "See the caveats in the documentation: https://pandas.pydata.org/pandas-docs/stable/user_guide/indexing.html#returning-a-view-versus-a-copy\n",
      "  df['fixed'][b45] = 1\n"
     ]
    }
   ],
   "source": [
    "for b45 in error_add:\n",
    "    df['shopping_cart'][b45] = str(h1[b45][0])\n",
    "    df['fixed'][b45] = 1"
   ]
  },
  {
   "cell_type": "markdown",
   "metadata": {},
   "source": [
    "Here we find if the errors that can't be fixed by fixing shopping cart, so the ones where we need to change the order price"
   ]
  },
  {
   "cell_type": "code",
   "execution_count": 47,
   "metadata": {},
   "outputs": [],
   "source": [
    "j68 = [] #iinitiating new list\n",
    "#for idd,j in enumerate(h1):\n",
    "for j66 in order_correct:    \n",
    "    n10 = 0\n",
    "    for j1 in h1[j66][0]:\n",
    "        n10= n10 + dic[j1[0]]*j1[1]\n",
    "    j67 = [j66,int(n10)]\n",
    "    j68.append(j67)    \n",
    "   # if n10 != j[1]:\n",
    "    #    print(n10, j[1])\n",
    "     #   error.append(idd)"
   ]
  },
  {
   "cell_type": "code",
   "execution_count": 48,
   "metadata": {},
   "outputs": [
    {
     "name": "stderr",
     "output_type": "stream",
     "text": [
      "<ipython-input-48-b0451195973c>:2: SettingWithCopyWarning: \n",
      "A value is trying to be set on a copy of a slice from a DataFrame\n",
      "\n",
      "See the caveats in the documentation: https://pandas.pydata.org/pandas-docs/stable/user_guide/indexing.html#returning-a-view-versus-a-copy\n",
      "  df['order_price'][j70[0]] = j70[1]   # fixing the order price\n",
      "<ipython-input-48-b0451195973c>:3: SettingWithCopyWarning: \n",
      "A value is trying to be set on a copy of a slice from a DataFrame\n",
      "\n",
      "See the caveats in the documentation: https://pandas.pydata.org/pandas-docs/stable/user_guide/indexing.html#returning-a-view-versus-a-copy\n",
      "  df['fixed'][j70[0]] = 1\n"
     ]
    }
   ],
   "source": [
    "for j70 in j68:\n",
    "    df['order_price'][j70[0]] = j70[1]   # fixing the order price\n",
    "    df['fixed'][j70[0]] = 1"
   ]
  },
  {
   "cell_type": "markdown",
   "metadata": {
    "id": "7g9k9Fb8iqLB"
   },
   "source": [
    "Date"
   ]
  },
  {
   "cell_type": "code",
   "execution_count": 49,
   "metadata": {},
   "outputs": [
    {
     "name": "stdout",
     "output_type": "stream",
     "text": [
      "2022-10-08\n"
     ]
    },
    {
     "name": "stderr",
     "output_type": "stream",
     "text": [
      "<ipython-input-49-18ecae9aa4c8>:16: SettingWithCopyWarning: \n",
      "A value is trying to be set on a copy of a slice from a DataFrame\n",
      "\n",
      "See the caveats in the documentation: https://pandas.pydata.org/pandas-docs/stable/user_guide/indexing.html#returning-a-view-versus-a-copy\n",
      "  df['date'][ind] = y\n",
      "<ipython-input-49-18ecae9aa4c8>:17: SettingWithCopyWarning: \n",
      "A value is trying to be set on a copy of a slice from a DataFrame\n",
      "\n",
      "See the caveats in the documentation: https://pandas.pydata.org/pandas-docs/stable/user_guide/indexing.html#returning-a-view-versus-a-copy\n",
      "  df['fixed'][ind] = 1\n",
      "<ipython-input-49-18ecae9aa4c8>:20: SettingWithCopyWarning: \n",
      "A value is trying to be set on a copy of a slice from a DataFrame\n",
      "\n",
      "See the caveats in the documentation: https://pandas.pydata.org/pandas-docs/stable/user_guide/indexing.html#returning-a-view-versus-a-copy\n",
      "  df['date'][ind] = y\n",
      "<ipython-input-49-18ecae9aa4c8>:21: SettingWithCopyWarning: \n",
      "A value is trying to be set on a copy of a slice from a DataFrame\n",
      "\n",
      "See the caveats in the documentation: https://pandas.pydata.org/pandas-docs/stable/user_guide/indexing.html#returning-a-view-versus-a-copy\n",
      "  df['fixed'][ind] = 1\n",
      "<ipython-input-49-18ecae9aa4c8>:24: SettingWithCopyWarning: \n",
      "A value is trying to be set on a copy of a slice from a DataFrame\n",
      "\n",
      "See the caveats in the documentation: https://pandas.pydata.org/pandas-docs/stable/user_guide/indexing.html#returning-a-view-versus-a-copy\n",
      "  df['date'][ind] = y\n",
      "<ipython-input-49-18ecae9aa4c8>:25: SettingWithCopyWarning: \n",
      "A value is trying to be set on a copy of a slice from a DataFrame\n",
      "\n",
      "See the caveats in the documentation: https://pandas.pydata.org/pandas-docs/stable/user_guide/indexing.html#returning-a-view-versus-a-copy\n",
      "  df['fixed'][ind] = 1\n"
     ]
    }
   ],
   "source": [
    "for ind,x1 in enumerate(df['date']):   # fixing the wrong format of date\n",
    "    if x1[0:4] != '2022':\n",
    "        #print(x1[-4:])\n",
    "        y = ''\n",
    "        y = '2022-'\n",
    "        #print(y)\n",
    "        if x1[4:7] == 'Oct':\n",
    "            y = y + '10-'\n",
    "        elif x1[4:7] == 'Nov':\n",
    "            y = y + '11-'\n",
    "        elif x1[4:7] == 'Apr':\n",
    "            y = y + '04-'\n",
    "        if x1[8:10] == ' 8':\n",
    "            y = y + '08'\n",
    "            print(y)\n",
    "            df['date'][ind] = y\n",
    "            df['fixed'][ind] = 1\n",
    "        elif x1[8:10] == '10':\n",
    "            y = y + '10'\n",
    "            df['date'][ind] = y\n",
    "            df['fixed'][ind] = 1\n",
    "        elif x1[8:10] == ' 6':\n",
    "            y = y + '06'\n",
    "            df['date'][ind] = y\n",
    "            df['fixed'][ind] = 1"
   ]
  },
  {
   "cell_type": "markdown",
   "metadata": {},
   "source": [
    "Fixing the wrong values of date by swapping the month and date if month column has value greater than 12"
   ]
  },
  {
   "cell_type": "code",
   "execution_count": 50,
   "metadata": {},
   "outputs": [
    {
     "name": "stderr",
     "output_type": "stream",
     "text": [
      "<ipython-input-50-caa5d7eb829d>:4: SettingWithCopyWarning: \n",
      "A value is trying to be set on a copy of a slice from a DataFrame\n",
      "\n",
      "See the caveats in the documentation: https://pandas.pydata.org/pandas-docs/stable/user_guide/indexing.html#returning-a-view-versus-a-copy\n",
      "  df['date'][j81] = x\n",
      "<ipython-input-50-caa5d7eb829d>:5: SettingWithCopyWarning: \n",
      "A value is trying to be set on a copy of a slice from a DataFrame\n",
      "\n",
      "See the caveats in the documentation: https://pandas.pydata.org/pandas-docs/stable/user_guide/indexing.html#returning-a-view-versus-a-copy\n",
      "  df['fixed'][j81] = 1\n"
     ]
    }
   ],
   "source": [
    "for j81,j80 in enumerate(df['date']):\n",
    "    if int(j80[5:7]) > 12:\n",
    "        x = df['date'][0][0:5] + df['date'][j81][8:10] + '-' + df['date'][j81][5:7]\n",
    "        df['date'][j81] = x\n",
    "        df['fixed'][j81] = 1"
   ]
  },
  {
   "cell_type": "markdown",
   "metadata": {},
   "source": [
    "Finding out if the date errors can be spotted by wrong season and if the season errors can be fixed by swaping the months with the days in date or if the season needs to be changed according to the month for each of the four seasons and creating a list with each of thsee errors if they are present or else fixing it in this code itself if possible."
   ]
  },
  {
   "cell_type": "code",
   "execution_count": 51,
   "metadata": {},
   "outputs": [
    {
     "name": "stderr",
     "output_type": "stream",
     "text": [
      "<ipython-input-51-b78701018d21>:9: SettingWithCopyWarning: \n",
      "A value is trying to be set on a copy of a slice from a DataFrame\n",
      "\n",
      "See the caveats in the documentation: https://pandas.pydata.org/pandas-docs/stable/user_guide/indexing.html#returning-a-view-versus-a-copy\n",
      "  df['season'][j81] = 'Spring'\n",
      "<ipython-input-51-b78701018d21>:10: SettingWithCopyWarning: \n",
      "A value is trying to be set on a copy of a slice from a DataFrame\n",
      "\n",
      "See the caveats in the documentation: https://pandas.pydata.org/pandas-docs/stable/user_guide/indexing.html#returning-a-view-versus-a-copy\n",
      "  df['fixed'][j81] = 1\n"
     ]
    }
   ],
   "source": [
    "wrong_spring = [] #iinitiating new list\n",
    "for j81,j80 in enumerate(df['date']):\n",
    "    if (int(j80[5:7]) == 9) or (int(j80[5:7]) == 10) or (int(j80[5:7]) == 11):\n",
    "        if df['season'][j81] != 'Spring':\n",
    "            #print(df.iloc[j81])\n",
    "            if int(j80[8:10]) > 12:\n",
    "                #print(j81)\n",
    "                wrong_spring.append(j81)\n",
    "                df['season'][j81] = 'Spring'\n",
    "                df['fixed'][j81] = 1"
   ]
  },
  {
   "cell_type": "code",
   "execution_count": 52,
   "metadata": {},
   "outputs": [],
   "source": [
    "wrong_Winter_swap= []\n",
    "for j81,j80 in enumerate(df['date']):\n",
    "    if (int(j80[5:7]) == 6) or (int(j80[5:7]) == 7) or (int(j80[5:7]) == 8):\n",
    "        if df['season'][j81] != 'Winter':\n",
    "            if int(j80[8:10]) > 12:\n",
    "                wrong_Winter_swap.append(j81)\n",
    "            else:\n",
    "                wrong_Winter.append(j81)"
   ]
  },
  {
   "cell_type": "code",
   "execution_count": 53,
   "metadata": {},
   "outputs": [],
   "source": [
    "wrong_summer = []\n",
    "for j81,j80 in enumerate(df['date']):\n",
    "    if (int(j80[5:7]) == 12) or (int(j80[5:7]) == 1) or (int(j80[5:7]) == 2):\n",
    "        if df['season'][j81] != 'Summer':\n",
    "            if int(j80[8:10]) > 12:\n",
    "                df['season'][j81] = 'Summer'\n",
    "                df['fixed'][j81] = 1\n",
    "            else:\n",
    "                wrong_summer.append(j81)"
   ]
  },
  {
   "cell_type": "code",
   "execution_count": 54,
   "metadata": {},
   "outputs": [
    {
     "name": "stderr",
     "output_type": "stream",
     "text": [
      "<ipython-input-54-898acb711a39>:8: SettingWithCopyWarning: \n",
      "A value is trying to be set on a copy of a slice from a DataFrame\n",
      "\n",
      "See the caveats in the documentation: https://pandas.pydata.org/pandas-docs/stable/user_guide/indexing.html#returning-a-view-versus-a-copy\n",
      "  df['season'][j81] = 'Autumn'\n"
     ]
    }
   ],
   "source": [
    "wrong_Autumn = []\n",
    "wrong_Autumn_swap = []\n",
    "for j81,j80 in enumerate(df['date']):\n",
    "    if (int(j80[5:7]) == 3) or (int(j80[5:7]) == 4) or (int(j80[5:7]) == 5):\n",
    "        if df['season'][j81] != 'Autumn':\n",
    "            if int(j80[8:10]) > 12:\n",
    "                wrong_Autumn_swap.append(j81)\n",
    "                df['season'][j81] = 'Autumn'\n",
    "            else:\n",
    "                wrong_Autumn.append(j81)"
   ]
  },
  {
   "cell_type": "code",
   "execution_count": 55,
   "metadata": {},
   "outputs": [
    {
     "name": "stderr",
     "output_type": "stream",
     "text": [
      "<ipython-input-55-4af84c107bd9>:2: SettingWithCopyWarning: \n",
      "A value is trying to be set on a copy of a slice from a DataFrame\n",
      "\n",
      "See the caveats in the documentation: https://pandas.pydata.org/pandas-docs/stable/user_guide/indexing.html#returning-a-view-versus-a-copy\n",
      "  df['season'][c222] = 'Summer'\n",
      "<ipython-input-55-4af84c107bd9>:3: SettingWithCopyWarning: \n",
      "A value is trying to be set on a copy of a slice from a DataFrame\n",
      "\n",
      "See the caveats in the documentation: https://pandas.pydata.org/pandas-docs/stable/user_guide/indexing.html#returning-a-view-versus-a-copy\n",
      "  df['fixed'][c222] = 1\n"
     ]
    }
   ],
   "source": [
    "for c222 in wrong_summer:\n",
    "    df['season'][c222] = 'Summer' \n",
    "    df['fixed'][c222] = 1"
   ]
  },
  {
   "cell_type": "code",
   "execution_count": 56,
   "metadata": {},
   "outputs": [
    {
     "name": "stderr",
     "output_type": "stream",
     "text": [
      "<ipython-input-56-41915abb8ebf>:2: SettingWithCopyWarning: \n",
      "A value is trying to be set on a copy of a slice from a DataFrame\n",
      "\n",
      "See the caveats in the documentation: https://pandas.pydata.org/pandas-docs/stable/user_guide/indexing.html#returning-a-view-versus-a-copy\n",
      "  df['date'][wrong_Autumn[2]] = i54\n",
      "<ipython-input-56-41915abb8ebf>:3: SettingWithCopyWarning: \n",
      "A value is trying to be set on a copy of a slice from a DataFrame\n",
      "\n",
      "See the caveats in the documentation: https://pandas.pydata.org/pandas-docs/stable/user_guide/indexing.html#returning-a-view-versus-a-copy\n",
      "  df['fixed'][wrong_Autumn[2]] = 1\n"
     ]
    }
   ],
   "source": [
    "i54 = df['date'][wrong_Autumn[2]][0:5] + df['date'][wrong_Autumn[2]][8:10] + '-' + df['date'][wrong_Autumn[2]][5:7]\n",
    "df['date'][wrong_Autumn[2]] = i54\n",
    "df['fixed'][wrong_Autumn[2]] = 1"
   ]
  },
  {
   "cell_type": "code",
   "execution_count": 57,
   "metadata": {},
   "outputs": [
    {
     "name": "stderr",
     "output_type": "stream",
     "text": [
      "<ipython-input-57-aa879a548971>:2: SettingWithCopyWarning: \n",
      "A value is trying to be set on a copy of a slice from a DataFrame\n",
      "\n",
      "See the caveats in the documentation: https://pandas.pydata.org/pandas-docs/stable/user_guide/indexing.html#returning-a-view-versus-a-copy\n",
      "  df['season'][k34] = 'Autumn'\n",
      "<ipython-input-57-aa879a548971>:3: SettingWithCopyWarning: \n",
      "A value is trying to be set on a copy of a slice from a DataFrame\n",
      "\n",
      "See the caveats in the documentation: https://pandas.pydata.org/pandas-docs/stable/user_guide/indexing.html#returning-a-view-versus-a-copy\n",
      "  df['fixed'][k34] = 1\n"
     ]
    }
   ],
   "source": [
    "for k34 in wrong_Autumn[0:2]:\n",
    "    df['season'][k34] = 'Autumn'\n",
    "    df['fixed'][k34] = 1"
   ]
  },
  {
   "cell_type": "markdown",
   "metadata": {},
   "source": [
    "is_expedited_delivery: in this we will run use the regression models we have create of the missing data so will will have to run this after we have run the missing values code. Here we divide the data into the season and use the different models create to predict the delivery charge and then calculate the residual with the original values. For the outliers of the residual we change the is_expedited_delivery to its inverse and check by repredicting with the new is_expedited_delivery values if it reduses the residual. If the residual reduces then it means that the is_expedited_delivery is was wrong intially and we then correct it in the original dataframe."
   ]
  },
  {
   "cell_type": "code",
   "execution_count": 58,
   "metadata": {},
   "outputs": [],
   "source": [
    "def cost(charge,dis):  \n",
    "    if dis == 50:\n",
    "        cos = charge*2\n",
    "    elif dis == 25:\n",
    "        cos = charge*1.33\n",
    "    elif dis ==0:\n",
    "        cos = charge\n",
    "    return cos    "
   ]
  },
  {
   "cell_type": "code",
   "execution_count": 59,
   "metadata": {},
   "outputs": [],
   "source": [
    "df['delivery_charges2'] = [cost(df.iloc[i][6],df.iloc[i][9]) for i in range(len(df))]\n"
   ]
  },
  {
   "cell_type": "code",
   "execution_count": 60,
   "metadata": {},
   "outputs": [],
   "source": [
    "dfd_summer = df[df['season'] == 'Summer']\n",
    "dfd_winter = df[df['season'] == 'Winter']\n",
    "dfd_aututum = df[df['season'] == 'Autumn']\n",
    "dfd_Spring = df[df['season'] == 'Spring']"
   ]
  },
  {
   "cell_type": "markdown",
   "metadata": {},
   "source": [
    "The code below has been comment out as it need missing data models to run so has been including again after the missing data"
   ]
  },
  {
   "cell_type": "code",
   "execution_count": 61,
   "metadata": {},
   "outputs": [],
   "source": [
    "#dfd_summer['pre_dcharge'] = lm_s.predict(dfd_summer[['distance_to_nearest_warehouse','is_expedited_delivery','is_happy_customer',]])\n",
    "#dfd_winter['pre_dcharge'] = lm_w.predict(dfd_winter[['distance_to_nearest_warehouse','is_expedited_delivery','is_happy_customer',]])\n",
    "#dfd_aututum['pre_dcharge'] = lm_a.predict(dfd_aututum[['distance_to_nearest_warehouse','is_expedited_delivery','is_happy_customer',]])\n",
    "#dfd_Spring['pre_dcharge'] = lm_sp.predict(dfd_Spring[['distance_to_nearest_warehouse','is_expedited_delivery','is_happy_customer',]])"
   ]
  },
  {
   "cell_type": "code",
   "execution_count": 62,
   "metadata": {},
   "outputs": [],
   "source": [
    "#df44 = pd.concat([dfd_summer,dfd_winter,dfd_aututum,dfd_Spring])"
   ]
  },
  {
   "cell_type": "code",
   "execution_count": 63,
   "metadata": {},
   "outputs": [],
   "source": [
    "#df44.sort_index(inplace=True)"
   ]
  },
  {
   "cell_type": "code",
   "execution_count": 64,
   "metadata": {},
   "outputs": [],
   "source": [
    "#df44['residual'] = 0\n",
    "#for idx in range(len(df44)):\n",
    "    #df44['residual'][idx] = abs(df44['pre_dcharge'][idx] - df44['delivery_charges2'][idx])"
   ]
  },
  {
   "cell_type": "markdown",
   "metadata": {},
   "source": [
    "Creating a box plot of residual"
   ]
  },
  {
   "cell_type": "code",
   "execution_count": 65,
   "metadata": {},
   "outputs": [],
   "source": [
    "#bd = df44.boxplot(column='residual',figsize=(12,12))"
   ]
  },
  {
   "cell_type": "markdown",
   "metadata": {},
   "source": [
    "Creating the quantiles"
   ]
  },
  {
   "cell_type": "code",
   "execution_count": 66,
   "metadata": {},
   "outputs": [],
   "source": [
    "#Q1 = df44['residual'].quantile(0.25) \n",
    "#Q3 = df44['residual'].quantile(0.75)\n",
    "#IQR = Q3 - Q1\n",
    "#df_exp = df44[df44['residual'] >= Q3 + 1.5 * IQR]"
   ]
  },
  {
   "cell_type": "code",
   "execution_count": 67,
   "metadata": {},
   "outputs": [],
   "source": [
    "#df_exp['is_expedited_delivery2'] = 0\n",
    "#for l57,l56 in enumerate(df_exp['is_expedited_delivery']):\n",
    "#    if l56 == True:\n",
    "#        df_exp['is_expedited_delivery2'].iloc[l57] = False\n",
    "#    elif l56 == False:\n",
    "#        df_exp['is_expedited_delivery2'].iloc[l57] = True"
   ]
  },
  {
   "cell_type": "code",
   "execution_count": 68,
   "metadata": {},
   "outputs": [],
   "source": [
    "#dfd_summer2 = df_exp[df_exp['season'] == 'Summer']\n",
    "#dfd_winter2 = df_exp[df_exp['season'] == 'Winter']\n",
    "#dfd_aututum2 = df_exp[df_exp['season'] == 'Autumn']\n",
    "#dfd_Spring2 = df_exp[df_exp['season'] == 'Spring']"
   ]
  },
  {
   "cell_type": "code",
   "execution_count": 69,
   "metadata": {},
   "outputs": [],
   "source": [
    "#dfd_summer2['pre_dcharge2'] = lm_s.predict(dfd_summer2[['distance_to_nearest_warehouse','is_expedited_delivery2','is_happy_customer',]])\n",
    "#dfd_winter2['pre_dcharge2'] = lm_w.predict(dfd_winter2[['distance_to_nearest_warehouse','is_expedited_delivery2','is_happy_customer',]])\n",
    "#dfd_aututum2['pre_dcharge2'] = lm_a.predict(dfd_aututum2[['distance_to_nearest_warehouse','is_expedited_delivery2','is_happy_customer',]])\n",
    "#dfd_Spring2['pre_dcharge2'] = lm_sp.predict(dfd_Spring2[['distance_to_nearest_warehouse','is_expedited_delivery2','is_happy_customer',]])"
   ]
  },
  {
   "cell_type": "code",
   "execution_count": 70,
   "metadata": {},
   "outputs": [],
   "source": [
    "#df444 = pd.concat([dfd_summer2,dfd_winter2,dfd_aututum2,dfd_Spring2])"
   ]
  },
  {
   "cell_type": "code",
   "execution_count": 71,
   "metadata": {},
   "outputs": [],
   "source": [
    "#df444.sort_index(inplace=True)"
   ]
  },
  {
   "cell_type": "code",
   "execution_count": 72,
   "metadata": {},
   "outputs": [],
   "source": [
    "#df_exp = df444"
   ]
  },
  {
   "cell_type": "code",
   "execution_count": 73,
   "metadata": {},
   "outputs": [],
   "source": [
    "#df_exp['residal2'] =0\n",
    "#for y45 in df:\n",
    "#    df_exp['residal2'] = abs(df_exp['pre_dcharge2'] - df_exp['delivery_charges2'])"
   ]
  },
  {
   "cell_type": "code",
   "execution_count": 74,
   "metadata": {},
   "outputs": [],
   "source": [
    "#df_exp2 = df_exp[df_exp['residal2'] < df_exp['residual']]"
   ]
  },
  {
   "cell_type": "code",
   "execution_count": 75,
   "metadata": {},
   "outputs": [],
   "source": [
    "#for b88 in df_exp2.index:\n",
    "#    df.iloc[b88]['is_expedited_delivery'] = df_exp2.loc[b88]['is_expedited_delivery2'] \n",
    "#    df.iloc[b88]['fixed'] = 1"
   ]
  },
  {
   "cell_type": "code",
   "execution_count": 76,
   "metadata": {},
   "outputs": [],
   "source": [
    "#df.drop(['test', 'names', 'fixed','test_analysis','delivery_charges2'],axis=1,inplace=True)"
   ]
  },
  {
   "cell_type": "code",
   "execution_count": 77,
   "metadata": {},
   "outputs": [],
   "source": [
    "#df.to_csv(\"31339646_dirty_data_solution.csv\",index=False)"
   ]
  },
  {
   "cell_type": "markdown",
   "metadata": {
    "collapsed": true,
    "id": "KVwmp1LfiqLE"
   },
   "source": [
    "<div class=\"alert alert-block alert-warning\"> \n",
    "\n",
    "## 5.  Missing data <a class=\"anchor\" name=\"write\"></a>\n",
    "\n",
    "</div>"
   ]
  },
  {
   "cell_type": "markdown",
   "metadata": {
    "id": "tFHcHFPGiqLE"
   },
   "source": [
    "Here we use the near and haversine functions to impute the nearest_warehouse and distance_to_nearest_warehouse first then use the linear regression model to make 4 models for each season to impute the rest of the columns"
   ]
  },
  {
   "cell_type": "code",
   "execution_count": 78,
   "metadata": {},
   "outputs": [],
   "source": [
    "df2 = df_missing"
   ]
  },
  {
   "cell_type": "code",
   "execution_count": 79,
   "metadata": {},
   "outputs": [],
   "source": [
    "df2['test'] = df2.apply(lambda row: near(row['customer_lat'], row['customer_long']),axis=1)\n"
   ]
  },
  {
   "cell_type": "code",
   "execution_count": 80,
   "metadata": {},
   "outputs": [],
   "source": [
    "df2['names'] = df2['test']"
   ]
  },
  {
   "cell_type": "code",
   "execution_count": 81,
   "metadata": {},
   "outputs": [],
   "source": [
    "df2 = pd.merge(df2, df_warehouse,on='names', how='left')"
   ]
  },
  {
   "cell_type": "code",
   "execution_count": 82,
   "metadata": {},
   "outputs": [
    {
     "data": {
      "text/html": [
       "<div>\n",
       "<style scoped>\n",
       "    .dataframe tbody tr th:only-of-type {\n",
       "        vertical-align: middle;\n",
       "    }\n",
       "\n",
       "    .dataframe tbody tr th {\n",
       "        vertical-align: top;\n",
       "    }\n",
       "\n",
       "    .dataframe thead th {\n",
       "        text-align: right;\n",
       "    }\n",
       "</style>\n",
       "<table border=\"1\" class=\"dataframe\">\n",
       "  <thead>\n",
       "    <tr style=\"text-align: right;\">\n",
       "      <th></th>\n",
       "      <th>order_id</th>\n",
       "      <th>customer_id</th>\n",
       "      <th>date</th>\n",
       "      <th>nearest_warehouse</th>\n",
       "      <th>shopping_cart</th>\n",
       "      <th>order_price</th>\n",
       "      <th>delivery_charges</th>\n",
       "      <th>customer_lat</th>\n",
       "      <th>customer_long</th>\n",
       "      <th>delivery_discount</th>\n",
       "      <th>season</th>\n",
       "      <th>is_expedited_delivery</th>\n",
       "      <th>distance_to_nearest_warehouse</th>\n",
       "      <th>latest_customer_review</th>\n",
       "      <th>is_happy_customer</th>\n",
       "      <th>test</th>\n",
       "      <th>names</th>\n",
       "      <th>lat</th>\n",
       "      <th>lon</th>\n",
       "    </tr>\n",
       "  </thead>\n",
       "  <tbody>\n",
       "    <tr>\n",
       "      <th>0</th>\n",
       "      <td>ORD371014</td>\n",
       "      <td>ID0845656321</td>\n",
       "      <td>2022-06-14</td>\n",
       "      <td>Nickolson</td>\n",
       "      <td>[('iAssist Line', 1), ('iStream', 2)]</td>\n",
       "      <td>2525</td>\n",
       "      <td>54.916</td>\n",
       "      <td>-37.818057</td>\n",
       "      <td>144.967661</td>\n",
       "      <td>25</td>\n",
       "      <td>Winter</td>\n",
       "      <td>True</td>\n",
       "      <td>0.17668</td>\n",
       "      <td>great phone as promised came as promised and i...</td>\n",
       "      <td>True</td>\n",
       "      <td>Nickolson</td>\n",
       "      <td>Nickolson</td>\n",
       "      <td>-37.818595</td>\n",
       "      <td>144.969551</td>\n",
       "    </tr>\n",
       "    <tr>\n",
       "      <th>1</th>\n",
       "      <td>ORD231367</td>\n",
       "      <td>ID3218226999</td>\n",
       "      <td>2022-09-09</td>\n",
       "      <td>Thompson</td>\n",
       "      <td>[('Alcon 10', 1), ('Universe Note', 1), ('Thun...</td>\n",
       "      <td>17985</td>\n",
       "      <td>74.339</td>\n",
       "      <td>-37.806574</td>\n",
       "      <td>144.945650</td>\n",
       "      <td>0</td>\n",
       "      <td>Spring</td>\n",
       "      <td>False</td>\n",
       "      <td>0.69030</td>\n",
       "      <td>si es compatible con tu compañía de teléfono o...</td>\n",
       "      <td>True</td>\n",
       "      <td>Thompson</td>\n",
       "      <td>Thompson</td>\n",
       "      <td>-37.812673</td>\n",
       "      <td>144.947069</td>\n",
       "    </tr>\n",
       "    <tr>\n",
       "      <th>2</th>\n",
       "      <td>ORD459244</td>\n",
       "      <td>ID0299029600</td>\n",
       "      <td>2022-07-14</td>\n",
       "      <td>Bakers</td>\n",
       "      <td>[('Olivia x460', 1), ('Alcon 10', 1)]</td>\n",
       "      <td>10175</td>\n",
       "      <td>39.225</td>\n",
       "      <td>-37.801560</td>\n",
       "      <td>145.007107</td>\n",
       "      <td>50</td>\n",
       "      <td>Winter</td>\n",
       "      <td>True</td>\n",
       "      <td>1.40455</td>\n",
       "      <td>highly recommend currently using this phone. h...</td>\n",
       "      <td>True</td>\n",
       "      <td>Bakers</td>\n",
       "      <td>Bakers</td>\n",
       "      <td>-37.809996</td>\n",
       "      <td>144.995232</td>\n",
       "    </tr>\n",
       "    <tr>\n",
       "      <th>3</th>\n",
       "      <td>ORD246639</td>\n",
       "      <td>ID0222976606</td>\n",
       "      <td>2022-10-05</td>\n",
       "      <td>Bakers</td>\n",
       "      <td>[('Alcon 10', 1), ('Candle Inferno', 2), ('iSt...</td>\n",
       "      <td>10110</td>\n",
       "      <td>40.081</td>\n",
       "      <td>-37.802242</td>\n",
       "      <td>144.985970</td>\n",
       "      <td>50</td>\n",
       "      <td>Spring</td>\n",
       "      <td>False</td>\n",
       "      <td>1.18685</td>\n",
       "      <td>ended up with 3 of these for children great ec...</td>\n",
       "      <td>True</td>\n",
       "      <td>Bakers</td>\n",
       "      <td>Bakers</td>\n",
       "      <td>-37.809996</td>\n",
       "      <td>144.995232</td>\n",
       "    </tr>\n",
       "    <tr>\n",
       "      <th>4</th>\n",
       "      <td>ORD406320</td>\n",
       "      <td>ID0723973453</td>\n",
       "      <td>2022-09-20</td>\n",
       "      <td>NaN</td>\n",
       "      <td>[('Olivia x460', 1), ('Universe Note', 1)]</td>\n",
       "      <td>4675</td>\n",
       "      <td>106.508</td>\n",
       "      <td>-37.809021</td>\n",
       "      <td>145.010170</td>\n",
       "      <td>0</td>\n",
       "      <td>Spring</td>\n",
       "      <td>True</td>\n",
       "      <td>1.31818</td>\n",
       "      <td>heating problems good phone just kept over hea...</td>\n",
       "      <td>True</td>\n",
       "      <td>Bakers</td>\n",
       "      <td>Bakers</td>\n",
       "      <td>-37.809996</td>\n",
       "      <td>144.995232</td>\n",
       "    </tr>\n",
       "    <tr>\n",
       "      <th>...</th>\n",
       "      <td>...</td>\n",
       "      <td>...</td>\n",
       "      <td>...</td>\n",
       "      <td>...</td>\n",
       "      <td>...</td>\n",
       "      <td>...</td>\n",
       "      <td>...</td>\n",
       "      <td>...</td>\n",
       "      <td>...</td>\n",
       "      <td>...</td>\n",
       "      <td>...</td>\n",
       "      <td>...</td>\n",
       "      <td>...</td>\n",
       "      <td>...</td>\n",
       "      <td>...</td>\n",
       "      <td>...</td>\n",
       "      <td>...</td>\n",
       "      <td>...</td>\n",
       "      <td>...</td>\n",
       "    </tr>\n",
       "    <tr>\n",
       "      <th>495</th>\n",
       "      <td>ORD042490</td>\n",
       "      <td>ID2383211229</td>\n",
       "      <td>2022-05-25</td>\n",
       "      <td>Nickolson</td>\n",
       "      <td>[('Lucent 330S', 1), ('Thunder line', 2)]</td>\n",
       "      <td>5590</td>\n",
       "      <td>32.075</td>\n",
       "      <td>-37.815469</td>\n",
       "      <td>144.966498</td>\n",
       "      <td>50</td>\n",
       "      <td>Autumn</td>\n",
       "      <td>False</td>\n",
       "      <td>0.43952</td>\n",
       "      <td>amazing product you should def buy this !!!!! ...</td>\n",
       "      <td>True</td>\n",
       "      <td>Nickolson</td>\n",
       "      <td>Nickolson</td>\n",
       "      <td>-37.818595</td>\n",
       "      <td>144.969551</td>\n",
       "    </tr>\n",
       "    <tr>\n",
       "      <th>496</th>\n",
       "      <td>ORD429618</td>\n",
       "      <td>ID0136507806</td>\n",
       "      <td>2022-10-12</td>\n",
       "      <td>Nickolson</td>\n",
       "      <td>[('iAssist Line', 1), ('Thunder line', 2), ('L...</td>\n",
       "      <td>7815</td>\n",
       "      <td>38.296</td>\n",
       "      <td>-37.818083</td>\n",
       "      <td>144.961466</td>\n",
       "      <td>50</td>\n",
       "      <td>Spring</td>\n",
       "      <td>False</td>\n",
       "      <td>0.71328</td>\n",
       "      <td>no phone like this for this price for this pri...</td>\n",
       "      <td>True</td>\n",
       "      <td>Nickolson</td>\n",
       "      <td>Nickolson</td>\n",
       "      <td>-37.818595</td>\n",
       "      <td>144.969551</td>\n",
       "    </tr>\n",
       "    <tr>\n",
       "      <th>497</th>\n",
       "      <td>ORD409254</td>\n",
       "      <td>ID0202772800</td>\n",
       "      <td>2022-02-12</td>\n",
       "      <td>Thompson</td>\n",
       "      <td>[('Toshika 750', 1), ('Thunder line', 2)]</td>\n",
       "      <td>8680</td>\n",
       "      <td>67.662</td>\n",
       "      <td>-37.805253</td>\n",
       "      <td>144.926063</td>\n",
       "      <td>25</td>\n",
       "      <td>Summer</td>\n",
       "      <td>True</td>\n",
       "      <td>2.02369</td>\n",
       "      <td>unacceptably terrible customer service from de...</td>\n",
       "      <td>False</td>\n",
       "      <td>Thompson</td>\n",
       "      <td>Thompson</td>\n",
       "      <td>-37.812673</td>\n",
       "      <td>144.947069</td>\n",
       "    </tr>\n",
       "    <tr>\n",
       "      <th>498</th>\n",
       "      <td>ORD053639</td>\n",
       "      <td>ID0605199037</td>\n",
       "      <td>2022-03-31</td>\n",
       "      <td>Nickolson</td>\n",
       "      <td>[('pearTV', 1), ('Alcon 10', 1), ('Candle Infe...</td>\n",
       "      <td>16120</td>\n",
       "      <td>49.565</td>\n",
       "      <td>-37.813406</td>\n",
       "      <td>144.964908</td>\n",
       "      <td>25</td>\n",
       "      <td>Autumn</td>\n",
       "      <td>False</td>\n",
       "      <td>0.70735</td>\n",
       "      <td>five stars very good. nice condicion. fast shi...</td>\n",
       "      <td>True</td>\n",
       "      <td>Nickolson</td>\n",
       "      <td>Nickolson</td>\n",
       "      <td>-37.818595</td>\n",
       "      <td>144.969551</td>\n",
       "    </tr>\n",
       "    <tr>\n",
       "      <th>499</th>\n",
       "      <td>ORD107054</td>\n",
       "      <td>ID0310944056</td>\n",
       "      <td>2022-04-18</td>\n",
       "      <td>NaN</td>\n",
       "      <td>[('Universe Note', 1), ('pearTV', 2)]</td>\n",
       "      <td>16070</td>\n",
       "      <td>65.660</td>\n",
       "      <td>-37.804505</td>\n",
       "      <td>145.002706</td>\n",
       "      <td>0</td>\n",
       "      <td>Autumn</td>\n",
       "      <td>False</td>\n",
       "      <td>NaN</td>\n",
       "      <td>probably a great phone but i donated it to the...</td>\n",
       "      <td>True</td>\n",
       "      <td>Bakers</td>\n",
       "      <td>Bakers</td>\n",
       "      <td>-37.809996</td>\n",
       "      <td>144.995232</td>\n",
       "    </tr>\n",
       "  </tbody>\n",
       "</table>\n",
       "<p>500 rows × 19 columns</p>\n",
       "</div>"
      ],
      "text/plain": [
       "      order_id   customer_id        date nearest_warehouse  \\\n",
       "0    ORD371014  ID0845656321  2022-06-14         Nickolson   \n",
       "1    ORD231367  ID3218226999  2022-09-09          Thompson   \n",
       "2    ORD459244  ID0299029600  2022-07-14            Bakers   \n",
       "3    ORD246639  ID0222976606  2022-10-05            Bakers   \n",
       "4    ORD406320  ID0723973453  2022-09-20               NaN   \n",
       "..         ...           ...         ...               ...   \n",
       "495  ORD042490  ID2383211229  2022-05-25         Nickolson   \n",
       "496  ORD429618  ID0136507806  2022-10-12         Nickolson   \n",
       "497  ORD409254  ID0202772800  2022-02-12          Thompson   \n",
       "498  ORD053639  ID0605199037  2022-03-31         Nickolson   \n",
       "499  ORD107054  ID0310944056  2022-04-18               NaN   \n",
       "\n",
       "                                         shopping_cart  order_price  \\\n",
       "0                [('iAssist Line', 1), ('iStream', 2)]         2525   \n",
       "1    [('Alcon 10', 1), ('Universe Note', 1), ('Thun...        17985   \n",
       "2                [('Olivia x460', 1), ('Alcon 10', 1)]        10175   \n",
       "3    [('Alcon 10', 1), ('Candle Inferno', 2), ('iSt...        10110   \n",
       "4           [('Olivia x460', 1), ('Universe Note', 1)]         4675   \n",
       "..                                                 ...          ...   \n",
       "495          [('Lucent 330S', 1), ('Thunder line', 2)]         5590   \n",
       "496  [('iAssist Line', 1), ('Thunder line', 2), ('L...         7815   \n",
       "497          [('Toshika 750', 1), ('Thunder line', 2)]         8680   \n",
       "498  [('pearTV', 1), ('Alcon 10', 1), ('Candle Infe...        16120   \n",
       "499              [('Universe Note', 1), ('pearTV', 2)]        16070   \n",
       "\n",
       "     delivery_charges  customer_lat  customer_long  delivery_discount  season  \\\n",
       "0              54.916    -37.818057     144.967661                 25  Winter   \n",
       "1              74.339    -37.806574     144.945650                  0  Spring   \n",
       "2              39.225    -37.801560     145.007107                 50  Winter   \n",
       "3              40.081    -37.802242     144.985970                 50  Spring   \n",
       "4             106.508    -37.809021     145.010170                  0  Spring   \n",
       "..                ...           ...            ...                ...     ...   \n",
       "495            32.075    -37.815469     144.966498                 50  Autumn   \n",
       "496            38.296    -37.818083     144.961466                 50  Spring   \n",
       "497            67.662    -37.805253     144.926063                 25  Summer   \n",
       "498            49.565    -37.813406     144.964908                 25  Autumn   \n",
       "499            65.660    -37.804505     145.002706                  0  Autumn   \n",
       "\n",
       "     is_expedited_delivery  distance_to_nearest_warehouse  \\\n",
       "0                     True                        0.17668   \n",
       "1                    False                        0.69030   \n",
       "2                     True                        1.40455   \n",
       "3                    False                        1.18685   \n",
       "4                     True                        1.31818   \n",
       "..                     ...                            ...   \n",
       "495                  False                        0.43952   \n",
       "496                  False                        0.71328   \n",
       "497                   True                        2.02369   \n",
       "498                  False                        0.70735   \n",
       "499                  False                            NaN   \n",
       "\n",
       "                                latest_customer_review  is_happy_customer  \\\n",
       "0    great phone as promised came as promised and i...               True   \n",
       "1    si es compatible con tu compañía de teléfono o...               True   \n",
       "2    highly recommend currently using this phone. h...               True   \n",
       "3    ended up with 3 of these for children great ec...               True   \n",
       "4    heating problems good phone just kept over hea...               True   \n",
       "..                                                 ...                ...   \n",
       "495  amazing product you should def buy this !!!!! ...               True   \n",
       "496  no phone like this for this price for this pri...               True   \n",
       "497  unacceptably terrible customer service from de...              False   \n",
       "498  five stars very good. nice condicion. fast shi...               True   \n",
       "499  probably a great phone but i donated it to the...               True   \n",
       "\n",
       "          test      names        lat         lon  \n",
       "0    Nickolson  Nickolson -37.818595  144.969551  \n",
       "1     Thompson   Thompson -37.812673  144.947069  \n",
       "2       Bakers     Bakers -37.809996  144.995232  \n",
       "3       Bakers     Bakers -37.809996  144.995232  \n",
       "4       Bakers     Bakers -37.809996  144.995232  \n",
       "..         ...        ...        ...         ...  \n",
       "495  Nickolson  Nickolson -37.818595  144.969551  \n",
       "496  Nickolson  Nickolson -37.818595  144.969551  \n",
       "497   Thompson   Thompson -37.812673  144.947069  \n",
       "498  Nickolson  Nickolson -37.818595  144.969551  \n",
       "499     Bakers     Bakers -37.809996  144.995232  \n",
       "\n",
       "[500 rows x 19 columns]"
      ]
     },
     "execution_count": 82,
     "metadata": {},
     "output_type": "execute_result"
    }
   ],
   "source": [
    "df2"
   ]
  },
  {
   "cell_type": "code",
   "execution_count": 83,
   "metadata": {
    "scrolled": true
   },
   "outputs": [],
   "source": [
    "df2['test_distance'] = [haversine(df2.customer_long[i],df2.customer_lat[i],df2.lon[i],df2.lat[i]) for i in range(len(df2))]\n",
    "df2['test_distance'] = df2['test_distance'].round(decimals=5)"
   ]
  },
  {
   "cell_type": "code",
   "execution_count": 84,
   "metadata": {},
   "outputs": [],
   "source": [
    "df_ware = df2[df2['nearest_warehouse'].isnull()] #dividing the data into null values"
   ]
  },
  {
   "cell_type": "code",
   "execution_count": 85,
   "metadata": {},
   "outputs": [
    {
     "name": "stderr",
     "output_type": "stream",
     "text": [
      "<ipython-input-85-d635167169ce>:1: SettingWithCopyWarning: \n",
      "A value is trying to be set on a copy of a slice from a DataFrame.\n",
      "Try using .loc[row_indexer,col_indexer] = value instead\n",
      "\n",
      "See the caveats in the documentation: https://pandas.pydata.org/pandas-docs/stable/user_guide/indexing.html#returning-a-view-versus-a-copy\n",
      "  df_ware['nearest_warehouse'] = df_ware['test'] # substituting the values for the null data\n"
     ]
    }
   ],
   "source": [
    "df_ware['nearest_warehouse'] = df_ware['test'] # substituting the values for the null data"
   ]
  },
  {
   "cell_type": "code",
   "execution_count": 86,
   "metadata": {},
   "outputs": [],
   "source": [
    "df10 = df2[df2['nearest_warehouse'].notnull()] #dividing the data into non null values"
   ]
  },
  {
   "cell_type": "code",
   "execution_count": 87,
   "metadata": {},
   "outputs": [],
   "source": [
    "df11 = pd.concat([df_ware,df10]) # concatinating the values of the null and not null dataframes"
   ]
  },
  {
   "cell_type": "code",
   "execution_count": 88,
   "metadata": {},
   "outputs": [],
   "source": [
    "df_dist = df11[df11['distance_to_nearest_warehouse'].isnull()] #dividing the data into null values"
   ]
  },
  {
   "cell_type": "code",
   "execution_count": 89,
   "metadata": {},
   "outputs": [],
   "source": [
    "df_dnotnull = df11[df11['distance_to_nearest_warehouse'].notnull()]#dividing the data into non null values"
   ]
  },
  {
   "cell_type": "code",
   "execution_count": 90,
   "metadata": {},
   "outputs": [
    {
     "name": "stderr",
     "output_type": "stream",
     "text": [
      "<ipython-input-90-c7c4f52eb661>:1: SettingWithCopyWarning: \n",
      "A value is trying to be set on a copy of a slice from a DataFrame.\n",
      "Try using .loc[row_indexer,col_indexer] = value instead\n",
      "\n",
      "See the caveats in the documentation: https://pandas.pydata.org/pandas-docs/stable/user_guide/indexing.html#returning-a-view-versus-a-copy\n",
      "  df_dist['distance_to_nearest_warehouse'] = df_dist['test_distance'] # substituting the values for the null data\n"
     ]
    }
   ],
   "source": [
    "df_dist['distance_to_nearest_warehouse'] = df_dist['test_distance'] # substituting the values for the null data"
   ]
  },
  {
   "cell_type": "code",
   "execution_count": 91,
   "metadata": {},
   "outputs": [],
   "source": [
    "df12 = pd.concat([df_dist,df_dnotnull])# concatinating the values of the null and not null dataframes"
   ]
  },
  {
   "cell_type": "code",
   "execution_count": 92,
   "metadata": {},
   "outputs": [],
   "source": [
    "df2 = df12 "
   ]
  },
  {
   "cell_type": "markdown",
   "metadata": {},
   "source": [
    "Dividing the data into different seasons for fitting the 4 linear models for each season"
   ]
  },
  {
   "cell_type": "code",
   "execution_count": 93,
   "metadata": {},
   "outputs": [],
   "source": [
    "df_summer = df2[df2['season'] == 'Summer']\n",
    "df_winter = df2[df2['season'] == 'Winter']\n",
    "df_aututum = df2[df2['season'] == 'Autumn']\n",
    "df_Spring = df2[df2['season'] == 'Spring']"
   ]
  },
  {
   "cell_type": "markdown",
   "metadata": {},
   "source": [
    "Dividing the data into null values for each season"
   ]
  },
  {
   "cell_type": "code",
   "execution_count": 94,
   "metadata": {},
   "outputs": [],
   "source": [
    "df_summernan = df_summer[df_summer['delivery_charges'].isnull()]\n",
    "df_winter_nan = df_winter[df_winter['delivery_charges'].isnull()]\n",
    "df_aututum_nan = df_aututum[df_aututum['delivery_charges'].isnull()]\n",
    "df_Spring_nan = df_Spring[df_Spring['delivery_charges'].isnull()]"
   ]
  },
  {
   "cell_type": "markdown",
   "metadata": {},
   "source": [
    "Dividing the data into non null values for each season"
   ]
  },
  {
   "cell_type": "code",
   "execution_count": 95,
   "metadata": {},
   "outputs": [],
   "source": [
    "df_summer_notnull = df_summer[df_summer['delivery_charges'].notnull()]\n",
    "df_winter_notnull = df_winter[df_winter['delivery_charges'].notnull()]\n",
    "df_aututum_notnull = df_aututum[df_aututum['delivery_charges'].notnull()]\n",
    "df_Spring_notnull = df_Spring[df_Spring['delivery_charges'].notnull()]"
   ]
  },
  {
   "cell_type": "markdown",
   "metadata": {},
   "source": [
    "reducing the discount added on the delivery_charges using the cost function difined before"
   ]
  },
  {
   "cell_type": "code",
   "execution_count": 96,
   "metadata": {},
   "outputs": [
    {
     "name": "stderr",
     "output_type": "stream",
     "text": [
      "<ipython-input-96-8cee840e4cc4>:1: SettingWithCopyWarning: \n",
      "A value is trying to be set on a copy of a slice from a DataFrame.\n",
      "Try using .loc[row_indexer,col_indexer] = value instead\n",
      "\n",
      "See the caveats in the documentation: https://pandas.pydata.org/pandas-docs/stable/user_guide/indexing.html#returning-a-view-versus-a-copy\n",
      "  df_summer_notnull['delivery_charges2'] = [cost(df_summer_notnull.iloc[i][6],df_summer_notnull.iloc[i][9]) for i in range(len(df_summer_notnull))]\n",
      "<ipython-input-96-8cee840e4cc4>:2: SettingWithCopyWarning: \n",
      "A value is trying to be set on a copy of a slice from a DataFrame.\n",
      "Try using .loc[row_indexer,col_indexer] = value instead\n",
      "\n",
      "See the caveats in the documentation: https://pandas.pydata.org/pandas-docs/stable/user_guide/indexing.html#returning-a-view-versus-a-copy\n",
      "  df_winter_notnull['delivery_charges2'] = [cost(df_winter_notnull.iloc[i][6],df_winter_notnull.iloc[i][9]) for i in range(len(df_winter_notnull))]\n",
      "<ipython-input-96-8cee840e4cc4>:3: SettingWithCopyWarning: \n",
      "A value is trying to be set on a copy of a slice from a DataFrame.\n",
      "Try using .loc[row_indexer,col_indexer] = value instead\n",
      "\n",
      "See the caveats in the documentation: https://pandas.pydata.org/pandas-docs/stable/user_guide/indexing.html#returning-a-view-versus-a-copy\n",
      "  df_aututum_notnull['delivery_charges2'] = [cost(df_aututum_notnull.iloc[i][6],df_aututum_notnull.iloc[i][9]) for i in range(len(df_aututum_notnull))]\n",
      "<ipython-input-96-8cee840e4cc4>:4: SettingWithCopyWarning: \n",
      "A value is trying to be set on a copy of a slice from a DataFrame.\n",
      "Try using .loc[row_indexer,col_indexer] = value instead\n",
      "\n",
      "See the caveats in the documentation: https://pandas.pydata.org/pandas-docs/stable/user_guide/indexing.html#returning-a-view-versus-a-copy\n",
      "  df_Spring_notnull['delivery_charges2'] = [cost(df_Spring_notnull.iloc[i][6],df_Spring_notnull.iloc[i][9]) for i in range(len(df_Spring_notnull))]\n"
     ]
    }
   ],
   "source": [
    "df_summer_notnull['delivery_charges2'] = [cost(df_summer_notnull.iloc[i][6],df_summer_notnull.iloc[i][9]) for i in range(len(df_summer_notnull))]\n",
    "df_winter_notnull['delivery_charges2'] = [cost(df_winter_notnull.iloc[i][6],df_winter_notnull.iloc[i][9]) for i in range(len(df_winter_notnull))]\n",
    "df_aututum_notnull['delivery_charges2'] = [cost(df_aututum_notnull.iloc[i][6],df_aututum_notnull.iloc[i][9]) for i in range(len(df_aututum_notnull))]\n",
    "df_Spring_notnull['delivery_charges2'] = [cost(df_Spring_notnull.iloc[i][6],df_Spring_notnull.iloc[i][9]) for i in range(len(df_Spring_notnull))]"
   ]
  },
  {
   "cell_type": "markdown",
   "metadata": {},
   "source": [
    "Dividing the data into traing and test data for all the non null values to check the accuracy for our model. We use a set of data to train the model (i.e., to learn the relationships between the independent variables and the dependent variable) and then evaluate the performance of the model on a separate set of data that the model has not seen before. This helps us to estimate how well the model will perform when making predictions on new data."
   ]
  },
  {
   "cell_type": "code",
   "execution_count": 97,
   "metadata": {},
   "outputs": [],
   "source": [
    "X_train, X_test, y_train, y_test = train_test_split(df_summer_notnull[['test_distance','is_expedited_delivery','is_happy_customer']],df_summer_notnull['delivery_charges2'])\n",
    "X_train1, X_test1, y_train1, y_test1 = train_test_split(df_winter_notnull[['test_distance','is_expedited_delivery','is_happy_customer']],df_winter_notnull['delivery_charges2'])\n",
    "X_train2, X_test2, y_train2, y_test2 = train_test_split(df_aututum_notnull[['test_distance','is_expedited_delivery','is_happy_customer']],df_aututum_notnull['delivery_charges2'])\n",
    "X_train3, X_test3, y_train3, y_test3 = train_test_split(df_Spring_notnull[['test_distance','is_expedited_delivery','is_happy_customer']],df_Spring_notnull['delivery_charges2'])"
   ]
  },
  {
   "cell_type": "markdown",
   "metadata": {},
   "source": [
    "The fit method estimates the coefficients of the linear regression model using the provided training data. While the score calculates the score or percent of accuracy of the model for each of the seasons"
   ]
  },
  {
   "cell_type": "code",
   "execution_count": 98,
   "metadata": {},
   "outputs": [
    {
     "data": {
      "text/plain": [
       "0.992875103940874"
      ]
     },
     "execution_count": 98,
     "metadata": {},
     "output_type": "execute_result"
    }
   ],
   "source": [
    "lm_s.fit(X_train,y_train)\n",
    "lm_s.score(X_test,y_test)"
   ]
  },
  {
   "cell_type": "code",
   "execution_count": 99,
   "metadata": {},
   "outputs": [
    {
     "data": {
      "text/plain": [
       "0.9935051567560903"
      ]
     },
     "execution_count": 99,
     "metadata": {},
     "output_type": "execute_result"
    }
   ],
   "source": [
    "lm_w.fit(X_train1,y_train1)\n",
    "lm_w.score(X_test1,y_test1)"
   ]
  },
  {
   "cell_type": "code",
   "execution_count": 100,
   "metadata": {},
   "outputs": [
    {
     "data": {
      "text/plain": [
       "0.9906715911025574"
      ]
     },
     "execution_count": 100,
     "metadata": {},
     "output_type": "execute_result"
    }
   ],
   "source": [
    "lm_a.fit(X_train2,y_train2)\n",
    "lm_a.score(X_test2,y_test2)"
   ]
  },
  {
   "cell_type": "code",
   "execution_count": 101,
   "metadata": {},
   "outputs": [
    {
     "data": {
      "text/plain": [
       "0.9970361652900107"
      ]
     },
     "execution_count": 101,
     "metadata": {},
     "output_type": "execute_result"
    }
   ],
   "source": [
    "lm_sp.fit(X_train3,y_train3)\n",
    "lm_sp.score(X_test3,y_test3)"
   ]
  },
  {
   "cell_type": "markdown",
   "metadata": {},
   "source": [
    "here we use the null data now to make the prediction using the ['test_distance','is_expedited_delivery','is_happy_customer',] columns as input and we predict the delivery charge"
   ]
  },
  {
   "cell_type": "code",
   "execution_count": 102,
   "metadata": {},
   "outputs": [
    {
     "name": "stderr",
     "output_type": "stream",
     "text": [
      "<ipython-input-102-5e4831286e81>:1: SettingWithCopyWarning: \n",
      "A value is trying to be set on a copy of a slice from a DataFrame.\n",
      "Try using .loc[row_indexer,col_indexer] = value instead\n",
      "\n",
      "See the caveats in the documentation: https://pandas.pydata.org/pandas-docs/stable/user_guide/indexing.html#returning-a-view-versus-a-copy\n",
      "  df_summernan['pre_dcharge'] = lm_s.predict(df_summernan[['test_distance','is_expedited_delivery','is_happy_customer',]])\n",
      "<ipython-input-102-5e4831286e81>:2: SettingWithCopyWarning: \n",
      "A value is trying to be set on a copy of a slice from a DataFrame.\n",
      "Try using .loc[row_indexer,col_indexer] = value instead\n",
      "\n",
      "See the caveats in the documentation: https://pandas.pydata.org/pandas-docs/stable/user_guide/indexing.html#returning-a-view-versus-a-copy\n",
      "  df_winter_nan['pre_dcharge'] = lm_w.predict(df_winter_nan[['test_distance','is_expedited_delivery','is_happy_customer',]])\n",
      "<ipython-input-102-5e4831286e81>:3: SettingWithCopyWarning: \n",
      "A value is trying to be set on a copy of a slice from a DataFrame.\n",
      "Try using .loc[row_indexer,col_indexer] = value instead\n",
      "\n",
      "See the caveats in the documentation: https://pandas.pydata.org/pandas-docs/stable/user_guide/indexing.html#returning-a-view-versus-a-copy\n",
      "  df_aututum_nan['pre_dcharge'] = lm_a.predict(df_aututum_nan[['test_distance','is_expedited_delivery','is_happy_customer',]])\n",
      "<ipython-input-102-5e4831286e81>:4: SettingWithCopyWarning: \n",
      "A value is trying to be set on a copy of a slice from a DataFrame.\n",
      "Try using .loc[row_indexer,col_indexer] = value instead\n",
      "\n",
      "See the caveats in the documentation: https://pandas.pydata.org/pandas-docs/stable/user_guide/indexing.html#returning-a-view-versus-a-copy\n",
      "  df_Spring_nan['pre_dcharge'] = lm_sp.predict(df_Spring_nan[['test_distance','is_expedited_delivery','is_happy_customer',]])\n"
     ]
    }
   ],
   "source": [
    "df_summernan['pre_dcharge'] = lm_s.predict(df_summernan[['test_distance','is_expedited_delivery','is_happy_customer',]])\n",
    "df_winter_nan['pre_dcharge'] = lm_w.predict(df_winter_nan[['test_distance','is_expedited_delivery','is_happy_customer',]])\n",
    "df_aututum_nan['pre_dcharge'] = lm_a.predict(df_aututum_nan[['test_distance','is_expedited_delivery','is_happy_customer',]])\n",
    "df_Spring_nan['pre_dcharge'] = lm_sp.predict(df_Spring_nan[['test_distance','is_expedited_delivery','is_happy_customer',]])"
   ]
  },
  {
   "cell_type": "code",
   "execution_count": 103,
   "metadata": {},
   "outputs": [],
   "source": [
    "df5 = pd.concat([df_summernan,df_winter_nan,df_aututum_nan,df_Spring_nan]) # concatinating the data into one dataframe"
   ]
  },
  {
   "cell_type": "markdown",
   "metadata": {},
   "source": [
    "We use this function to reduce the discount on the origanal delivery_charges using the delivery_discount and then we apply this function to every row of null data"
   ]
  },
  {
   "cell_type": "code",
   "execution_count": 104,
   "metadata": {},
   "outputs": [],
   "source": [
    "def charg(charge,dis):\n",
    "    if dis == 0:\n",
    "        cos = charge\n",
    "    elif dis == 25:\n",
    "        cos = charge/1.33\n",
    "    elif dis == 50:\n",
    "        cos = charge/2\n",
    "    return cos    "
   ]
  },
  {
   "cell_type": "code",
   "execution_count": 105,
   "metadata": {},
   "outputs": [],
   "source": [
    "df5['delivery_charges3'] = [charg(df5.iloc[i][20],df5.iloc[i][9]) for i in range(len(df5))]"
   ]
  },
  {
   "cell_type": "code",
   "execution_count": 106,
   "metadata": {},
   "outputs": [],
   "source": [
    "df5['delivery_charges'] = df5['delivery_charges3'] # substiting the imputed values into null column delivery_charges"
   ]
  },
  {
   "cell_type": "code",
   "execution_count": 107,
   "metadata": {},
   "outputs": [],
   "source": [
    "df5.drop(['test', 'names', 'lat','lon','test_distance','pre_dcharge','delivery_charges3'],axis=1,inplace=True) #dropping the colmns we added"
   ]
  },
  {
   "cell_type": "code",
   "execution_count": 108,
   "metadata": {},
   "outputs": [],
   "source": [
    "df6 = pd.concat([df_summer_notnull,df_winter_notnull,df_aututum_notnull,df_Spring_notnull])"
   ]
  },
  {
   "cell_type": "code",
   "execution_count": 109,
   "metadata": {},
   "outputs": [],
   "source": [
    "df6.drop(['test', 'names', 'lat','lon','test_distance','delivery_charges2'],axis=1,inplace=True)"
   ]
  },
  {
   "cell_type": "code",
   "execution_count": 110,
   "metadata": {},
   "outputs": [],
   "source": [
    "df7 = pd.concat([df5,df6])"
   ]
  },
  {
   "cell_type": "code",
   "execution_count": 111,
   "metadata": {},
   "outputs": [],
   "source": [
    "df7.sort_index(inplace=True)"
   ]
  },
  {
   "cell_type": "code",
   "execution_count": 112,
   "metadata": {},
   "outputs": [],
   "source": [
    "df7.to_csv(\"31339646_missing_data_solution.csv\",index=False) # saving the imputed data frome into csv"
   ]
  },
  {
   "cell_type": "markdown",
   "metadata": {
    "id": "i0WT10TJiqLE"
   },
   "source": [
    "is_expedited_delivery from missing data"
   ]
  },
  {
   "cell_type": "code",
   "execution_count": 113,
   "metadata": {},
   "outputs": [],
   "source": [
    "def cost(charge,dis):  \n",
    "    if dis == 50:\n",
    "        cos = charge*2\n",
    "    elif dis == 25:\n",
    "        cos = charge*1.33\n",
    "    elif dis ==0:\n",
    "        cos = charge\n",
    "    return cos    "
   ]
  },
  {
   "cell_type": "code",
   "execution_count": 114,
   "metadata": {},
   "outputs": [],
   "source": [
    "df['delivery_charges2'] = [cost(df.iloc[i][6],df.iloc[i][9]) for i in range(len(df))]"
   ]
  },
  {
   "cell_type": "code",
   "execution_count": 115,
   "metadata": {},
   "outputs": [],
   "source": [
    "dfd_summer = df[df['season'] == 'Summer']\n",
    "dfd_winter = df[df['season'] == 'Winter']\n",
    "dfd_aututum = df[df['season'] == 'Autumn']\n",
    "dfd_Spring = df[df['season'] == 'Spring']"
   ]
  },
  {
   "cell_type": "code",
   "execution_count": 116,
   "metadata": {},
   "outputs": [
    {
     "name": "stderr",
     "output_type": "stream",
     "text": [
      "<ipython-input-116-4f8d07250666>:1: SettingWithCopyWarning: \n",
      "A value is trying to be set on a copy of a slice from a DataFrame.\n",
      "Try using .loc[row_indexer,col_indexer] = value instead\n",
      "\n",
      "See the caveats in the documentation: https://pandas.pydata.org/pandas-docs/stable/user_guide/indexing.html#returning-a-view-versus-a-copy\n",
      "  dfd_summer['pre_dcharge'] = lm_s.predict(dfd_summer[['distance_to_nearest_warehouse','is_expedited_delivery','is_happy_customer',]])\n",
      "<ipython-input-116-4f8d07250666>:2: SettingWithCopyWarning: \n",
      "A value is trying to be set on a copy of a slice from a DataFrame.\n",
      "Try using .loc[row_indexer,col_indexer] = value instead\n",
      "\n",
      "See the caveats in the documentation: https://pandas.pydata.org/pandas-docs/stable/user_guide/indexing.html#returning-a-view-versus-a-copy\n",
      "  dfd_winter['pre_dcharge'] = lm_w.predict(dfd_winter[['distance_to_nearest_warehouse','is_expedited_delivery','is_happy_customer',]])\n",
      "<ipython-input-116-4f8d07250666>:3: SettingWithCopyWarning: \n",
      "A value is trying to be set on a copy of a slice from a DataFrame.\n",
      "Try using .loc[row_indexer,col_indexer] = value instead\n",
      "\n",
      "See the caveats in the documentation: https://pandas.pydata.org/pandas-docs/stable/user_guide/indexing.html#returning-a-view-versus-a-copy\n",
      "  dfd_aututum['pre_dcharge'] = lm_a.predict(dfd_aututum[['distance_to_nearest_warehouse','is_expedited_delivery','is_happy_customer',]])\n",
      "<ipython-input-116-4f8d07250666>:4: SettingWithCopyWarning: \n",
      "A value is trying to be set on a copy of a slice from a DataFrame.\n",
      "Try using .loc[row_indexer,col_indexer] = value instead\n",
      "\n",
      "See the caveats in the documentation: https://pandas.pydata.org/pandas-docs/stable/user_guide/indexing.html#returning-a-view-versus-a-copy\n",
      "  dfd_Spring['pre_dcharge'] = lm_sp.predict(dfd_Spring[['distance_to_nearest_warehouse','is_expedited_delivery','is_happy_customer',]])\n"
     ]
    }
   ],
   "source": [
    "dfd_summer['pre_dcharge'] = lm_s.predict(dfd_summer[['distance_to_nearest_warehouse','is_expedited_delivery','is_happy_customer',]])\n",
    "dfd_winter['pre_dcharge'] = lm_w.predict(dfd_winter[['distance_to_nearest_warehouse','is_expedited_delivery','is_happy_customer',]])\n",
    "dfd_aututum['pre_dcharge'] = lm_a.predict(dfd_aututum[['distance_to_nearest_warehouse','is_expedited_delivery','is_happy_customer',]])\n",
    "dfd_Spring['pre_dcharge'] = lm_sp.predict(dfd_Spring[['distance_to_nearest_warehouse','is_expedited_delivery','is_happy_customer',]])"
   ]
  },
  {
   "cell_type": "code",
   "execution_count": 117,
   "metadata": {},
   "outputs": [],
   "source": [
    "df44 = pd.concat([dfd_summer,dfd_winter,dfd_aututum,dfd_Spring])\n",
    "df44.sort_index(inplace=True)"
   ]
  },
  {
   "cell_type": "code",
   "execution_count": 118,
   "metadata": {},
   "outputs": [
    {
     "name": "stderr",
     "output_type": "stream",
     "text": [
      "<ipython-input-118-0aa08e25defb>:3: SettingWithCopyWarning: \n",
      "A value is trying to be set on a copy of a slice from a DataFrame\n",
      "\n",
      "See the caveats in the documentation: https://pandas.pydata.org/pandas-docs/stable/user_guide/indexing.html#returning-a-view-versus-a-copy\n",
      "  df44['residual'][idx] = abs(df44['pre_dcharge'][idx] - df44['delivery_charges2'][idx])\n"
     ]
    }
   ],
   "source": [
    "df44['residual'] = 0\n",
    "for idx in range(len(df44)):\n",
    "    df44['residual'][idx] = abs(df44['pre_dcharge'][idx] - df44['delivery_charges2'][idx])"
   ]
  },
  {
   "cell_type": "code",
   "execution_count": 119,
   "metadata": {},
   "outputs": [
    {
     "data": {
      "image/png": "[encoded data removed]",
      "text/plain": [
       "<Figure size 864x864 with 1 Axes>"
      ]
     },
     "metadata": {
      "needs_background": "light"
     },
     "output_type": "display_data"
    }
   ],
   "source": [
    "bd = df44.boxplot(column='residual',figsize=(12,12))"
   ]
  },
  {
   "cell_type": "code",
   "execution_count": 120,
   "metadata": {},
   "outputs": [],
   "source": [
    "Q1 = df44['residual'].quantile(0.25) \n",
    "Q3 = df44['residual'].quantile(0.75)\n",
    "IQR = Q3 - Q1\n",
    "df_exp = df44[df44['residual'] >= Q3 + 1.5 * IQR]"
   ]
  },
  {
   "cell_type": "code",
   "execution_count": 121,
   "metadata": {},
   "outputs": [
    {
     "name": "stderr",
     "output_type": "stream",
     "text": [
      "<ipython-input-121-579ebe7c3be8>:1: SettingWithCopyWarning: \n",
      "A value is trying to be set on a copy of a slice from a DataFrame.\n",
      "Try using .loc[row_indexer,col_indexer] = value instead\n",
      "\n",
      "See the caveats in the documentation: https://pandas.pydata.org/pandas-docs/stable/user_guide/indexing.html#returning-a-view-versus-a-copy\n",
      "  df_exp['is_expedited_delivery2'] = 0\n",
      "C:\\Users\\Ro\\anaconda3\\lib\\site-packages\\pandas\\core\\indexing.py:670: SettingWithCopyWarning: \n",
      "A value is trying to be set on a copy of a slice from a DataFrame\n",
      "\n",
      "See the caveats in the documentation: https://pandas.pydata.org/pandas-docs/stable/user_guide/indexing.html#returning-a-view-versus-a-copy\n",
      "  iloc._setitem_with_indexer(indexer, value)\n",
      "<ipython-input-121-579ebe7c3be8>:6: SettingWithCopyWarning: \n",
      "A value is trying to be set on a copy of a slice from a DataFrame\n",
      "\n",
      "See the caveats in the documentation: https://pandas.pydata.org/pandas-docs/stable/user_guide/indexing.html#returning-a-view-versus-a-copy\n",
      "  df_exp['is_expedited_delivery2'].iloc[l57] = True\n",
      "<ipython-input-121-579ebe7c3be8>:4: SettingWithCopyWarning: \n",
      "A value is trying to be set on a copy of a slice from a DataFrame\n",
      "\n",
      "See the caveats in the documentation: https://pandas.pydata.org/pandas-docs/stable/user_guide/indexing.html#returning-a-view-versus-a-copy\n",
      "  df_exp['is_expedited_delivery2'].iloc[l57] = False\n"
     ]
    }
   ],
   "source": [
    "df_exp['is_expedited_delivery2'] = 0\n",
    "for l57,l56 in enumerate(df_exp['is_expedited_delivery']):\n",
    "    if l56 == True:\n",
    "        df_exp['is_expedited_delivery2'].iloc[l57] = False\n",
    "    elif l56 == False:\n",
    "        df_exp['is_expedited_delivery2'].iloc[l57] = True"
   ]
  },
  {
   "cell_type": "code",
   "execution_count": 122,
   "metadata": {},
   "outputs": [],
   "source": [
    "dfd_summer2 = df_exp[df_exp['season'] == 'Summer']\n",
    "dfd_winter2 = df_exp[df_exp['season'] == 'Winter']\n",
    "dfd_aututum2 = df_exp[df_exp['season'] == 'Autumn']\n",
    "dfd_Spring2 = df_exp[df_exp['season'] == 'Spring']"
   ]
  },
  {
   "cell_type": "code",
   "execution_count": 123,
   "metadata": {},
   "outputs": [
    {
     "name": "stderr",
     "output_type": "stream",
     "text": [
      "<ipython-input-123-944e65ac52f0>:1: SettingWithCopyWarning: \n",
      "A value is trying to be set on a copy of a slice from a DataFrame.\n",
      "Try using .loc[row_indexer,col_indexer] = value instead\n",
      "\n",
      "See the caveats in the documentation: https://pandas.pydata.org/pandas-docs/stable/user_guide/indexing.html#returning-a-view-versus-a-copy\n",
      "  dfd_summer2['pre_dcharge2'] = lm_s.predict(dfd_summer2[['distance_to_nearest_warehouse','is_expedited_delivery2','is_happy_customer',]])\n",
      "<ipython-input-123-944e65ac52f0>:2: SettingWithCopyWarning: \n",
      "A value is trying to be set on a copy of a slice from a DataFrame.\n",
      "Try using .loc[row_indexer,col_indexer] = value instead\n",
      "\n",
      "See the caveats in the documentation: https://pandas.pydata.org/pandas-docs/stable/user_guide/indexing.html#returning-a-view-versus-a-copy\n",
      "  dfd_winter2['pre_dcharge2'] = lm_w.predict(dfd_winter2[['distance_to_nearest_warehouse','is_expedited_delivery2','is_happy_customer',]])\n",
      "<ipython-input-123-944e65ac52f0>:3: SettingWithCopyWarning: \n",
      "A value is trying to be set on a copy of a slice from a DataFrame.\n",
      "Try using .loc[row_indexer,col_indexer] = value instead\n",
      "\n",
      "See the caveats in the documentation: https://pandas.pydata.org/pandas-docs/stable/user_guide/indexing.html#returning-a-view-versus-a-copy\n",
      "  dfd_aututum2['pre_dcharge2'] = lm_a.predict(dfd_aututum2[['distance_to_nearest_warehouse','is_expedited_delivery2','is_happy_customer',]])\n",
      "<ipython-input-123-944e65ac52f0>:4: SettingWithCopyWarning: \n",
      "A value is trying to be set on a copy of a slice from a DataFrame.\n",
      "Try using .loc[row_indexer,col_indexer] = value instead\n",
      "\n",
      "See the caveats in the documentation: https://pandas.pydata.org/pandas-docs/stable/user_guide/indexing.html#returning-a-view-versus-a-copy\n",
      "  dfd_Spring2['pre_dcharge2'] = lm_sp.predict(dfd_Spring2[['distance_to_nearest_warehouse','is_expedited_delivery2','is_happy_customer',]])\n"
     ]
    }
   ],
   "source": [
    "dfd_summer2['pre_dcharge2'] = lm_s.predict(dfd_summer2[['distance_to_nearest_warehouse','is_expedited_delivery2','is_happy_customer',]])\n",
    "dfd_winter2['pre_dcharge2'] = lm_w.predict(dfd_winter2[['distance_to_nearest_warehouse','is_expedited_delivery2','is_happy_customer',]])\n",
    "dfd_aututum2['pre_dcharge2'] = lm_a.predict(dfd_aututum2[['distance_to_nearest_warehouse','is_expedited_delivery2','is_happy_customer',]])\n",
    "dfd_Spring2['pre_dcharge2'] = lm_sp.predict(dfd_Spring2[['distance_to_nearest_warehouse','is_expedited_delivery2','is_happy_customer',]])"
   ]
  },
  {
   "cell_type": "code",
   "execution_count": 124,
   "metadata": {},
   "outputs": [],
   "source": [
    "df444 = pd.concat([dfd_summer2,dfd_winter2,dfd_aututum2,dfd_Spring2])\n",
    "df444.sort_index(inplace=True)\n",
    "df_exp = df444"
   ]
  },
  {
   "cell_type": "code",
   "execution_count": 125,
   "metadata": {},
   "outputs": [],
   "source": [
    "df_exp['residal2'] =0\n",
    "for y45 in df:\n",
    "    df_exp['residal2'] = abs(df_exp['pre_dcharge2'] - df_exp['delivery_charges2'])"
   ]
  },
  {
   "cell_type": "code",
   "execution_count": 126,
   "metadata": {},
   "outputs": [],
   "source": [
    "df_exp2 = df_exp[df_exp['residal2'] < df_exp['residual']]"
   ]
  },
  {
   "cell_type": "code",
   "execution_count": 127,
   "metadata": {},
   "outputs": [
    {
     "name": "stderr",
     "output_type": "stream",
     "text": [
      "<ipython-input-127-de92723cc054>:2: SettingWithCopyWarning: \n",
      "A value is trying to be set on a copy of a slice from a DataFrame\n",
      "\n",
      "See the caveats in the documentation: https://pandas.pydata.org/pandas-docs/stable/user_guide/indexing.html#returning-a-view-versus-a-copy\n",
      "  df.iloc[b88]['is_expedited_delivery'] = df_exp2.loc[b88]['is_expedited_delivery2']\n",
      "<ipython-input-127-de92723cc054>:3: SettingWithCopyWarning: \n",
      "A value is trying to be set on a copy of a slice from a DataFrame\n",
      "\n",
      "See the caveats in the documentation: https://pandas.pydata.org/pandas-docs/stable/user_guide/indexing.html#returning-a-view-versus-a-copy\n",
      "  df.iloc[b88]['fixed'] = 1\n"
     ]
    }
   ],
   "source": [
    "for b88 in df_exp2.index:\n",
    "    df.iloc[b88]['is_expedited_delivery'] = df_exp2.loc[b88]['is_expedited_delivery2'] \n",
    "    df.iloc[b88]['fixed'] = 1"
   ]
  },
  {
   "cell_type": "code",
   "execution_count": 128,
   "metadata": {},
   "outputs": [
    {
     "data": {
      "text/plain": [
       "55"
      ]
     },
     "execution_count": 128,
     "metadata": {},
     "output_type": "execute_result"
    }
   ],
   "source": [
    "len(df[df['fixed'] == 1])"
   ]
  },
  {
   "cell_type": "code",
   "execution_count": 129,
   "metadata": {},
   "outputs": [],
   "source": [
    "df.drop(['test', 'names', 'fixed','test_analysis','delivery_charges2'],axis=1,inplace=True)"
   ]
  },
  {
   "cell_type": "code",
   "execution_count": 130,
   "metadata": {},
   "outputs": [],
   "source": [
    "df.to_csv(\"31339646_dirty_data_solution.csv\",index=False)"
   ]
  },
  {
   "cell_type": "markdown",
   "metadata": {
    "collapsed": true,
    "id": "3XcaJBATiqLE"
   },
   "source": [
    "<div class=\"alert alert-block alert-info\">\n",
    "    \n",
    "### Outlier data <a class=\"anchor\" name=\"test_xml\"></a>"
   ]
  },
  {
   "cell_type": "markdown",
   "metadata": {
    "id": "jEg_xQdXiqLF"
   },
   "source": [
    "For the outlier data we predict the delivery_charges using 'distance_to_nearest_warehouse','is_expedited_delivery','is_happy_customer' for each season and use the predicted values to calculate the residual. We then use the residual to plot a box plot to find the outliers and remove them and again plot a boxplot to see if any new outlier come up. We repeat this process for each season till we have no more outliers with respect to delivery_charges. "
   ]
  },
  {
   "cell_type": "code",
   "execution_count": 131,
   "metadata": {},
   "outputs": [],
   "source": [
    "df0['pred1'] = 0 #intializing the value of new column pred1"
   ]
  },
  {
   "cell_type": "code",
   "execution_count": 132,
   "metadata": {},
   "outputs": [],
   "source": [
    "dfs=df0[df0['season'] == 'Summer']\n",
    "dfw= df0[df0['season'] == 'Winter']\n",
    "dfsp = df0[df0['season'] == 'Spring']\n",
    "dfa=df0[df0['season'] == 'Autumn']"
   ]
  },
  {
   "cell_type": "markdown",
   "metadata": {},
   "source": [
    "We use the models we made for the missing data of each season to predict the delivery_charge for each row of the outlier data. "
   ]
  },
  {
   "cell_type": "code",
   "execution_count": 133,
   "metadata": {},
   "outputs": [
    {
     "name": "stderr",
     "output_type": "stream",
     "text": [
      "<ipython-input-133-829984a93ea6>:1: SettingWithCopyWarning: \n",
      "A value is trying to be set on a copy of a slice from a DataFrame.\n",
      "Try using .loc[row_indexer,col_indexer] = value instead\n",
      "\n",
      "See the caveats in the documentation: https://pandas.pydata.org/pandas-docs/stable/user_guide/indexing.html#returning-a-view-versus-a-copy\n",
      "  dfs['pred1'] = lm_s.predict(df0[df0['season'] == 'Summer'][['distance_to_nearest_warehouse','is_expedited_delivery','is_happy_customer']])\n",
      "<ipython-input-133-829984a93ea6>:2: SettingWithCopyWarning: \n",
      "A value is trying to be set on a copy of a slice from a DataFrame.\n",
      "Try using .loc[row_indexer,col_indexer] = value instead\n",
      "\n",
      "See the caveats in the documentation: https://pandas.pydata.org/pandas-docs/stable/user_guide/indexing.html#returning-a-view-versus-a-copy\n",
      "  dfw['pred1'] = lm_w.predict(df0[df0['season'] == 'Winter'][['distance_to_nearest_warehouse','is_expedited_delivery','is_happy_customer']])\n",
      "<ipython-input-133-829984a93ea6>:3: SettingWithCopyWarning: \n",
      "A value is trying to be set on a copy of a slice from a DataFrame.\n",
      "Try using .loc[row_indexer,col_indexer] = value instead\n",
      "\n",
      "See the caveats in the documentation: https://pandas.pydata.org/pandas-docs/stable/user_guide/indexing.html#returning-a-view-versus-a-copy\n",
      "  dfsp['pred1'] = lm_sp.predict(df0[df0['season'] == 'Spring'][['distance_to_nearest_warehouse','is_expedited_delivery','is_happy_customer']])\n",
      "<ipython-input-133-829984a93ea6>:4: SettingWithCopyWarning: \n",
      "A value is trying to be set on a copy of a slice from a DataFrame.\n",
      "Try using .loc[row_indexer,col_indexer] = value instead\n",
      "\n",
      "See the caveats in the documentation: https://pandas.pydata.org/pandas-docs/stable/user_guide/indexing.html#returning-a-view-versus-a-copy\n",
      "  dfa['pred1'] = lm_a.predict(df0[df0['season'] == 'Autumn'][['distance_to_nearest_warehouse','is_expedited_delivery','is_happy_customer']])\n"
     ]
    }
   ],
   "source": [
    "dfs['pred1'] = lm_s.predict(df0[df0['season'] == 'Summer'][['distance_to_nearest_warehouse','is_expedited_delivery','is_happy_customer']])\n",
    "dfw['pred1'] = lm_w.predict(df0[df0['season'] == 'Winter'][['distance_to_nearest_warehouse','is_expedited_delivery','is_happy_customer']])\n",
    "dfsp['pred1'] = lm_sp.predict(df0[df0['season'] == 'Spring'][['distance_to_nearest_warehouse','is_expedited_delivery','is_happy_customer']])\n",
    "dfa['pred1'] = lm_a.predict(df0[df0['season'] == 'Autumn'][['distance_to_nearest_warehouse','is_expedited_delivery','is_happy_customer']])"
   ]
  },
  {
   "cell_type": "code",
   "execution_count": 134,
   "metadata": {},
   "outputs": [],
   "source": [
    "df7 = pd.concat([dfs,dfw,dfsp,dfa]) #concatinating the 4 datafromes together"
   ]
  },
  {
   "cell_type": "code",
   "execution_count": 135,
   "metadata": {},
   "outputs": [],
   "source": [
    "df7.sort_index(inplace=True) #sorting the dataframe"
   ]
  },
  {
   "cell_type": "code",
   "execution_count": 136,
   "metadata": {},
   "outputs": [],
   "source": [
    "df7['delivery_charges2'] = [cost(df7.iloc[i][6],df7.iloc[i][9]) for i in range(len(df7))] #applying the cost function on each value of the delivery_charges"
   ]
  },
  {
   "cell_type": "code",
   "execution_count": 137,
   "metadata": {},
   "outputs": [],
   "source": [
    "df7['residual'] =abs(df7['delivery_charges2']- df7['pred1']) #calculating the residual"
   ]
  },
  {
   "cell_type": "code",
   "execution_count": 138,
   "metadata": {},
   "outputs": [
    {
     "data": {
      "image/png": "[encoded data removed]",
      "text/plain": [
       "<Figure size 864x864 with 1 Axes>"
      ]
     },
     "metadata": {
      "needs_background": "light"
     },
     "output_type": "display_data"
    }
   ],
   "source": [
    "bd = df7.boxplot(column='residual',by='season',figsize=(12,12)) #creating a boxplot for each season"
   ]
  },
  {
   "cell_type": "markdown",
   "metadata": {},
   "source": [
    "Dividing the data again into the different seasons and saving it as four different dataframes to calculate the quantiles"
   ]
  },
  {
   "cell_type": "code",
   "execution_count": 139,
   "metadata": {},
   "outputs": [],
   "source": [
    "df7s=df7[df7['season'] == 'Summer']  \n",
    "df7w=df7[df7['season'] == 'Winter']\n",
    "df7a=df7[df7['season'] == 'Autumn']\n",
    "df7sp=df7[df7['season'] == 'Spring']"
   ]
  },
  {
   "cell_type": "markdown",
   "metadata": {},
   "source": [
    "Calculating the quantile for each season and dropping the outliers of the residual and repeating the process till we get rid of all the outliers amd we plot a boxplot to check"
   ]
  },
  {
   "cell_type": "code",
   "execution_count": 140,
   "metadata": {},
   "outputs": [
    {
     "data": {
      "image/png": "[encoded data removed]",
      "text/plain": [
       "<Figure size 864x864 with 1 Axes>"
      ]
     },
     "metadata": {
      "needs_background": "light"
     },
     "output_type": "display_data"
    }
   ],
   "source": [
    "Q1 = df7w['residual'].quantile(0.25) #calculates the first quartile of the residuals\n",
    "Q3 = df7w['residual'].quantile(0.75) #calculates the third quartile of the residuals\n",
    "IQR = Q3 - Q1 #calculates the interquartile range (IQR) of the residuals\n",
    "df7w= df7w.drop(df7w[df7w['residual'] >= Q3 + 1.5 * IQR].index) # drops the outlier rows\n",
    "bd = df7w.boxplot(column='residual',by='season',figsize=(12,12)) #plots boxplot"
   ]
  },
  {
   "cell_type": "code",
   "execution_count": 141,
   "metadata": {},
   "outputs": [
    {
     "data": {
      "image/png": "[encoded data removed]",
      "text/plain": [
       "<Figure size 864x864 with 1 Axes>"
      ]
     },
     "metadata": {
      "needs_background": "light"
     },
     "output_type": "display_data"
    }
   ],
   "source": [
    "Q1 = df7a['residual'].quantile(0.25) #calculates the first quartile of the residuals\n",
    "Q3 = df7a['residual'].quantile(0.75) #calculates the third quartile of the residuals\n",
    "IQR = Q3 - Q1\n",
    "df7a= df7a.drop(df7a[df7a['residual'] >= Q3 + 1.5 * IQR].index)\n",
    "bd = df7a.boxplot(column='residual',by='season',figsize=(12,12))"
   ]
  },
  {
   "cell_type": "code",
   "execution_count": 142,
   "metadata": {},
   "outputs": [
    {
     "data": {
      "image/png": "[encoded data removed]",
      "text/plain": [
       "<Figure size 864x864 with 1 Axes>"
      ]
     },
     "metadata": {
      "needs_background": "light"
     },
     "output_type": "display_data"
    }
   ],
   "source": [
    "Q1 = df7a['residual'].quantile(0.25) #calculates the first quartile of the residuals\n",
    "Q3 = df7a['residual'].quantile(0.75) #calculates the third quartile of the residuals\n",
    "IQR = Q3 - Q1\n",
    "df7a= df7a.drop(df7a[df7a['residual'] >= Q3 + 1.5 * IQR].index)\n",
    "bd = df7a.boxplot(column='residual',by='season',figsize=(12,12))"
   ]
  },
  {
   "cell_type": "code",
   "execution_count": 143,
   "metadata": {},
   "outputs": [
    {
     "data": {
      "image/png": "[encoded data removed]",
      "text/plain": [
       "<Figure size 864x864 with 1 Axes>"
      ]
     },
     "metadata": {
      "needs_background": "light"
     },
     "output_type": "display_data"
    }
   ],
   "source": [
    "Q1 = df7sp['residual'].quantile(0.25) #calculates the first quartile of the residuals\n",
    "Q3 = df7sp['residual'].quantile(0.75) #calculates the third quartile of the residuals\n",
    "IQR = Q3 - Q1\n",
    "df7sp= df7sp.drop(df7sp[df7sp['residual'] >= Q3 + 1.5 * IQR].index)\n",
    "bd = df7sp.boxplot(column='residual',by='season',figsize=(12,12))"
   ]
  },
  {
   "cell_type": "code",
   "execution_count": 144,
   "metadata": {},
   "outputs": [
    {
     "data": {
      "image/png": "[encoded data removed]",
      "text/plain": [
       "<Figure size 864x864 with 1 Axes>"
      ]
     },
     "metadata": {
      "needs_background": "light"
     },
     "output_type": "display_data"
    }
   ],
   "source": [
    "Q1 = df7sp['residual'].quantile(0.25) #calculates the first quartile of the residuals\n",
    "Q3 = df7sp['residual'].quantile(0.75) #calculates the third quartile of the residuals\n",
    "IQR = Q3 - Q1\n",
    "df7sp= df7sp.drop(df7sp[df7sp['residual'] >= Q3 + 1.5 * IQR].index)\n",
    "bd = df7sp.boxplot(column='residual',by='season',figsize=(12,12))"
   ]
  },
  {
   "cell_type": "code",
   "execution_count": 145,
   "metadata": {},
   "outputs": [
    {
     "data": {
      "image/png": "[encoded data removed]",
      "text/plain": [
       "<Figure size 864x864 with 1 Axes>"
      ]
     },
     "metadata": {
      "needs_background": "light"
     },
     "output_type": "display_data"
    }
   ],
   "source": [
    "Q1 = df7s['residual'].quantile(0.25) #calculates the first quartile of the residuals\n",
    "Q3 = df7s['residual'].quantile(0.75) #calculates the third quartile of the residuals\n",
    "IQR = Q3 - Q1\n",
    "df7s= df7s.drop(df7s[df7s['residual'] >= Q3 + 1.5 * IQR].index)\n",
    "bd = df7s.boxplot(column='residual',by='season',figsize=(12,12))"
   ]
  },
  {
   "cell_type": "code",
   "execution_count": 146,
   "metadata": {},
   "outputs": [
    {
     "data": {
      "image/png": "[encoded data removed]",
      "text/plain": [
       "<Figure size 864x864 with 1 Axes>"
      ]
     },
     "metadata": {
      "needs_background": "light"
     },
     "output_type": "display_data"
    }
   ],
   "source": [
    "Q1 = df7s['residual'].quantile(0.25) #calculates the first quartile of the residuals\n",
    "Q3 = df7s['residual'].quantile(0.75) #calculates the third quartile of the residuals\n",
    "IQR = Q3 - Q1\n",
    "df7s= df7s.drop(df7s[df7s['residual'] >= Q3 + 1.5 * IQR].index)\n",
    "bd = df7s.boxplot(column='residual',by='season',figsize=(12,12))"
   ]
  },
  {
   "cell_type": "code",
   "execution_count": 147,
   "metadata": {},
   "outputs": [
    {
     "data": {
      "image/png": "[encoded data removed]",
      "text/plain": [
       "<Figure size 864x864 with 1 Axes>"
      ]
     },
     "metadata": {
      "needs_background": "light"
     },
     "output_type": "display_data"
    }
   ],
   "source": [
    "Q1 = df7s['residual'].quantile(0.25) #calculates the first quartile of the residuals\n",
    "Q3 = df7s['residual'].quantile(0.75) #calculates the third quartile of the residuals\n",
    "IQR = Q3 - Q1\n",
    "df7s= df7s.drop(df7s[df7s['residual'] >= Q3 + 1.5 * IQR].index)\n",
    "bd = df7s.boxplot(column='residual',by='season',figsize=(12,12))"
   ]
  },
  {
   "cell_type": "markdown",
   "metadata": {
    "id": "20RDw_JDiqLF"
   },
   "source": [
    "-------------------------------------"
   ]
  },
  {
   "cell_type": "code",
   "execution_count": 148,
   "metadata": {},
   "outputs": [],
   "source": [
    "df7 = pd.concat([df7s,df7sp,df7a,df7w])\n",
    "df7.sort_index(inplace=True)"
   ]
  },
  {
   "cell_type": "code",
   "execution_count": 149,
   "metadata": {},
   "outputs": [],
   "source": [
    "df7.to_csv(\"31339646_outlier_data_solution.csv\",index=False) #wrting the data"
   ]
  },
  {
   "cell_type": "markdown",
   "metadata": {
    "id": "TnASfTmniqLF"
   },
   "source": [
    "-------------------------------------"
   ]
  },
  {
   "cell_type": "markdown",
   "metadata": {
    "id": "Li7bchX9iqLF"
   },
   "source": [
    "<div class=\"alert alert-block alert-warning\"> \n",
    "\n",
    "## 7. References <a class=\"anchor\" name=\"Ref\"></a>\n",
    "\n",
    "</div>"
   ]
  },
  {
   "cell_type": "markdown",
   "metadata": {
    "id": "TkWuWC3NiqLF"
   },
   "source": [
    "\n",
    "\n",
    "[1]<a class=\"anchor\" name=\"ref-2\"></a> https://stackoverflow.com/questions/4913349/haversine-formula-in-python-bearing-and-distance-between-two-gps-points/4913653#4913653\n",
    "\n",
    "....\n"
   ]
  },
  {
   "cell_type": "markdown",
   "metadata": {
    "id": "dVyuz4LciqLG"
   },
   "source": [
    "## --------------------------------------------------------------------------------------------------------------------------"
   ]
  }
 ],
 "metadata": {
  "colab": {
   "name": "task1_xxxxxxx.ipynb",
   "provenance": []
  },
  "kernelspec": {
   "display_name": "Python 3",
   "language": "python",
   "name": "python3"
  },
  "language_info": {
   "codemirror_mode": {
    "name": "ipython",
    "version": 3
   },
   "file_extension": ".py",
   "mimetype": "text/x-python",
   "name": "python",
   "nbconvert_exporter": "python",
   "pygments_lexer": "ipython3",
   "version": "3.8.5"
  }
 },
 "nbformat": 4,
 "nbformat_minor": 1
}
