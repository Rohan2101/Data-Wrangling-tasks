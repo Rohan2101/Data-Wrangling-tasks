{
 "cells": [
  {
   "cell_type": "markdown",
   "metadata": {
    "id": "S8tinZOUlDER"
   },
   "source": [
    "<div class=\"alert alert-block alert-danger\">\n",
    "\n",
    "# FIT5196 Task 2 in Assessment 1\n",
    "    \n",
    "#### Student Name: Rohan Singh\n",
    "#### Student ID: 31339646\n",
    "\n",
    "Date: 17-04-2023\n",
    "\n",
    "Environment: Jupyter Notebook\n",
    "\n",
    "Libraries used:\n",
    "* os (for interacting with the operating system, included in Python xxxx) \n",
    "* pandas 1.1.0 (for dataframe, installed and imported) \n",
    "* multiprocessing (for performing processes on multi cores, included in Python 3.6.9 package) \n",
    "* itertools (for performing operations on iterables)\n",
    "* nltk 3.5 (Natural Language Toolkit, installed and imported)\n",
    "* nltk.collocations (for finding bigrams, installed and imported)\n",
    "* nltk.tokenize (for tokenization, installed and imported)\n",
    "* nltk.stem (for stemming the tokens, installed and imported)\n",
    "\n",
    "    </div>"
   ]
  },
  {
   "cell_type": "markdown",
   "metadata": {
    "id": "xnnLnFnLlDEU"
   },
   "source": [
    "<div class=\"alert alert-block alert-info\">\n",
    "    \n",
    "## Table of Contents\n",
    "\n",
    "</div>\n",
    "\n",
    "[1. Introduction](#Intro) <br>\n",
    "[2. Importing Libraries](#libs) <br>\n",
    "[3. Examining Input File](#examine) <br>\n",
    "[4. Loading and Parsing Files](#load) <br>\n",
    "$\\;\\;\\;\\;$[4.1. Tokenization](#tokenize) <br>\n",
    "$\\;\\;\\;\\;$[4.2. Whatever else](#whetev) <br>\n",
    "$\\;\\;\\;\\;$[4.3. Finding First 200 Bigrams](#bigrams) <br>\n",
    "$\\;\\;\\;\\;$[4.4. Whatever else](#whetev1) <br>\n",
    "[5. Writing Output Files](#write) <br>\n",
    "$\\;\\;\\;\\;$[5.1. Vocabulary List](#write-vocab) <br>\n",
    "$\\;\\;\\;\\;$[5.2. Sparse Matrix](#write-sparseMat) <br>\n",
    "[6. Summary](#summary) <br>\n",
    "[7. References](#Ref) <br>"
   ]
  },
  {
   "cell_type": "markdown",
   "metadata": {
    "id": "z8mo6PPRlDEU"
   },
   "source": [
    "<div class=\"alert alert-block alert-success\">\n",
    "    \n",
    "## 1.  Introduction  <a class=\"anchor\" name=\"Intro\"></a>"
   ]
  },
  {
   "cell_type": "markdown",
   "metadata": {
    "id": "ewZrff73lDEV"
   },
   "source": [
    "This assessment concerns textual data and the aim is to extract data, process them, and transform them into a proper format. The dataset provided is in the format of a PDF file containing ...."
   ]
  },
  {
   "cell_type": "markdown",
   "metadata": {
    "id": "bSr_kwKclDEV"
   },
   "source": [
    "<div class=\"alert alert-block alert-success\">\n",
    "    \n",
    "## 2.  Importing Libraries  <a class=\"anchor\" name=\"libs\"></a>"
   ]
  },
  {
   "cell_type": "markdown",
   "metadata": {
    "id": "acwZw2NklDEW"
   },
   "source": [
    "In this assessment, any python packages is permitted to be used. The following packages were used to accomplish the related tasks:\n",
    "\n",
    "* **os:** to interact with the operating system, e.g. navigate through folders to read files\n",
    "* **re:** to define and use regular expressions\n",
    "* **pandas:** to work with dataframes\n",
    "* **multiprocessing:** to perform processes on multi cores for fast performance \n",
    "...."
   ]
  },
  {
   "cell_type": "code",
   "execution_count": 2,
   "metadata": {
    "id": "qgmGWs8HlDEW"
   },
   "outputs": [],
   "source": [
    "import os\n",
    "import re\n",
    "import pandas as pd\n",
    "import multiprocessing\n",
    "from itertools import chain\n",
    "import nltk\n",
    "from nltk.probability import *\n",
    "from nltk.collocations import *\n",
    "from nltk.tokenize import RegexpTokenizer\n",
    "from nltk.tokenize import MWETokenizer\n",
    "from nltk.stem import PorterStemmer\n",
    "from nltk.util import ngrams\n",
    "import tabula\n",
    "import time\n",
    "import requests\n",
    "import nltk.data\n",
    "from PyPDF2 import PdfReader\n",
    "from functools import reduce\n"
   ]
  },
  {
   "cell_type": "code",
   "execution_count": null,
   "metadata": {},
   "outputs": [],
   "source": []
  },
  {
   "cell_type": "markdown",
   "metadata": {
    "id": "lwNp0KnWlDEX"
   },
   "source": [
    "-------------------------------------"
   ]
  },
  {
   "cell_type": "markdown",
   "metadata": {
    "collapsed": true,
    "id": "SA7fSJiRlDEY"
   },
   "source": [
    "<div class=\"alert alert-block alert-success\">\n",
    "    \n",
    "## 3.  Examining Input File <a class=\"anchor\" name=\"examine\"></a>"
   ]
  },
  {
   "cell_type": "code",
   "execution_count": null,
   "metadata": {
    "id": "bPCuEl8smTHW"
   },
   "outputs": [],
   "source": [
    "from google.colab import drive\n",
    "drive.mount('/content/drive')"
   ]
  },
  {
   "cell_type": "markdown",
   "metadata": {
    "id": "7CJDLDI6lDEY"
   },
   "source": [
    "Let's examine what is the content of the file. For this purpose, .... "
   ]
  },
  {
   "cell_type": "code",
   "execution_count": 3,
   "metadata": {
    "id": "RyLbqkRxmCEZ"
   },
   "outputs": [],
   "source": [
    "df = tabula.read_pdf(\"31339646.pdf\",pages=(1,2,3,4,5))"
   ]
  },
  {
   "cell_type": "markdown",
   "metadata": {},
   "source": [
    "The tabula.read_pdf() function is being used to read data from the PDF file named \"31339646.pdf\". The function reads the specified pages (1, 2, 3, 4, and 5) from the PDF file and attempts to extract tables from the pages.\n",
    "This function will return a pandas DataFrame object, which is a two-dimensional labeled data structure."
   ]
  },
  {
   "cell_type": "code",
   "execution_count": 2,
   "metadata": {
    "id": "0SA37sl0lDEa"
   },
   "outputs": [],
   "source": [
    "for r3 in range(5):\n",
    "    for r in range(len(df[r3])):\n",
    "        r1 = requests.get(df[r3].iloc[r][1],allow_redirects=True)\n",
    "        open(df[r3]['filename'][r],'wb').write(r1.content)\n",
    "    time.sleep(1300)    "
   ]
  },
  {
   "cell_type": "markdown",
   "metadata": {},
   "source": [
    "For each row, the code prints the value of the second column of the row, which contains the URL pointing to the pdf download file. Then the code uses the requests library to download the content of the file at the URL, the requests.get() function takes  this as input and returns a Response object that contains the content of the response received from the server. The allow_redirects=True parameter allows the function to follow any redirects that may be specified by the server.\n",
    "The content of the response is then written to a file with the name specified in the filename column of the same row. The open() function is used to open a file with the specified name in binary write mode ('wb'). The write() method is then used to write the content of the response to the file. The code then sleeps for 1300 seconds using the time.sleep() function. This is done to avoid overloading the server with too many requests in a short period of time which leads to partial downloads.\n"
   ]
  },
  {
   "cell_type": "markdown",
   "metadata": {
    "collapsed": true,
    "id": "ENnHWjoXlDEc"
   },
   "source": [
    "<div class=\"alert alert-block alert-success\">\n",
    "    \n",
    "## 4.  Loading and Parsing File <a class=\"anchor\" name=\"load\"></a>"
   ]
  },
  {
   "cell_type": "markdown",
   "metadata": {
    "id": "N9esGMx8lDEc"
   },
   "source": [
    "In this section we load and extract the data"
   ]
  },
  {
   "cell_type": "code",
   "execution_count": 4,
   "metadata": {
    "id": "YsnRR2c4lDEc"
   },
   "outputs": [],
   "source": [
    "text_list = []\n",
    "#intializing list\n",
    "for r10 in range(5):\n",
    "    for r2 in range(len(df[r10])):\n",
    "        reader = PdfReader(df[r10]['filename'][r2])\n",
    "        number_of_pages = len(reader.pages)\n",
    "        text_all = ''\n",
    "        for h in range(number_of_pages):\n",
    "            page = reader.pages[h]\n",
    "            text = page.extract_text()\n",
    "            text_all = text_all + ' ' + text\n",
    "        text_list.append(text_all)\n",
    "        "
   ]
  },
  {
   "cell_type": "markdown",
   "metadata": {},
   "source": [
    "Using this function we read all the text from the pdf files respectively and save them as strings in the form of a list with each element being the all text from its respective pdf. For each row it reads the PDF file and obtains the number of pages in the file. It iterates over each page in the file, extracts the text from the page using the extract_text() method, and concatenates all the text from the pages into a single string."
   ]
  },
  {
   "cell_type": "code",
   "execution_count": 5,
   "metadata": {},
   "outputs": [],
   "source": [
    "doc_names = []\n",
    "#intializing list\n",
    "for r54 in range(5):\n",
    "    for r55 in range(len(df[r54])):\n",
    "        r56 = re.sub('.pdf', '', df[r54]['filename'][r55])\n",
    "        doc_names.append(r56)"
   ]
  },
  {
   "cell_type": "markdown",
   "metadata": {},
   "source": [
    "The following code is used to get a list of all the document names for the pdf files we downloaded before"
   ]
  },
  {
   "cell_type": "code",
   "execution_count": 6,
   "metadata": {},
   "outputs": [],
   "source": [
    "text_list_clean = []\n",
    "#intializing list\n",
    "for tex in text_list:\n",
    "    tex1 = re.sub(r'\\x0b','ff',tex,re.DOTALL)\n",
    "    tex2 = re.sub(r'\\x0c','fi',tex1,re.DOTALL)\n",
    "    tex3 = re.sub(r'\\x0e','ffi',tex2,re.DOTALL)\n",
    "    tex4 = re.sub(r'\\x0f','ffl',tex3,re.DOTALL)\n",
    "    tex5 = re.sub(r'\\n',' ',tex4,re.DOTALL)\n",
    "    tex6 = re.sub(r'-\\n',' ',tex5,re.DOTALL )\n",
    "    text_list_clean.append(tex6)"
   ]
  },
  {
   "cell_type": "markdown",
   "metadata": {
    "id": "-uh9oUXAlDEd"
   },
   "source": [
    "The following code is used to clean the text of the unicode values which may have been not read and coverted properly by the pdf reader. So we have found the possible values of the encoding and we substitute them into the text instead of the unicode using the sub function from the re library. We also clean the new line characters from the text."
   ]
  },
  {
   "cell_type": "code",
   "execution_count": 7,
   "metadata": {
    "id": "vUZuFeuQlDEd"
   },
   "outputs": [],
   "source": [
    "text_list1 = []\n",
    "#intializing list\n",
    "for v1 in text_list_clean:\n",
    "    v2 = re.findall(r'Paper Body(.+) References', v1,re.DOTALL)\n",
    "    for v3 in v2:\n",
    "        text_list1.append(v3)"
   ]
  },
  {
   "cell_type": "markdown",
   "metadata": {},
   "source": [
    "The resulting list text_list1 contains all the text that was found between the string \"Paper Body\" and the string \"References\" in each item of the text_list_clean list."
   ]
  },
  {
   "cell_type": "code",
   "execution_count": 8,
   "metadata": {},
   "outputs": [],
   "source": [
    "text_abstract = []\n",
    "#intializing list\n",
    "for v1 in text_list_clean:\n",
    "    v2 = re.findall(r'Abstract(.+)Paper Body', v1,re.DOTALL)\n",
    "    for v3 in v2:\n",
    "        text_abstract.append(v3)"
   ]
  },
  {
   "cell_type": "markdown",
   "metadata": {},
   "source": [
    "The resulting list text_abstract contains all the text that was found between the string \"Abstract\" and the string \"Paper Body\" in each item of the text_list_clean list."
   ]
  },
  {
   "cell_type": "markdown",
   "metadata": {
    "collapsed": true,
    "id": "VIfQCD1VlDEe"
   },
   "source": [
    "<div class=\"alert alert-block alert-warning\">\n",
    "    \n",
    "### 4.1. Tokenization <a class=\"anchor\" name=\"tokenize\"></a>"
   ]
  },
  {
   "cell_type": "markdown",
   "metadata": {
    "id": "gchByyjolDEf"
   },
   "source": [
    "Tokenization is a principal step in text processing and producing unigrams and bigrams. In this section we will be doing that"
   ]
  },
  {
   "cell_type": "code",
   "execution_count": 9,
   "metadata": {},
   "outputs": [],
   "source": [
    "sent_detector = nltk.data.load('tokenizers/punkt/english.pickle')\n",
    "#loading the ntlk pre trained data model for sentence segmentation \n",
    "for index,i20 in enumerate(text_list1):\n",
    "    e2 = sent_detector.tokenize(i20.strip())\n",
    "    for i, e3 in enumerate(e2):\n",
    "        if e2[i][0].isupper():\n",
    "            e4 = e2[i].split()\n",
    "            e5 = list(e4[0])\n",
    "            e5[0] = e5[0].lower()\n",
    "            e5 = ''.join(e5)\n",
    "            e4[0] = e5\n",
    "            e2[i] =  ' '.join(e4)\n",
    "    text_list1[index] = ' '.join(e2)  "
   ]
  },
  {
   "cell_type": "markdown",
   "metadata": {},
   "source": [
    "In the first line of code we load a pre-trained sentence tokenizer for English language, which is stored as a pickle file and is called punkt. We then use this tokenize the text into sentences and then check if the start of every sentence is in upper case using the isupper function and slicing the data. If it is upper then we convert it to lower case and replace its value with this. Then we just rejoin all of the tokens again to the text for each paper body in the list. "
   ]
  },
  {
   "cell_type": "code",
   "execution_count": 10,
   "metadata": {
    "id": "p8zT4N0RlDEf"
   },
   "outputs": [],
   "source": [
    "tok_all = []\n",
    "#we can get this list by using the chain command on the token_all list but we will still use this list as it saves us time as  \n",
    "#compared to repeatedly chaining the token_all list. In a way this list is optional but still included.\n",
    "tokens_all = []\n",
    "#intializing list\n",
    "tokenizer = RegexpTokenizer(r\"[A-Za-z]\\w+(?:[-'?]\\w+)?\")\n",
    "for x39 in text_list1:\n",
    "    tokens = tokenizer.tokenize(x39)\n",
    "    tokens_all.append(tokens)\n",
    "    for tok in tokens:\n",
    "        tok_all.append(tok)\n"
   ]
  },
  {
   "cell_type": "markdown",
   "metadata": {
    "collapsed": true,
    "id": "Ve6IZ2I-lDEg"
   },
   "source": [
    "<div class=\"alert alert-block alert-warning\">\n",
    "    \n",
    "### 4.2. Finding First 200 Bigrams and Stopword Removal<a class=\"anchor\" name=\"bigrams\"></a>"
   ]
  },
  {
   "cell_type": "markdown",
   "metadata": {
    "id": "erGhUY2UlDEg"
   },
   "source": [
    "One of the tasks is to find the first 200 bigrams based on frequency. These bigrams should also be included in our vocabulary list. ....."
   ]
  },
  {
   "cell_type": "code",
   "execution_count": 11,
   "metadata": {},
   "outputs": [],
   "source": [
    "stopwords = open('stopwords_en.txt')\n",
    "#loading the stopword file\n",
    "stopword = []\n",
    "#intializing list\n",
    "for line in stopwords:\n",
    "    stopword.append(line)\n",
    "stopword1 = []\n",
    "for x in stopword:\n",
    "    y = re.sub('\\n','',x)\n",
    "    stopword1.append(y)"
   ]
  },
  {
   "cell_type": "markdown",
   "metadata": {},
   "source": [
    "The following code is used to load the stopword text file and clean it by removing the next line character \\n and then appending it into a list stopword1 to be used later for removing stop words."
   ]
  },
  {
   "cell_type": "code",
   "execution_count": 12,
   "metadata": {
    "id": "sgFFtm6qlDEg"
   },
   "outputs": [],
   "source": [
    "bigram_measures = nltk.collocations.BigramAssocMeasures()\n",
    "bigram_finder = nltk.collocations.BigramCollocationFinder.from_words(tok_all)\n",
    "top_200_bigrams = bigram_finder.nbest(bigram_measures.pmi, 200) "
   ]
  },
  {
   "cell_type": "markdown",
   "metadata": {},
   "source": [
    "The first line creates an instance of the BigramAssocMeasures class from the nltk.collocations module. This class provides different metrics to measure the association between bigrams, such as pmi. The second line creates an instance of the BigramCollocationFinder class which is initialized with the words in the tok_all list. This class finds bigrams in the given list  of words. The third line uses the nbest() method of the BigramCollocationFinder object to find the top 200 bigrams based on their significance score. The pmi metric is used to calculate the significance score for each bigram. The resulting list top_200_bigrams contains the 200 most significant bigrams in the tok_all text. "
   ]
  },
  {
   "cell_type": "code",
   "execution_count": 13,
   "metadata": {
    "id": "zpy1-tQalDEg",
    "scrolled": true
   },
   "outputs": [],
   "source": [
    "mwetokenizer = MWETokenizer(top_200_bigrams,separator='__')\n",
    "#mwetokenizer2 = mwetokenizer.tokenize(tok_all)\n",
    "mwe_list = []\n",
    "#intializing list\n",
    "for tk in tokens_all:\n",
    "    mwetokenizer2 = mwetokenizer.tokenize(tk)\n",
    "    mwe_list.append(mwetokenizer2)"
   ]
  },
  {
   "cell_type": "markdown",
   "metadata": {
    "id": "7cbSKT6PlDEg"
   },
   "source": [
    "Having found the top 200 meaningful bigrams, we use the MWETokenizer constructor which takes two arguments: the first argument is a list of MWEs and the second argument is a separator string that is used to join the words in each MWE. We use the top_200_bigrams which is a list of the top 200 most significant bigrams in the text obtained before and the separator argument is set to '__'.\n",
    "\n",
    "The MWETokenizer object is then used to tokenize the tokens again. The tokenize() method of the MWETokenizer object is called for each word in the text, which returns a list of tokens that have been split and joined based on the MWEs. These tokenized sentences are stored in mwe_list which is a list of lists of tokens."
   ]
  },
  {
   "cell_type": "code",
   "execution_count": 14,
   "metadata": {
    "id": "-hDrmwEylDEg"
   },
   "outputs": [],
   "source": [
    "stopwords_set = set(stopword1)\n",
    "stopped_list = []\n",
    "for x20 in mwe_list:\n",
    "    stopped_tokens = [w for w in x20 if w not in stopwords_set]\n",
    "    stopped_list.append(stopped_tokens)    "
   ]
  },
  {
   "cell_type": "markdown",
   "metadata": {},
   "source": [
    "Here we convert the list of stopwords to a set for faster processing and then we use list comprehension to make a new list stopped_list without the stopwords. "
   ]
  },
  {
   "cell_type": "code",
   "execution_count": 15,
   "metadata": {},
   "outputs": [],
   "source": [
    "to_remove = []\n",
    "#intializing list\n",
    "flat_list = [element for sublist in stopped_list for element in sublist]\n",
    "#converting the nested list stopped_list into a flat list\n",
    "for x77 in set(flat_list):\n",
    "    #using set of flat_list to faster processing\n",
    "    x88 = 0\n",
    "    x89 = 0\n",
    "    #instializing the value to 0 for every word \n",
    "    for x78 in stopped_list:\n",
    "        if x77 in x78:\n",
    "            x88 = x88 + 1\n",
    "            #calucating the top 95% occuring words by checking in tokens of each document and adding a 1 if pressent\n",
    "        if x77 not in x78:\n",
    "            x89 = x89 + 1\n",
    "            #calucating the rarely occuring words by checking in tokens of each document and adding a 1 if not present\n",
    "    if x88 > 189:\n",
    "        #190/200 = 95 so greater than 189\n",
    "        to_remove.append(x77)\n",
    "    if x89 > 194:\n",
    "        #5/200 = 2.5 so greater than 195\n",
    "        to_remove.append(x77)"
   ]
  },
  {
   "cell_type": "markdown",
   "metadata": {},
   "source": [
    "here we convert the nested list stopped_list into a flat list and iterate through its set for faster processing. We then create a list to remove to store all the token to be removed after performing our calucations. We compare each token in a set of flat list to all tokens in each document to get the token occuring in 95 or more percent of the documents and those occuring in less than 3% of the documnents. As 90/200 = 95 so greater than 189 and 5/200 = 2.5 so greater than 195."
   ]
  },
  {
   "cell_type": "code",
   "execution_count": 16,
   "metadata": {},
   "outputs": [],
   "source": [
    "#intializing list\n",
    "stopped_list2 = []\n",
    "for x82 in stopped_list:\n",
    "    stopped_list3 = []\n",
    "    for x83 in x82:\n",
    "        if x83 not in to_remove:\n",
    "            if len(x83) > 2:\n",
    "                #removing tokens which are smaller than three characters\n",
    "                stopped_list3.append(x83)\n",
    "    stopped_list2.append(stopped_list3)"
   ]
  },
  {
   "cell_type": "markdown",
   "metadata": {},
   "source": [
    "Here we remove the tokens we found out are to be removed in the step above we iterate through each token and append those which are not in to_remove. We also then remove the tokens which are smaller than three characters and append all of this into nested list stopped_list2 for all the token of each document."
   ]
  },
  {
   "cell_type": "code",
   "execution_count": 17,
   "metadata": {},
   "outputs": [],
   "source": [
    "stemmer = PorterStemmer()\n",
    "stemmed_words = []\n",
    "#intializing list\n",
    "for ste in stopped_list2:\n",
    "    stemmed_words1 = []\n",
    "    for stem in ste:\n",
    "        if '__' not in stem:\n",
    "            stemmed_words1.append(stemmer.stem(stem))\n",
    "        else:\n",
    "            stemmed_words1.append(stem)\n",
    "    stemmed_words.append(stemmed_words1)        "
   ]
  },
  {
   "cell_type": "markdown",
   "metadata": {},
   "source": [
    "Here we initialize an empty list called \"stemmed_words\" to store the stemmed versions of the words. The outer for-loop iterates through each list in the \"stopped_list2\" list. The inner for-loop iterates through each word in the current list, and checks if it contains a double underscore __ using an \"if\" statement. If the word does not contain it it is stemmed using the PorterStemmer algorithm and added to a temporary list called \"stemmed_words1\". If it does contain __ then the word is not stemmed and is simply added to \"stemmed_words1\" as specified in the specifications."
   ]
  },
  {
   "cell_type": "code",
   "execution_count": 18,
   "metadata": {},
   "outputs": [],
   "source": [
    "flat_list = [element for sublist in stemmed_words for element in sublist]\n",
    "flat_list = sorted(set(flat_list))"
   ]
  },
  {
   "cell_type": "markdown",
   "metadata": {},
   "source": [
    "Now we convert this nested list of tokens of each document into a flat list and then make it a set and then use sorted to convert it into a sorted list for creating the vocab file."
   ]
  },
  {
   "cell_type": "markdown",
   "metadata": {},
   "source": [
    "Calucating Document Frequency and count vectorizer"
   ]
  },
  {
   "cell_type": "code",
   "execution_count": 19,
   "metadata": {},
   "outputs": [],
   "source": [
    "new = []\n",
    "for stemmm in stemmed_words:\n",
    "    fd_2 = FreqDist(stemmm)\n",
    "    #getting freqdist of each word in the respective document \n",
    "    new_1 = fd_2.most_common()\n",
    "    new.append(new_1)"
   ]
  },
  {
   "cell_type": "markdown",
   "metadata": {},
   "source": [
    "For each \"stemmm\" list, a FreqDist object is created using the FreqDist() method, it takes a list of tokens of each document and returns a frequency distribution of the tokens, where the keys are the unique tokens and the values are the number of times each token appears in the list. The most_common() method is then called on the FreqDist object to obtain a list of tuples, where each tuple contains a token and its frequency in descending order and the list of tuples is appended to the \"new\" list using the append() method."
   ]
  },
  {
   "cell_type": "markdown",
   "metadata": {},
   "source": [
    "MOST COMMON TERMS IN ABSTRACT"
   ]
  },
  {
   "cell_type": "code",
   "execution_count": 20,
   "metadata": {},
   "outputs": [],
   "source": [
    "sent_detector = nltk.data.load('tokenizers/punkt/english.pickle')\n",
    "for index,i20 in enumerate(text_abstract):\n",
    "    e2 = sent_detector.tokenize(i20.strip())\n",
    "    for i, e3 in enumerate(e2):\n",
    "        if e2[i][0].isupper():\n",
    "            e4 = e2[i].split()\n",
    "            e5 = list(e4[0])\n",
    "            e5[0] = e5[0].lower()\n",
    "            e5 = ''.join(e5)\n",
    "            e4[0] = e5\n",
    "            e2[i] =  ' '.join(e4)\n",
    "    text_abstract[index] = ' '.join(e2)  "
   ]
  },
  {
   "cell_type": "markdown",
   "metadata": {},
   "source": [
    "In the first line of code we load a pre-trained sentence tokenizer for English language, which is stored as a pickle file and is called punkt. We then use this tokenize the text into sentences and then check if the start of every sentence is in upper case using the isupper function and slicing the data. If it is upper then we convert it to lower case and replace its value with this. Then we just rejoin all of the tokens again to the text for each abstract in the list."
   ]
  },
  {
   "cell_type": "code",
   "execution_count": 21,
   "metadata": {},
   "outputs": [],
   "source": [
    "tokens_abstract = []\n",
    "tokenizer = RegexpTokenizer(r\"[A-Za-z]\\w+(?:[-'?]\\w+)?\")\n",
    "for x39 in text_abstract:\n",
    "    tokens = tokenizer.tokenize(x39)\n",
    "    tokens_abstract.append(tokens)"
   ]
  },
  {
   "cell_type": "markdown",
   "metadata": {},
   "source": [
    "We tokenize all the words using the regex give to us and tokenize each word in all the abstracts and store it into a list token abstract. "
   ]
  },
  {
   "cell_type": "code",
   "execution_count": 22,
   "metadata": {},
   "outputs": [],
   "source": [
    "stopwords_set = set(stopword1)\n",
    "stopped_listab = []\n",
    "for x20 in tokens_abstract:\n",
    "    stopped_tokens = [w for w in x20 if w not in stopwords_set]\n",
    "    stopped_listab.append(stopped_tokens) "
   ]
  },
  {
   "cell_type": "markdown",
   "metadata": {},
   "source": [
    "Here we convert the list of stopwords to a set for faster processing and then we use list comprehension to make a new list stopped_list without the stopwords. "
   ]
  },
  {
   "cell_type": "code",
   "execution_count": 23,
   "metadata": {},
   "outputs": [],
   "source": [
    "freq_ab = []\n",
    "flat_listab = [element for sublist in stopped_listab for element in sublist]\n",
    "fd_2 = FreqDist(flat_listab)\n",
    "new_1 = fd_2.most_common(10)\n",
    "common_ab = [nw[0] for nw in new_1]\n",
    "#we get a the top 10 words without the count"
   ]
  },
  {
   "cell_type": "markdown",
   "metadata": {},
   "source": [
    "We get the frequency distribution of the top ten words in the abstract and save it into a variable"
   ]
  },
  {
   "cell_type": "markdown",
   "metadata": {},
   "source": [
    "MOST COMMON TERMS IN TITLES"
   ]
  },
  {
   "cell_type": "code",
   "execution_count": 25,
   "metadata": {},
   "outputs": [],
   "source": [
    "text_listtitle = []\n",
    "for v1 in text_list_clean:\n",
    "    v2 = re.findall(r'^(.+)Authored by', v1,re.DOTALL)\n",
    "    for v3 in v2:\n",
    "        text_listtitle.append(v3.lower())"
   ]
  },
  {
   "cell_type": "markdown",
   "metadata": {},
   "source": [
    "The resulting list text_listtitle contains all the text that was found before the string \"Authored by\" in each document of the text_list_clean list."
   ]
  },
  {
   "cell_type": "code",
   "execution_count": 26,
   "metadata": {},
   "outputs": [],
   "source": [
    "tokens_title = []\n",
    "tokenizer = RegexpTokenizer(r\"[A-Za-z]\\w+(?:[-'?]\\w+)?\")\n",
    "for x39 in text_listtitle:\n",
    "    tokens = tokenizer.tokenize(x39)\n",
    "    tokens_title.append(tokens)"
   ]
  },
  {
   "cell_type": "markdown",
   "metadata": {},
   "source": [
    "We tokenize all the words using the regex give to us and tokenize each word in all the abstracts and store it into a list tokens_title. "
   ]
  },
  {
   "cell_type": "code",
   "execution_count": 27,
   "metadata": {},
   "outputs": [],
   "source": [
    "stopped_listtitle = []\n",
    "#removing the stop words\n",
    "for x20 in tokens_title:\n",
    "    stopped_tokens = [w for w in x20 if w not in stopwords_set]\n",
    "    stopped_listtitle.append(stopped_tokens) "
   ]
  },
  {
   "cell_type": "markdown",
   "metadata": {},
   "source": [
    "removing the stop words"
   ]
  },
  {
   "cell_type": "code",
   "execution_count": 28,
   "metadata": {},
   "outputs": [],
   "source": [
    "freq_title = []\n",
    "flat_listtitle = [element for sublist in stopped_listtitle for element in sublist]\n",
    "fd_3 = FreqDist(flat_listtitle)\n",
    "new_2 = fd_3.most_common(10)\n",
    "common_tittle = [nw[0] for nw in new_2]\n",
    "#we get a the top 10 words without the count"
   ]
  },
  {
   "cell_type": "markdown",
   "metadata": {},
   "source": [
    "We get the frequency distribution of the top ten words in the title and saving it into a variable"
   ]
  },
  {
   "cell_type": "markdown",
   "metadata": {},
   "source": [
    "MOST COMMON AUTHORS"
   ]
  },
  {
   "cell_type": "code",
   "execution_count": 29,
   "metadata": {},
   "outputs": [],
   "source": [
    "text_author = []\n",
    "for v1 in text_list_clean:\n",
    "    v2 = re.findall(r'Authored by:(.+?)Abstract', v1,re.DOTALL)\n",
    "    for v3 in v2:\n",
    "        v4 = re.sub(r'\\?', 'e',v3)\n",
    "        text_author.append(v4)"
   ]
  },
  {
   "cell_type": "markdown",
   "metadata": {},
   "source": [
    "The resulting list text_abstract contains all the text that was found between the string \"Authored by\" and the string \"Abstract\" in each item of the text_list_clean list."
   ]
  },
  {
   "cell_type": "code",
   "execution_count": 30,
   "metadata": {},
   "outputs": [],
   "source": [
    "tokens_author = []\n",
    "tokenizer = RegexpTokenizer(r\"[A-Za-z]\\w+(?:[-'?]\\w+)?\")\n",
    "for x39 in text_author:\n",
    "    tokens = tokenizer.tokenize(x39.lower())\n",
    "    tokens_author.append(tokens)\n",
    "flat_author = [element for sublist in tokens_author for element in sublist]    "
   ]
  },
  {
   "cell_type": "markdown",
   "metadata": {},
   "source": [
    "Tokenizing the authors and the saving as a flat list of all the tokens"
   ]
  },
  {
   "cell_type": "code",
   "execution_count": 31,
   "metadata": {},
   "outputs": [],
   "source": [
    "bigram_measures = nltk.collocations.BigramAssocMeasures()\n",
    "bigram_finder = nltk.collocations.BigramCollocationFinder.from_words(flat_author)\n",
    "top_20_bigrams = bigram_finder.nbest(bigram_measures.pmi, 10) \n",
    "top_10_authors = [nw[0].capitalize() + ' '+ nw[1].capitalize() for nw in top_20_bigrams]"
   ]
  },
  {
   "cell_type": "markdown",
   "metadata": {
    "id": "XmaGJYIJlDEl"
   },
   "source": [
    "<div class=\"alert alert-block alert-success\">\n",
    "    \n",
    "## 5. Writing Output Files <a class=\"anchor\" name=\"write\"></a>"
   ]
  },
  {
   "cell_type": "markdown",
   "metadata": {
    "id": "wjMBqRetlDEl"
   },
   "source": [
    "files need to be generated:\n",
    "* Vocabulary list\n",
    "* Sparse matrix (count_vectors)\n",
    "* Statistics matrix\n",
    "\n",
    "This is performed in the following sections."
   ]
  },
  {
   "cell_type": "markdown",
   "metadata": {
    "id": "Fc6tQ4ljlDEm"
   },
   "source": [
    "<div class=\"alert alert-block alert-warning\">\n",
    "    \n",
    "### 5.1. Vocabulary List <a class=\"anchor\" name=\"write-vocab\"></a>"
   ]
  },
  {
   "cell_type": "code",
   "execution_count": 32,
   "metadata": {
    "id": "Y6OUXHlxlDEm"
   },
   "outputs": [],
   "source": [
    "x = open('tast2_31339646_vocab.txt', 'a+')\n",
    "for ind,li in enumerate(flat_list):\n",
    "    x99 = f'{li}:{ind}' + '\\n'\n",
    "    x.write(x99)\n",
    "x.close()    "
   ]
  },
  {
   "cell_type": "markdown",
   "metadata": {},
   "source": [
    "The first line of the code opens the file \"task2.txt\" in append mode using the 'a+' flag. This mode allows data to be appended to the file if it already exists, and creates a new file if it does not. The code then uses a for-loop to iterate through a list called \"flat_list\" and assigns each value to the variable \"li\" and its index to the variable \"ind\". Inside the loop, a new string is created called \"x99\" that concatenates the value of \"li\" and its corresponding index. The string\" is then written to the file using the write() method. Once the loop has finished iterating through all values in \"flat_list\", the file is closed using the close() method to ensure all data has been written to the file."
   ]
  },
  {
   "cell_type": "markdown",
   "metadata": {
    "id": "YkGH81YFlDEn"
   },
   "source": [
    "<div class=\"alert alert-block alert-warning\">\n",
    "    \n",
    "### 5.2. Count Vectorizer <a class=\"anchor\" name=\"write-sparseMat\"></a>"
   ]
  },
  {
   "cell_type": "markdown",
   "metadata": {
    "id": "EtxqUAwmlDEn"
   },
   "source": [
    "For writing sparse matrix for a paper, we firstly calculate the frequency of words for that paper ...."
   ]
  },
  {
   "cell_type": "code",
   "execution_count": 33,
   "metadata": {
    "id": "__n1fdIqlDEn"
   },
   "outputs": [],
   "source": [
    "x2 = open('tast2_31339646_count_vectors.txt', 'a+')\n",
    "for iidx,new1 in enumerate(new):\n",
    "    x111 = 0\n",
    "    for x999 in new1:\n",
    "        if x111 == 0:\n",
    "            x997 = f'\\n{doc_names[iidx]}'\n",
    "            x2.write(x997)\n",
    "            x111 = 1\n",
    "        x998 = ', ' + f'{flat_list.index(x999[0])} : {x999[1]}'\n",
    "        x2.write(x998)\n",
    "x2.close()    "
   ]
  },
  {
   "cell_type": "markdown",
   "metadata": {},
   "source": [
    "the code is appending the most common words and their frequencies for each document in \"new\" to a text file called \"tast2-1.txt\" in a specific format, where each entry corresponds to a document and its most common words and their frequencies."
   ]
  },
  {
   "cell_type": "markdown",
   "metadata": {
    "id": "YkGH81YFlDEn"
   },
   "source": [
    "<div class=\"alert alert-block alert-warning\">\n",
    "    \n",
    "### 5.3. Most Common CSV <a class=\"anchor\" name=\"write-sparseMat\"></a>"
   ]
  },
  {
   "cell_type": "code",
   "execution_count": 34,
   "metadata": {
    "id": "__n1fdIqlDEn"
   },
   "outputs": [],
   "source": [
    "dic = {'top_ten_terms_in_abstract' : common_ab, 'top_ten_terms': common_tittle, 'top10_authors': top_10_authors}\n",
    "df5 = pd.DataFrame(dic)\n",
    "df5.to_csv('task2_31339646_stats.csv',index=False)"
   ]
  },
  {
   "cell_type": "markdown",
   "metadata": {},
   "source": [
    "Here we save the three columns in the form of a dictionary and make it into a dataframe and then convert it into a csv using to csv"
   ]
  },
  {
   "cell_type": "markdown",
   "metadata": {
    "id": "mUFQU-QXlDEn"
   },
   "source": [
    "-------------------------------------"
   ]
  },
  {
   "cell_type": "markdown",
   "metadata": {
    "id": "HppxDtWNlDEn"
   },
   "source": [
    "<div class=\"alert alert-block alert-success\">\n",
    "    \n",
    "## 7. References <a class=\"anchor\" name=\"Ref\"></a>"
   ]
  },
  {
   "cell_type": "markdown",
   "metadata": {
    "id": "PCkWr-M1lDEo"
   },
   "source": [
    "[1] 3. Data model,https://docs.python.org/3.9/reference/datamodel.html#object.__contains__\n",
    "\n"
   ]
  },
  {
   "cell_type": "markdown",
   "metadata": {
    "id": "mp9O-a1UlDEo"
   },
   "source": [
    "## --------------------------------------------------------------------------------------------------------------------------"
   ]
  },
  {
   "cell_type": "code",
   "execution_count": null,
   "metadata": {},
   "outputs": [],
   "source": []
  }
 ],
 "metadata": {
  "colab": {
   "name": "task2_xxxxxxx.ipynb",
   "provenance": []
  },
  "kernelspec": {
   "display_name": "Python 3",
   "language": "python",
   "name": "python3"
  },
  "language_info": {
   "codemirror_mode": {
    "name": "ipython",
    "version": 3
   },
   "file_extension": ".py",
   "mimetype": "text/x-python",
   "name": "python",
   "nbconvert_exporter": "python",
   "pygments_lexer": "ipython3",
   "version": "3.8.5"
  }
 },
 "nbformat": 4,
 "nbformat_minor": 1
}
